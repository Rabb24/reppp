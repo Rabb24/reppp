{
  "nbformat": 4,
  "nbformat_minor": 0,
  "metadata": {
    "colab": {
      "provenance": []
    },
    "kernelspec": {
      "name": "python3",
      "display_name": "Python 3"
    },
    "language_info": {
      "name": "python"
    }
  },
  "cells": [
    {
      "cell_type": "code",
      "source": [
        "import pandas as pd\n",
        "import matplotlib.pyplot as plt\n",
        "\n",
        "def analyze_days_difference(file_path, start_date_col, end_date_col, date_format=None):\n",
        "    # Wczytanie danych\n",
        "    df = pd.read_csv(file_path)\n",
        "\n",
        "    # Konwersja kolumn na typ datetime z uwzględnieniem formatu dat\n",
        "    if date_format:\n",
        "        df[start_date_col] = pd.to_datetime(df[start_date_col], format=date_format, errors='coerce')\n",
        "        df[end_date_col] = pd.to_datetime(df[end_date_col], format=date_format, errors='coerce')\n",
        "    else:\n",
        "        df[start_date_col] = pd.to_datetime(df[start_date_col], errors='coerce')\n",
        "        df[end_date_col] = pd.to_datetime(df[end_date_col], errors='coerce')\n",
        "\n",
        "    # Usunięcie wierszy z wartościami null w kolumnach dat\n",
        "    df = df.dropna(subset=[start_date_col, end_date_col])\n",
        "\n",
        "    # Obliczenie różnicy dni\n",
        "    df['days_difference'] = (df[end_date_col] - df[start_date_col]).dt.days\n",
        "\n",
        "    # Zliczenie liczby dni\n",
        "    days_count = df['days_difference'].value_counts().sort_index()\n",
        "\n",
        "    # Tworzenie histogramu\n",
        "    plt.figure(figsize=(10, 6))\n",
        "    days_count.plot(kind='bar')\n",
        "    plt.xlabel('Liczba dni')\n",
        "    plt.ylabel('Liczba wystąpień')\n",
        "    plt.title('Histogram liczby dni między datami')\n",
        "    plt.show()\n",
        "\n",
        "# Przykład użycia funkcji\n",
        "analyze_days_difference('nazwa_pliku.csv', 'data_start', 'data_end', date_format='%d-%m-%Y')\n"
      ],
      "metadata": {
        "id": "b_nG3KDxWuDy"
      },
      "execution_count": null,
      "outputs": []
    },
    {
      "cell_type": "code",
      "source": [
        "import pandas as pd\n",
        "import matplotlib.pyplot as plt\n",
        "\n",
        "def analyze_days_difference(file_path, start_date_col, end_date_col, date_format=None):\n",
        "    # Wczytanie danych\n",
        "    df = pd.read_csv(file_path)\n",
        "\n",
        "    # Konwersja kolumn na typ datetime z uwzględnieniem formatu dat\n",
        "    if date_format:\n",
        "        df[start_date_col] = pd.to_datetime(df[start_date_col], format=date_format, errors='coerce')\n",
        "        df[end_date_col] = pd.to_datetime(df[end_date_col], format=date_format, errors='coerce')\n",
        "    else:\n",
        "        df[start_date_col] = pd.to_datetime(df[start_date_col], errors='coerce')\n",
        "        df[end_date_col] = pd.to_datetime(df[end_date_col], errors='coerce')\n",
        "\n",
        "    # Usunięcie wierszy z wartościami null w kolumnach dat\n",
        "    df = df.dropna(subset=[start_date_col, end_date_col])\n",
        "\n",
        "    # Obliczenie różnicy dni\n",
        "    df['days_difference'] = (df[end_date_col] - df[start_date_col]).dt.days\n",
        "\n",
        "    # Zliczenie liczby dni\n",
        "    days_count = df['days_difference'].value_counts().sort_index()\n",
        "\n",
        "    # Obliczenie statystyk\n",
        "    mean_days = df['days_difference'].mean()\n",
        "    std_dev_days = df['days_difference'].std()\n",
        "    median_days = df['days_difference'].median()\n",
        "\n",
        "    # Wyświetlenie statystyk\n",
        "    print(f\"Średnia liczba dni: {mean_days}\")\n",
        "    print(f\"Odchylenie standardowe liczby dni: {std_dev_days}\")\n",
        "    print(f\"Mediana liczby dni: {median_days}\")\n",
        "\n",
        "    # Tworzenie histogramu\n",
        "    plt.figure(figsize=(10, 6))\n",
        "    days_count.plot(kind='bar')\n",
        "    plt.xlabel('Liczba dni')\n",
        "    plt.ylabel('Liczba wystąpień')\n",
        "    plt.title('Histogram liczby dni między datami')\n",
        "    plt.show()\n",
        "\n",
        "# Przykład użycia funkcji\n",
        "analyze_days_difference('nazwa_pliku.csv', 'data_start', 'data_end', date_format='%d-%m-%Y')\n"
      ],
      "metadata": {
        "id": "kGu6fENUWuGG"
      },
      "execution_count": null,
      "outputs": []
    },
    {
      "cell_type": "code",
      "source": [
        "def calculate_statistics(days_difference_series):\n",
        "    \"\"\"\n",
        "    Oblicza statystyki dla podanej serii różnicy dni.\n",
        "\n",
        "    Parametry:\n",
        "    days_difference_series (pd.Series): Seria Pandas zawierająca różnice dni.\n",
        "\n",
        "    Zwraca:\n",
        "    dict: Słownik zawierający średnią, odchylenie standardowe oraz medianę.\n",
        "    \"\"\"\n",
        "    mean_days = days_difference_series.mean()\n",
        "    std_dev_days = days_difference_series.std()\n",
        "    median_days = days_difference_series.median()\n",
        "\n",
        "    statistics = {\n",
        "        'mean': mean_days,\n",
        "        'std_dev': std_dev_days,\n",
        "        'median': median_days\n",
        "    }\n",
        "\n",
        "    return statistics\n",
        "\n",
        "# Przykład użycia\n",
        "# Załóżmy, że df['days_difference'] zawiera już obliczone różnice dni\n",
        "statistics = calculate_statistics(df['days_difference'])\n",
        "print(f\"Średnia liczba dni: {statistics['mean']}\")\n",
        "print(f\"Odchylenie standardowe liczby dni: {statistics['std_dev']}\")\n",
        "print(f\"Mediana liczby dni: {statistics['median']}\")\n"
      ],
      "metadata": {
        "id": "k1EGrIuqWuJw"
      },
      "execution_count": null,
      "outputs": []
    },
    {
      "cell_type": "code",
      "source": [
        "import pandas as pd\n",
        "\n",
        "def calculate_statistics_with_describe(days_difference_series):\n",
        "    \"\"\"\n",
        "    Oblicza podstawowe statystyki opisowe dla podanej serii różnicy dni za pomocą funkcji describe().\n",
        "\n",
        "    Parametry:\n",
        "    days_difference_series (pd.Series): Seria Pandas zawierająca różnice dni.\n",
        "\n",
        "    Zwraca:\n",
        "    pd.Series: Seria zawierająca podstawowe statystyki opisowe.\n",
        "    \"\"\"\n",
        "    statistics = days_difference_series.describe()\n",
        "    return statistics\n",
        "\n",
        "# Przykład użycia\n",
        "# Zakładamy, że df['days_difference'] zawiera już obliczone różnice dni\n",
        "statistics = calculate_statistics_with_describe(df['days_difference'])\n",
        "\n",
        "# Wyświetlenie wyników\n",
        "print(statistics)\n"
      ],
      "metadata": {
        "id": "lUxXCnfbWKwg"
      },
      "execution_count": null,
      "outputs": []
    },
    {
      "cell_type": "code",
      "source": [
        "import pandas as pd\n",
        "\n",
        "def calculate_statistics_with_describe(days_difference_series):\n",
        "    \"\"\"\n",
        "    Oblicza podstawowe statystyki opisowe dla podanej serii różnicy dni za pomocą funkcji describe().\n",
        "\n",
        "    Parametry:\n",
        "    days_difference_series (pd.Series): Seria Pandas zawierająca różnice dni.\n",
        "\n",
        "    Zwraca:\n",
        "    pd.DataFrame: Tabela zawierająca podstawowe statystyki opisowe.\n",
        "    \"\"\"\n",
        "    statistics = days_difference_series.describe()\n",
        "    statistics_df = pd.DataFrame(statistics).T\n",
        "    return statistics_df\n",
        "\n",
        "# Przykład użycia\n",
        "# Zakładamy, że df['days_difference'] zawiera już obliczone różnice dni\n",
        "statistics_df = calculate_statistics_with_describe(df['days_difference'])\n",
        "\n",
        "# Wyświetlenie tabeli\n",
        "import ace_tools as tools; tools.display_dataframe_to_user(name=\"Statystyki opisowe\", dataframe=statistics_df)\n"
      ],
      "metadata": {
        "id": "Jhyg8GOWWK9n"
      },
      "execution_count": null,
      "outputs": []
    }
  ]
}