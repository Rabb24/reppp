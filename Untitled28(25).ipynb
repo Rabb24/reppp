{
  "nbformat": 4,
  "nbformat_minor": 0,
  "metadata": {
    "colab": {
      "provenance": []
    },
    "kernelspec": {
      "name": "python3",
      "display_name": "Python 3"
    },
    "language_info": {
      "name": "python"
    }
  },
  "cells": [
    {
      "cell_type": "code",
      "source": [
        "import pandas as pd\n",
        "\n",
        "def print_unique_values(csv_file, columns):\n",
        "    # Wczytaj dane z pliku CSV\n",
        "    df = pd.read_csv(csv_file)\n",
        "\n",
        "    # Iteracja po wybranych kolumnach\n",
        "    for column in columns:\n",
        "        if column in df.columns:\n",
        "            unique_values = df[column].unique()\n",
        "            print(f\"Unikatowe wartości w kolumnie '{column}':\")\n",
        "            print(unique_values)\n",
        "            print(\"\\n\")  # Dodanie odstępu pomiędzy wynikami dla kolumn\n",
        "        else:\n",
        "            print(f\"Kolumna '{column}' nie istnieje w pliku CSV.\\n\")\n",
        "\n",
        "# Przykład użycia funkcji\n",
        "csv_file = 'twoj_plik.csv'  # Zamień na nazwę swojego pliku CSV\n",
        "columns_to_check = ['kolumna1', 'kolumna2', 'kolumna3']  # Zamień na listę kolumn, które chcesz sprawdzić\n",
        "\n",
        "# Wywołanie funkcji\n",
        "print_unique_values(csv_file, columns_to_check)\n"
      ],
      "metadata": {
        "id": "mZrx1o4DmH7c"
      },
      "execution_count": null,
      "outputs": []
    }
  ]
}