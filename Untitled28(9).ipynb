{
  "nbformat": 4,
  "nbformat_minor": 0,
  "metadata": {
    "colab": {
      "provenance": []
    },
    "kernelspec": {
      "name": "python3",
      "display_name": "Python 3"
    },
    "language_info": {
      "name": "python"
    }
  },
  "cells": [
    {
      "cell_type": "code",
      "source": [
        "import pandas as pd\n",
        "import matplotlib.pyplot as plt\n",
        "\n",
        "def analyze_numeric_columns(file_path, date_column):\n",
        "    # Wczytanie danych z pliku CSV\n",
        "    df = pd.read_csv(file_path)\n",
        "\n",
        "    # Konwersja kolumny daty na datetime\n",
        "    df[date_column] = pd.to_datetime(df[date_column])\n",
        "\n",
        "    # Dodanie kolumny miesiąc i rok\n",
        "    df['month'] = df[date_column].dt.month\n",
        "    df['year'] = df[date_column].dt.year\n",
        "\n",
        "    # Wybór kolumn z wartościami liczbowymi\n",
        "    numeric_columns = df.select_dtypes(include='number').columns.tolist()\n",
        "\n",
        "    # Tworzenie słownika do przechowywania statystyk opisowych dla każdego miesiąca\n",
        "    monthly_descriptions = {col: [] for col in numeric_columns}\n",
        "\n",
        "    # Lista miesięcy od lipca 2023 do czerwca 2024\n",
        "    periods = [(2023, month) for month in range(7, 13)] + [(2024, month) for month in range(1, 7)]\n",
        "\n",
        "    for year, month in periods:\n",
        "        monthly_data = df[(df['year'] == year) & (df['month'] == month)]\n",
        "        if not monthly_data.empty:\n",
        "            for col in numeric_columns:\n",
        "                desc = monthly_data[col].describe()\n",
        "                desc['year_month'] = f\"{year}-{month:02d}\"\n",
        "                monthly_descriptions[col].append(desc)\n",
        "\n",
        "    # Konwersja wyników do DataFrame\n",
        "    description_dfs = {col: pd.DataFrame(descs) for col, descs in monthly_descriptions.items()}\n",
        "\n",
        "    return description_dfs\n",
        "\n",
        "def plot_numeric_columns(description_dfs):\n",
        "    for col, df in description_dfs.items():\n",
        "        if not df.empty:\n",
        "            df.set_index('year_month', inplace=True)\n",
        "            df.sort_index(inplace=True)\n",
        "\n",
        "            plt.figure(figsize=(12, 6))\n",
        "            plt.plot(df.index, df['mean'], marker='o', label='Mean')\n",
        "            plt.fill_between(df.index, df['25%'], df['75%'], color='gray', alpha=0.2, label='Interquartile Range')\n",
        "            plt.title(f'{col} over Time')\n",
        "            plt.xlabel('Month')\n",
        "            plt.ylabel(col)\n",
        "            plt.xticks(rotation=45)\n",
        "            plt.legend()\n",
        "            plt.grid(True)\n",
        "            plt.tight_layout()\n",
        "            plt.show()\n",
        "\n",
        "# Ścieżka do pliku CSV i nazwa kolumny z datą\n",
        "file_path = 'path_to_your_file.csv'\n",
        "date_column = 'date'\n",
        "\n",
        "# Analiza kolumn z wartościami liczbowymi\n",
        "description_dfs = analyze_numeric_columns(file_path, date_column)\n",
        "\n",
        "# Tworzenie wykresów\n",
        "plot_numeric_columns(description_dfs)\n"
      ],
      "metadata": {
        "id": "8L0xqrF-Ys8Z"
      },
      "execution_count": null,
      "outputs": []
    },
    {
      "cell_type": "code",
      "source": [],
      "metadata": {
        "id": "kAuL5uclYs2E"
      },
      "execution_count": null,
      "outputs": []
    }
  ]
}