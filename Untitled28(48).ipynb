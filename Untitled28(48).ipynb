{
  "nbformat": 4,
  "nbformat_minor": 0,
  "metadata": {
    "colab": {
      "provenance": []
    },
    "kernelspec": {
      "name": "python3",
      "display_name": "Python 3"
    },
    "language_info": {
      "name": "python"
    }
  },
  "cells": [
    {
      "cell_type": "code",
      "source": [
        "from docx import Document\n",
        "\n",
        "def read_docx_file(file_path):\n",
        "    \"\"\"\n",
        "    Odczytuje zawartość pliku DOCX i zwraca jego tekst.\n",
        "\n",
        "    :param file_path: Ścieżka do pliku .docx\n",
        "    :return: Zawartość pliku jako string\n",
        "    \"\"\"\n",
        "    # Otwórz plik DOCX\n",
        "    doc = Document(file_path)\n",
        "\n",
        "    # Zbierz tekst z każdej paragrafu\n",
        "    full_text = []\n",
        "    for paragraph in doc.paragraphs:\n",
        "        full_text.append(paragraph.text)\n",
        "\n",
        "    # Połącz wszystkie paragrafy w jeden ciąg tekstu\n",
        "    return '\\n'.join(full_text)\n",
        "\n",
        "# Przykład użycia:\n",
        "file_path = \"example.docx\"\n",
        "docx_content = read_docx_file(file_path)\n",
        "print(docx_content)\n"
      ],
      "metadata": {
        "id": "4QvtzTNuXJu2"
      },
      "execution_count": null,
      "outputs": []
    },
    {
      "cell_type": "code",
      "source": [],
      "metadata": {
        "id": "_U-ghc9mXJzn"
      },
      "execution_count": null,
      "outputs": []
    },
    {
      "cell_type": "code",
      "source": [],
      "metadata": {
        "id": "bBRZOs5uXJ3N"
      },
      "execution_count": null,
      "outputs": []
    }
  ]
}