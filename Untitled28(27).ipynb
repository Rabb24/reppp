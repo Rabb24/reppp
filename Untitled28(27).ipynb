{
  "nbformat": 4,
  "nbformat_minor": 0,
  "metadata": {
    "colab": {
      "provenance": []
    },
    "kernelspec": {
      "name": "python3",
      "display_name": "Python 3"
    },
    "language_info": {
      "name": "python"
    }
  },
  "cells": [
    {
      "cell_type": "code",
      "source": [
        "import pandas as pd\n",
        "\n",
        "def filter_parquet_based_on_csv(parquet_file, csv_file, id_column, x_column):\n",
        "    # Wczytaj plik CSV\n",
        "    df_csv = pd.read_csv(csv_file)\n",
        "\n",
        "    # Wczytaj plik Parquet\n",
        "    df_parquet = pd.read_parquet(parquet_file)\n",
        "\n",
        "    # Filtruj wiersze w pliku CSV, gdzie kolumna x ma wartość 0\n",
        "    filtered_csv = df_csv[df_csv[x_column] == 0]\n",
        "\n",
        "    # Filtruj wiersze w pliku Parquet, gdzie kolumna x ma wartość 1\n",
        "    filtered_parquet = df_parquet[df_parquet[x_column] == 1]\n",
        "\n",
        "    # Znajdź wiersze w pliku Parquet, które mają to samo id, ale różnią się wartością x między CSV i Parquet\n",
        "    result = filtered_parquet[filtered_parquet[id_column].isin(filtered_csv[id_column])]\n",
        "\n",
        "    # Wypisz wynik\n",
        "    print(result)\n",
        "\n",
        "# Przykład użycia:\n",
        "# filter_parquet_based_on_csv('plik.parquet', 'plik.csv', 'id_kolumna', 'x_kolumna')\n"
      ],
      "metadata": {
        "id": "5gr-Qt903ku_"
      },
      "execution_count": null,
      "outputs": []
    },
    {
      "cell_type": "code",
      "source": [
        "filter_parquet_based_on_csv('data.parquet', 'data.csv', 'id', 'x')"
      ],
      "metadata": {
        "id": "9iGSEZnQL8Ct"
      },
      "execution_count": null,
      "outputs": []
    },
    {
      "cell_type": "code",
      "source": [
        "def filter_parquet_based_on_csv(parquet_file, csv_file, id_column, x_column, output_csv=None):\n",
        "    # ... reszta funkcji bez zmian ...\n",
        "\n",
        "    if output_csv:\n",
        "        result.to_csv(output_csv, index=False)\n",
        "        print(f\"Wyniki zapisane do {output_csv}\")\n",
        "    else:\n",
        "        print(result)\n"
      ],
      "metadata": {
        "id": "qb24m3M7L8E3"
      },
      "execution_count": null,
      "outputs": []
    },
    {
      "cell_type": "code",
      "source": [],
      "metadata": {
        "id": "zweot-mKL8HU"
      },
      "execution_count": null,
      "outputs": []
    },
    {
      "cell_type": "code",
      "source": [
        "import pandas as pd\n",
        "\n",
        "def filter_parquet_based_on_csv(parquet_file, csv_file, id_column, x_column, output_csv):\n",
        "    # Wczytaj plik CSV\n",
        "    df_csv = pd.read_csv(csv_file)\n",
        "\n",
        "    # Wczytaj plik Parquet\n",
        "    df_parquet = pd.read_parquet(parquet_file)\n",
        "\n",
        "    # Filtruj wiersze w pliku CSV, gdzie kolumna x ma wartość 0\n",
        "    filtered_csv = df_csv[df_csv[x_column] == 0]\n",
        "\n",
        "    # Filtruj wiersze w pliku Parquet, gdzie kolumna x ma wartość 1\n",
        "    filtered_parquet = df_parquet[df_parquet[x_column] == 1]\n",
        "\n",
        "    # Znajdź wiersze w pliku Parquet, które mają to samo id, ale różnią się wartością x między CSV i Parquet\n",
        "    result = filtered_parquet[filtered_parquet[id_column].isin(filtered_csv[id_column])]\n",
        "\n",
        "    # Zapisz wynik do pliku CSV\n",
        "    result.to_csv(output_csv, index=False)\n",
        "    print(f\"Wyniki zapisane do {output_csv}\")\n",
        "\n",
        "# Przykład użycia:\n",
        "# filter_parquet_based_on_csv('plik.parquet', 'plik.csv', 'id_kolumna', 'x_kolumna', 'wynik.csv')\n"
      ],
      "metadata": {
        "id": "nqvZyRy9L8Kv"
      },
      "execution_count": null,
      "outputs": []
    },
    {
      "cell_type": "code",
      "source": [
        "filter_parquet_based_on_csv('data.parquet', 'data.csv', 'id', 'x', 'filtered_output.csv')"
      ],
      "metadata": {
        "id": "EBi5QC1I3k3W"
      },
      "execution_count": null,
      "outputs": []
    },
    {
      "cell_type": "code",
      "source": [],
      "metadata": {
        "id": "wz-URnasNPi7"
      },
      "execution_count": null,
      "outputs": []
    },
    {
      "cell_type": "code",
      "source": [
        "import pandas as pd\n",
        "import os\n",
        "\n",
        "def filter_parquet_based_on_multiple_csv(parquet_file, csv_folder, id_column, x_column, output_csv):\n",
        "    # Inicjalizuj pusty DataFrame do przechowywania przefiltrowanych danych z CSV\n",
        "    combined_csv = pd.DataFrame()\n",
        "\n",
        "    # Przeszukaj wszystkie pliki CSV w folderze\n",
        "    for csv_file in os.listdir(csv_folder):\n",
        "        if csv_file.endswith('.csv'):\n",
        "            # Wczytaj plik CSV\n",
        "            df_csv = pd.read_csv(os.path.join(csv_folder, csv_file))\n",
        "\n",
        "            # Filtruj wiersze w pliku CSV, gdzie kolumna x ma wartość 0\n",
        "            filtered_csv = df_csv[df_csv[x_column] == 0]\n",
        "\n",
        "            # Dodaj przefiltrowane dane do skumulowanego DataFrame\n",
        "            combined_csv = pd.concat([combined_csv, filtered_csv])\n",
        "\n",
        "    # Wczytaj plik Parquet\n",
        "    df_parquet = pd.read_parquet(parquet_file)\n",
        "\n",
        "    # Filtruj wiersze w pliku Parquet, gdzie kolumna x ma wartość 1\n",
        "    filtered_parquet = df_parquet[df_parquet[x_column] == 1]\n",
        "\n",
        "    # Znajdź wiersze w pliku Parquet, które mają to samo id, ale różnią się wartością x między CSV i Parquet\n",
        "    result = filtered_parquet[filtered_parquet[id_column].isin(combined_csv[id_column])]\n",
        "\n",
        "    # Zapisz wynik do pliku CSV\n",
        "    result.to_csv(output_csv, index=False)\n",
        "    print(f\"Wyniki zapisane do {output_csv}\")\n",
        "\n",
        "# Przykład użycia:\n",
        "# filter_parquet_based_on_multiple_csv('plik.parquet', 'folder_z_csv', 'id_kolumna', 'x_kolumna', 'wynik.csv')\n"
      ],
      "metadata": {
        "id": "pN4_caMgNPqa"
      },
      "execution_count": null,
      "outputs": []
    },
    {
      "cell_type": "code",
      "source": [
        "import pandas as pd\n",
        "import os\n",
        "\n",
        "def filter_parquet_based_on_multiple_csv(parquet_file, csv_folder, id_column, x_column, output_csv):\n",
        "    # Inicjalizuj pusty DataFrame do przechowywania przefiltrowanych danych z CSV\n",
        "    combined_csv = pd.DataFrame()\n",
        "\n",
        "    # Przeszukaj wszystkie pliki CSV w folderze\n",
        "    for csv_file in os.listdir(csv_folder):\n",
        "        if csv_file.endswith('.csv'):\n",
        "            # Wczytaj plik CSV\n",
        "            df_csv = pd.read_csv(os.path.join(csv_folder, csv_file))\n",
        "\n",
        "            # Filtruj wiersze w pliku CSV, gdzie kolumna x ma wartość 0\n",
        "            filtered_csv = df_csv[df_csv[x_column] == 0]\n",
        "\n",
        "            # Dodaj przefiltrowane dane do skumulowanego DataFrame\n",
        "            combined_csv = pd.concat([combined_csv, filtered_csv])\n",
        "\n",
        "    # Wczytaj plik Parquet\n",
        "    df_parquet = pd.read_parquet(parquet_file)\n",
        "\n",
        "    # Filtruj wiersze w pliku Parquet, gdzie kolumna x ma wartość 1\n",
        "    filtered_parquet = df_parquet[df_parquet[x_column] == 1]\n",
        "\n",
        "    # Znajdź wiersze w pliku Parquet, które mają to samo id, ale różnią się wartością x między CSV i Parquet\n",
        "    result = filtered_parquet[filtered_parquet[id_column].isin(combined_csv[id_column])]\n",
        "\n",
        "    # Zapisz wynik do pliku CSV\n",
        "    result.to_csv(output_csv, index=False)\n",
        "    print(f\"Wyniki zapisane do {output_csv}\")\n",
        "\n",
        "# Przykład użycia:\n",
        "# filter_parquet_based_on_multiple_csv('plik.parquet', 'folder_z_csv', 'id_kolumna', 'x_kolumna', 'wynik.csv')\n"
      ],
      "metadata": {
        "id": "-JNm_U5yNPsk"
      },
      "execution_count": null,
      "outputs": []
    },
    {
      "cell_type": "code",
      "source": [
        "filter_parquet_based_on_multiple_csv('data.parquet', 'path/to/csv_folder', 'id', 'x', 'filtered_output.csv')"
      ],
      "metadata": {
        "id": "wkUDU73LNPwE"
      },
      "execution_count": null,
      "outputs": []
    }
  ]
}