{
  "nbformat": 4,
  "nbformat_minor": 0,
  "metadata": {
    "colab": {
      "provenance": []
    },
    "kernelspec": {
      "name": "python3",
      "display_name": "Python 3"
    },
    "language_info": {
      "name": "python"
    }
  },
  "cells": [
    {
      "cell_type": "markdown",
      "source": [],
      "metadata": {
        "id": "KFNLZK93fTGX"
      }
    },
    {
      "cell_type": "markdown",
      "source": [
        "Zmiana na safetensors\n",
        "\n",
        "---\n",
        "\n"
      ],
      "metadata": {
        "id": "_Mv-rH5BfTFa"
      }
    },
    {
      "cell_type": "code",
      "source": [
        "pip install safetensors transformers"
      ],
      "metadata": {
        "id": "_sP0o6l8fSNU"
      },
      "execution_count": null,
      "outputs": []
    },
    {
      "cell_type": "code",
      "source": [
        "from transformers import VisionEncoderDecoderModel\n",
        "\n",
        "# Załaduj model w formacie bin\n",
        "model = VisionEncoderDecoderModel.from_pretrained(\"naver-clova-ix/donut-base\")"
      ],
      "metadata": {
        "id": "XGrtK7sIe4St"
      },
      "execution_count": null,
      "outputs": []
    },
    {
      "cell_type": "code",
      "source": [
        "from safetensors.torch import save_file\n",
        "\n",
        "# Pobierz wagi modelu (parameters)\n",
        "state_dict = model.state_dict()\n",
        "\n",
        "# Zapisz wagi modelu w formacie safetensors\n",
        "save_file(state_dict, \"donut-base.safetensors\")\n"
      ],
      "metadata": {
        "id": "3cTTIP1De4Ly"
      },
      "execution_count": null,
      "outputs": []
    },
    {
      "cell_type": "code",
      "source": [
        "from safetensors.torch import load_file\n",
        "from transformers import VisionEncoderDecoderModel\n",
        "\n",
        "# Wczytaj wagi modelu z pliku safetensors\n",
        "state_dict = load_file(\"donut-base.safetensors\")\n",
        "\n",
        "# Załaduj model z wagami safetensors\n",
        "model = VisionEncoderDecoderModel.from_pretrained(\"naver-clova-ix/donut-base\", state_dict=state_dict)\n"
      ],
      "metadata": {
        "id": "OmNZcpmTe4IX"
      },
      "execution_count": null,
      "outputs": []
    },
    {
      "cell_type": "markdown",
      "source": [
        "Załadowanie modelu safetensors"
      ],
      "metadata": {
        "id": "zXkIlPKTghGt"
      }
    },
    {
      "cell_type": "code",
      "source": [
        "pip install transformers safetensors torch"
      ],
      "metadata": {
        "id": "iSyvrQ9Re34q"
      },
      "execution_count": null,
      "outputs": []
    },
    {
      "cell_type": "code",
      "source": [
        "import torch\n",
        "from transformers import VisionEncoderDecoderModel, DonutProcessor\n",
        "from safetensors.torch import load_file\n",
        "from PIL import Image\n",
        "\n",
        "# Ścieżka do folderu, w którym znajdują się lokalne pliki modelu i procesora\n",
        "model_path = \"./path_to_model\"\n",
        "safetensors_weights_path = \"./path_to_model/donut-base.safetensors\"\n",
        "processor_path = \"./path_to_processor\"\n",
        "\n",
        "# Załaduj procesor do przetwarzania obrazów (w tym przypadku DonutProcessor)\n",
        "processor = DonutProcessor.from_pretrained(processor_path)\n",
        "\n",
        "# Załaduj wagi modelu z pliku safetensors, mapując je na CPU\n",
        "state_dict = load_file(safetensors_weights_path, device=\"cpu\")\n",
        "\n",
        "# Załaduj model z lokalnych wag na CPU\n",
        "model = VisionEncoderDecoderModel.from_pretrained(model_path, state_dict=state_dict)\n",
        "\n",
        "# Wymuszenie użycia CPU\n",
        "device = torch.device(\"cpu\")\n",
        "model.to(device)\n",
        "\n",
        "# Przykładowa analiza obrazu\n",
        "image_path = \"./path_to_image/sample_image.png\"\n",
        "image = Image.open(image_path)\n",
        "\n",
        "# Przygotuj dane wejściowe na CPU\n",
        "pixel_values = processor(image, return_tensors=\"pt\").pixel_values\n",
        "pixel_values = pixel_values.to(device)\n",
        "\n",
        "# Wygeneruj wynik (analiza dokumentu)\n",
        "generated_ids = model.generate(pixel_values)\n",
        "\n",
        "# Zdekoduj wynik do formy tekstowej\n",
        "generated_text = processor.batch_decode(generated_ids, skip_special_tokens=True)[0]\n",
        "print(\"Wynik:\", generated_text)\n"
      ],
      "metadata": {
        "id": "PHZ9Smk2e32-"
      },
      "execution_count": null,
      "outputs": []
    },
    {
      "cell_type": "markdown",
      "source": [
        "Uruchomienie za pomocą bin"
      ],
      "metadata": {
        "id": "Plc7xOQ0hfZ0"
      }
    },
    {
      "cell_type": "code",
      "source": [
        "pip install transformers torch"
      ],
      "metadata": {
        "id": "KgryOngDe30l"
      },
      "execution_count": null,
      "outputs": []
    },
    {
      "cell_type": "code",
      "source": [
        "import torch\n",
        "from transformers import VisionEncoderDecoderModel, DonutProcessor\n",
        "from PIL import Image\n",
        "\n",
        "# Ścieżka do folderu, w którym znajdują się lokalne pliki modelu\n",
        "model_path = \"./path_to_model\"\n",
        "processor_path = \"./path_to_processor\"\n",
        "bin_weights_path = \"./path_to_model/pytorch_model.bin\"  # Ścieżka do pliku wag .bin\n",
        "\n",
        "# Załaduj procesor do przetwarzania obrazów (w tym przypadku DonutProcessor)\n",
        "processor = DonutProcessor.from_pretrained(processor_path)\n",
        "\n",
        "# Załaduj model z lokalnych plików i wag .bin\n",
        "model = VisionEncoderDecoderModel.from_pretrained(model_path)\n",
        "\n",
        "# Opcjonalnie: załaduj wagi z pliku .bin (jeśli nie są automatycznie załadowane z folderu)\n",
        "state_dict = torch.load(bin_weights_path, map_location=torch.device('cpu'))  # Wymuszenie załadowania wag na CPU\n",
        "model.load_state_dict(state_dict)\n",
        "\n",
        "# Ustaw urządzenie na CPU (domyślnie jeśli brak GPU)\n",
        "device = torch.device(\"cpu\")\n",
        "model.to(device)\n",
        "\n",
        "# Przykładowa analiza obrazu\n",
        "image_path = \"./path_to_image/sample_image.png\"\n",
        "image = Image.open(image_path)\n",
        "\n",
        "# Przygotuj dane wejściowe\n",
        "pixel_values = processor(image, return_tensors=\"pt\").pixel_values\n",
        "pixel_values = pixel_values.to(device)\n",
        "\n",
        "# Wygeneruj wynik (tutaj zakładamy, że model jest używany do analizy dokumentu, np. Donut do ekstrakcji tekstu z obrazu)\n",
        "generated_ids = model.generate(pixel_values)\n",
        "\n",
        "# Zdekoduj wynik do formy tekstowej\n",
        "generated_text = processor.batch_decode(generated_ids, skip_special_tokens=True)[0]\n",
        "print(\"Wynik:\", generated_text)\n"
      ],
      "metadata": {
        "id": "NmrchR-7e3qu"
      },
      "execution_count": null,
      "outputs": []
    },
    {
      "cell_type": "code",
      "source": [],
      "metadata": {
        "id": "aBjbAAL-e3nH"
      },
      "execution_count": null,
      "outputs": []
    },
    {
      "cell_type": "code",
      "source": [],
      "metadata": {
        "id": "Ek217qRme3ku"
      },
      "execution_count": null,
      "outputs": []
    },
    {
      "cell_type": "code",
      "source": [],
      "metadata": {
        "id": "g1MrsV0De3iH"
      },
      "execution_count": null,
      "outputs": []
    },
    {
      "cell_type": "code",
      "source": [],
      "metadata": {
        "id": "E1Sc0OmQe3ed"
      },
      "execution_count": null,
      "outputs": []
    },
    {
      "cell_type": "code",
      "source": [],
      "metadata": {
        "id": "j0uCcTFze3a0"
      },
      "execution_count": null,
      "outputs": []
    },
    {
      "cell_type": "code",
      "source": [],
      "metadata": {
        "id": "sGHuc0a8e3YD"
      },
      "execution_count": null,
      "outputs": []
    }
  ]
}