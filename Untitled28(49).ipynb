{
  "nbformat": 4,
  "nbformat_minor": 0,
  "metadata": {
    "colab": {
      "provenance": []
    },
    "kernelspec": {
      "name": "python3",
      "display_name": "Python 3"
    },
    "language_info": {
      "name": "python"
    }
  },
  "cells": [
    {
      "cell_type": "code",
      "source": [
        "from docx import Document\n",
        "\n",
        "def append_text_to_existing_chapter(doc_path, chapter_title, text_to_add):\n",
        "    \"\"\"\n",
        "    Dopisuje tekst do istniejącego rozdziału lub podrozdziału w pliku DOCX.\n",
        "\n",
        "    :param doc_path: Ścieżka do pliku DOCX\n",
        "    :param chapter_title: Tytuł rozdziału, do którego ma zostać dopisany tekst\n",
        "    :param text_to_add: Tekst, który ma zostać dopisany\n",
        "    \"\"\"\n",
        "    # Otwieramy plik DOCX\n",
        "    doc = Document(doc_path)\n",
        "\n",
        "    # Flaga kontrolująca, czy jesteśmy w wybranym rozdziale\n",
        "    is_in_chapter = False\n",
        "\n",
        "    for para in doc.paragraphs:\n",
        "        if para.style.name.startswith('Heading') and chapter_title in para.text:\n",
        "            is_in_chapter = True  # Znalazł wybrany rozdział, można dopisać tekst\n",
        "        elif para.style.name.startswith('Heading') and is_in_chapter:\n",
        "            # Koniec rozdziału, przerywamy, bo nowy nagłówek\n",
        "            break\n",
        "\n",
        "        if is_in_chapter:\n",
        "            # Dopisujemy tekst po zakończeniu istniejących akapitów w rozdziale\n",
        "            doc.add_paragraph(text_to_add)\n",
        "            break\n",
        "\n",
        "    # Zapisujemy dokument\n",
        "    doc.save(doc_path)\n",
        "    print(f\"Tekst został dodany do rozdziału '{chapter_title}'.\")\n",
        "\n",
        "# Przykład użycia:\n",
        "doc_path = \"your_file.docx\"  # Ścieżka do pliku DOCX\n",
        "chapter_title = \"Chapter 2\"  # Tytuł rozdziału, do którego chcemy dopisać tekst\n",
        "text_to_add = \"This is the additional text to be added to the existing chapter.\"  # Tekst do dodania\n",
        "\n",
        "append_text_to_existing_chapter(doc_path, chapter_title, text_to_add)\n"
      ],
      "metadata": {
        "id": "4QvtzTNuXJu2"
      },
      "execution_count": null,
      "outputs": []
    },
    {
      "cell_type": "code",
      "source": [
        "from docx import Document\n",
        "\n",
        "def add_new_chapter_and_text(doc_path, new_chapter_title, new_subchapter_title, text_to_add):\n",
        "    \"\"\"\n",
        "    Dodaje nowy rozdział i/lub podrozdział oraz wkleja tekst na początku dokumentu DOCX.\n",
        "\n",
        "    :param doc_path: Ścieżka do pliku DOCX\n",
        "    :param new_chapter_title: Tytuł nowego rozdziału, który zostanie dodany\n",
        "    :param new_subchapter_title: Tytuł nowego podrozdziału, który zostanie dodany (może być pusty)\n",
        "    :param text_to_add: Tekst, który ma zostać dodany\n",
        "    \"\"\"\n",
        "    # Otwieramy plik DOCX\n",
        "    doc = Document(doc_path)\n",
        "\n",
        "    # Dodajemy nowy rozdział na początku dokumentu\n",
        "    doc._body.insert(0, doc._element.new_tag(\"w:p\"))  # Dodanie pustego paragrafu, jeśli potrzebne\n",
        "    new_chapter = doc.add_paragraph(new_chapter_title, style='Heading 1')\n",
        "\n",
        "    # Dodajemy nowy podrozdział, jeśli podany\n",
        "    if new_subchapter_title:\n",
        "        new_subchapter = doc.add_paragraph(new_subchapter_title, style='Heading 2')\n",
        "\n",
        "    # Dodajemy tekst w nowo stworzonym rozdziale/podrozdziale\n",
        "    doc.add_paragraph(text_to_add)\n",
        "\n",
        "    # Zapisujemy dokument\n",
        "    doc.save(doc_path)\n",
        "    print(f\"Nowy rozdział '{new_chapter_title}' i tekst zostały dodane do pliku.\")\n",
        "\n",
        "# Przykład użycia:\n",
        "doc_path = \"your_file.docx\"  # Ścieżka do pliku DOCX\n",
        "new_chapter_title = \"New Chapter Title\"  # Tytuł nowego rozdziału\n",
        "new_subchapter_title = \"New Subchapter Title\"  # Tytuł nowego podrozdziału (opcjonalnie)\n",
        "text_to_add = \"This is the text to be added to the new chapter.\"  # Tekst do dodania\n",
        "\n",
        "add_new_chapter_and_text(doc_path, new_chapter_title, new_subchapter_title, text_to_add)\n"
      ],
      "metadata": {
        "id": "_U-ghc9mXJzn"
      },
      "execution_count": null,
      "outputs": []
    },
    {
      "cell_type": "code",
      "source": [],
      "metadata": {
        "id": "bBRZOs5uXJ3N"
      },
      "execution_count": null,
      "outputs": []
    }
  ]
}