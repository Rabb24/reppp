{
  "nbformat": 4,
  "nbformat_minor": 0,
  "metadata": {
    "colab": {
      "provenance": []
    },
    "kernelspec": {
      "name": "python3",
      "display_name": "Python 3"
    },
    "language_info": {
      "name": "python"
    }
  },
  "cells": [
    {
      "cell_type": "code",
      "source": [
        "import pandas as pd\n",
        "\n",
        "def column_min_max(csv_file):\n",
        "    # Wczytanie pliku CSV\n",
        "    df = pd.read_csv(csv_file)\n",
        "\n",
        "    # Inicjalizacja pustego słownika\n",
        "    result = {}\n",
        "\n",
        "    # Iteracja po kolumnach\n",
        "    for col in df.columns:\n",
        "        if pd.api.types.is_numeric_dtype(df[col]):  # Jeśli typ jest liczbowy (int, float)\n",
        "            result[col] = {\n",
        "                'min': df[col].min(),\n",
        "                'max': df[col].max()\n",
        "            }\n",
        "        elif pd.api.types.is_string_dtype(df[col]):  # Jeśli typ jest tekstowy (string)\n",
        "            result[col] = {\n",
        "                'min_length': df[col].str.len().min(),\n",
        "                'max_length': df[col].str.len().max()\n",
        "            }\n",
        "\n",
        "    return result\n",
        "\n",
        "# Przykład użycia:\n",
        "# result = column_min_max('twoj_plik.csv')\n",
        "# print(result)\n"
      ],
      "metadata": {
        "id": "IyHp_I6Xji9b"
      },
      "execution_count": null,
      "outputs": []
    },
    {
      "cell_type": "code",
      "source": [
        "import pandas as pd\n",
        "\n",
        "def unique_values_from_columns(csv_file, columns):\n",
        "    # Wczytanie pliku CSV\n",
        "    df = pd.read_csv(csv_file)\n",
        "\n",
        "    # Inicjalizacja pustego słownika na unikatowe wartości\n",
        "    unique_values = {}\n",
        "\n",
        "    # Iteracja po wybranych kolumnach\n",
        "    for col in columns:\n",
        "        if col in df.columns:  # Sprawdzamy, czy kolumna istnieje w DataFrame\n",
        "            unique_values[col] = df[col].unique().tolist()  # Unikalne wartości jako lista\n",
        "\n",
        "    return unique_values\n",
        "\n",
        "# Przykład użycia:\n",
        "# columns_to_check = ['col1', 'col2']\n",
        "# unique_values = unique_values_from_columns('twoj_plik.csv', columns_to_check)\n",
        "# print(unique_values)\n"
      ],
      "metadata": {
        "id": "32XtxxD5ji6q"
      },
      "execution_count": null,
      "outputs": []
    },
    {
      "cell_type": "code",
      "source": [
        "def missing_values_summary(csv_file):\n",
        "    # Wczytanie pliku CSV\n",
        "    df = pd.read_csv(csv_file)\n",
        "\n",
        "    # Tworzenie słownika z ilością brakujących wartości dla każdej kolumny\n",
        "    missing_values = df.isnull().sum().to_dict()\n",
        "\n",
        "    return missing_values\n",
        "\n",
        "# Przykład użycia:\n",
        "# missing_values = missing_values_summary('twoj_plik.csv')\n",
        "# print(missing_values)\n"
      ],
      "metadata": {
        "id": "Rqc10aTjji36"
      },
      "execution_count": null,
      "outputs": []
    },
    {
      "cell_type": "code",
      "source": [
        "def column_types(csv_file):\n",
        "    # Wczytanie pliku CSV\n",
        "    df = pd.read_csv(csv_file)\n",
        "\n",
        "    # Zwraca typy danych w kolumnach\n",
        "    return df.dtypes.to_dict()\n",
        "\n",
        "# Przykład użycia:\n",
        "# column_data_types = column_types('twoj_plik.csv')\n",
        "# print(column_data_types)\n"
      ],
      "metadata": {
        "id": "l8KmnJIHji1M"
      },
      "execution_count": null,
      "outputs": []
    },
    {
      "cell_type": "code",
      "source": [
        "def detect_outliers(csv_file):\n",
        "    df = pd.read_csv(csv_file)\n",
        "\n",
        "    outliers = {}\n",
        "\n",
        "    for col in df.select_dtypes(include=['float64', 'int64']).columns:\n",
        "        Q1 = df[col].quantile(0.25)\n",
        "        Q3 = df[col].quantile(0.75)\n",
        "        IQR = Q3 - Q1\n",
        "        lower_bound = Q1 - 1.5 * IQR\n",
        "        upper_bound = Q3 + 1.5 * IQR\n",
        "\n",
        "        # Filtrujemy wartości odstające\n",
        "        outliers[col] = df[(df[col] < lower_bound) | (df[col] > upper_bound)][col].tolist()\n",
        "\n",
        "    return outliers\n",
        "\n",
        "# Przykład użycia:\n",
        "# outliers = detect_outliers('twoj_plik.csv')\n",
        "# print(outliers)\n"
      ],
      "metadata": {
        "id": "t0hso7-Njiyg"
      },
      "execution_count": null,
      "outputs": []
    },
    {
      "cell_type": "code",
      "source": [
        "def check_uniqueness(csv_file, column):\n",
        "    df = pd.read_csv(csv_file)\n",
        "\n",
        "    unique_values = df[column].is_unique\n",
        "    return unique_values\n",
        "\n",
        "# Przykład użycia:\n",
        "# is_unique = check_uniqueness('twoj_plik.csv', 'id')\n",
        "# print(is_unique)  # True lub False\n"
      ],
      "metadata": {
        "id": "xCmNjJBOb7Q2"
      },
      "execution_count": null,
      "outputs": []
    },
    {
      "cell_type": "code",
      "source": [
        "def category_distribution(csv_file, column):\n",
        "    df = pd.read_csv(csv_file)\n",
        "\n",
        "    if column in df.columns and pd.api.types.is_categorical_dtype(df[column]) or pd.api.types.is_object_dtype(df[column]):\n",
        "        return df[column].value_counts(normalize=True).to_dict()  # Zwracamy proporcje\n",
        "    else:\n",
        "        return f\"Kolumna {column} nie jest kategoryczna.\"\n",
        "\n",
        "# Przykład użycia:\n",
        "# distribution = category_distribution('twoj_plik.csv', 'kolumna_kategoryczna')\n",
        "# print(distribution)\n"
      ],
      "metadata": {
        "id": "mtPK4Xlob7WS"
      },
      "execution_count": null,
      "outputs": []
    },
    {
      "cell_type": "code",
      "source": [
        "def correlation_matrix(csv_file):\n",
        "    df = pd.read_csv(csv_file)\n",
        "\n",
        "    # Zwracamy macierz korelacji dla kolumn liczbowych\n",
        "    return df.corr()\n",
        "\n",
        "# Przykład użycia:\n",
        "# corr_matrix = correlation_matrix('twoj_plik.csv')\n",
        "# print(corr_matrix)\n"
      ],
      "metadata": {
        "id": "mmo6qcFtb7Yl"
      },
      "execution_count": null,
      "outputs": []
    },
    {
      "cell_type": "code",
      "source": [],
      "metadata": {
        "id": "1y3BKvtvb7cI"
      },
      "execution_count": null,
      "outputs": []
    }
  ]
}