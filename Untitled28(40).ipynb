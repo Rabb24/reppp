{
  "nbformat": 4,
  "nbformat_minor": 0,
  "metadata": {
    "colab": {
      "provenance": []
    },
    "kernelspec": {
      "name": "python3",
      "display_name": "Python 3"
    },
    "language_info": {
      "name": "python"
    }
  },
  "cells": [
    {
      "cell_type": "code",
      "source": [
        "import pandas as pd\n",
        "import matplotlib.pyplot as plt\n",
        "\n",
        "def plot_histogram(days_count, bins=None, x_min=None, x_max=None):\n",
        "    \"\"\"\n",
        "    Tworzy histogram procentowego udziału liczby dni między datami na podstawie dostarczonych zliczonych danych.\n",
        "\n",
        "    Parametry:\n",
        "    days_count (pd.Series): Series zawierający zliczone ilości wystąpień różnicy dni.\n",
        "    bins (list, opcjonalne): Lista przedziałów dla grupowania wartości na histogramie.\n",
        "    x_min (int, opcjonalne): Minimalna wartość na osi X.\n",
        "    x_max (int, opcjonalne): Maksymalna wartość na osi X.\n",
        "    \"\"\"\n",
        "    # Obliczenie procentowego udziału\n",
        "    days_percentage = (days_count / days_count.sum()) * 100\n",
        "\n",
        "    # Tworzenie histogramu z grupowaniem według zdefiniowanych przedziałów\n",
        "    if bins is not None:\n",
        "        grouped_data = pd.cut(days_count.index, bins=bins)\n",
        "        grouped_percentage = days_percentage.groupby(grouped_data).sum()\n",
        "    else:\n",
        "        grouped_percentage = days_percentage\n",
        "\n",
        "    # Filtracja według zakresu x_min i x_max\n",
        "    if x_min is not None and x_max is not None:\n",
        "        grouped_percentage = grouped_percentage[(grouped_percentage.index.categories.left >= x_min) &\n",
        "                                                (grouped_percentage.index.categories.right <= x_max)]\n",
        "\n",
        "    # Tworzenie histogramu\n",
        "    plt.figure(figsize=(10, 6))\n",
        "    grouped_percentage.plot(kind='bar')\n",
        "    plt.xlabel('Liczba dni (przedziały)')\n",
        "    plt.ylabel('Procentowy udział (%)')\n",
        "    plt.title('Histogram procentowego udziału liczby dni między datami')\n",
        "    plt.show()\n",
        "\n",
        "# Przykład użycia funkcji z określonymi przedziałami i zakresem osi X\n",
        "# days_count jest wynikiem funkcji analyze_days_difference\n",
        "bins = [-float('inf'), -100, -4, 0, 5, 10, 20, 50, float('inf')]\n",
        "plot_histogram(days_count, bins=bins, x_min=-100, x_max=50)\n"
      ],
      "metadata": {
        "id": "vK-CjRQjdYQF"
      },
      "execution_count": null,
      "outputs": []
    }
  ]
}