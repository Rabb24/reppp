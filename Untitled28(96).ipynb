{
  "nbformat": 4,
  "nbformat_minor": 0,
  "metadata": {
    "colab": {
      "provenance": []
    },
    "kernelspec": {
      "name": "python3",
      "display_name": "Python 3"
    },
    "language_info": {
      "name": "python"
    }
  },
  "cells": [
    {
      "cell_type": "markdown",
      "source": [
        "pix2struct-chart\n",
        "\n",
        "```\n",
        "# Sformatowano jako kod\n",
        "```\n",
        "\n"
      ],
      "metadata": {
        "id": "KFNLZK93fTGX"
      }
    },
    {
      "cell_type": "markdown",
      "source": [
        "donut-base"
      ],
      "metadata": {
        "id": "y-_kglejMtYY"
      }
    },
    {
      "cell_type": "code",
      "source": [
        "import torch\n",
        "from transformers import DonutProcessor, VisionEncoderDecoderModel\n",
        "from PIL import Image\n",
        "\n",
        "# Ścieżka do lokalnych plików modelu i obrazów\n",
        "model_name = \"naver-clova-ix/donut-base\"\n",
        "image_path = \"./path_to_image/sample_image.png\"\n",
        "\n",
        "# Załaduj procesor i model z Hugging Face Model Hub\n",
        "processor = DonutProcessor.from_pretrained(model_name)\n",
        "model = VisionEncoderDecoderModel.from_pretrained(model_name)\n",
        "\n",
        "# Ustaw model na CPU\n",
        "device = torch.device(\"cpu\")\n",
        "model.to(device)\n",
        "\n",
        "# Załaduj obraz PNG i przekształć go do formatu RGB\n",
        "image = Image.open(image_path).convert(\"RGB\")\n",
        "# Opcjonalnie zmień rozmiar obrazu, aby model lepiej przetwarzał\n",
        "image = image.resize((1024, 1024))\n",
        "\n",
        "# Dodaj pytanie dla modelu\n",
        "header_text = \"Describe the content of this image.\"\n",
        "inputs = processor(images=image, return_tensors=\"pt\", text=header_text).to(device)\n",
        "\n",
        "# Wygeneruj tekst z dostosowanymi parametrami\n",
        "generated_ids = model.generate(**inputs, max_new_tokens=256, temperature=0.7, top_p=0.9, num_beams=5)\n",
        "\n",
        "# Zdekoduj wygenerowany tekst\n",
        "generated_text = processor.batch_decode(generated_ids, skip_special_tokens=True)[0]\n",
        "print(\"Wygenerowany tekst:\", generated_text)\n"
      ],
      "metadata": {
        "id": "shsIu9d6T6h7"
      },
      "execution_count": null,
      "outputs": []
    },
    {
      "cell_type": "code",
      "source": [],
      "metadata": {
        "id": "HwII13hKT6md"
      },
      "execution_count": null,
      "outputs": []
    },
    {
      "cell_type": "code",
      "source": [],
      "metadata": {
        "id": "KbXn2wDnT6pC"
      },
      "execution_count": null,
      "outputs": []
    },
    {
      "cell_type": "code",
      "source": [],
      "metadata": {
        "id": "iDueAHPLT6se"
      },
      "execution_count": null,
      "outputs": []
    }
  ]
}