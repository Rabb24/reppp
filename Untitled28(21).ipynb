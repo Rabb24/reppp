{
  "nbformat": 4,
  "nbformat_minor": 0,
  "metadata": {
    "colab": {
      "provenance": []
    },
    "kernelspec": {
      "name": "python3",
      "display_name": "Python 3"
    },
    "language_info": {
      "name": "python"
    }
  },
  "cells": [
    {
      "cell_type": "code",
      "source": [],
      "metadata": {
        "id": "chd1pXDSlqLQ"
      },
      "execution_count": null,
      "outputs": []
    },
    {
      "cell_type": "code",
      "source": [
        "import pandas as pd\n",
        "\n",
        "def count_nulls_per_column(csv_file):\n",
        "    # Wczytaj dane z pliku CSV\n",
        "    df = pd.read_csv(csv_file)\n",
        "\n",
        "    # Oblicz liczbę wartości null dla każdej kolumny\n",
        "    null_counts = df.isnull().sum()\n",
        "\n",
        "    # Konwertuj wynik do słownika\n",
        "    null_counts_dict = null_counts.to_dict()\n",
        "\n",
        "    return null_counts_dict\n",
        "\n",
        "# Przykład użycia funkcji\n",
        "csv_file = 'twoj_plik.csv'  # Zamień na nazwę swojego pliku CSV\n",
        "null_counts = count_nulls_per_column(csv_file)\n",
        "print(null_counts)\n"
      ],
      "metadata": {
        "id": "HP9luz1ElqFN"
      },
      "execution_count": null,
      "outputs": []
    },
    {
      "cell_type": "code",
      "source": [
        "import pandas as pd\n",
        "\n",
        "def count_unique_values_per_column(csv_file):\n",
        "    # Wczytaj dane z pliku CSV\n",
        "    df = pd.read_csv(csv_file)\n",
        "\n",
        "    # Oblicz liczbę unikatowych wartości dla każdej kolumny\n",
        "    unique_counts = df.nunique()\n",
        "\n",
        "    # Konwertuj wynik do słownika\n",
        "    unique_counts_dict = unique_counts.to_dict()\n",
        "\n",
        "    return unique_counts_dict\n",
        "\n",
        "# Przykład użycia funkcji\n",
        "csv_file = 'twoj_plik.csv'  # Zamień na nazwę swojego pliku CSV\n",
        "unique_counts = count_unique_values_per_column(csv_file)\n",
        "print(unique_counts)\n"
      ],
      "metadata": {
        "id": "7l83J7WNlqRb"
      },
      "execution_count": null,
      "outputs": []
    },
    {
      "cell_type": "code",
      "source": [
        "import pandas as pd\n",
        "import matplotlib.pyplot as plt\n",
        "\n",
        "def plot_nulls_and_uniques(null_counts_dict, unique_counts_dict):\n",
        "    # Tworzenie wykresu słupkowego dla wartości null\n",
        "    plt.figure(figsize=(12, 6))\n",
        "    plt.bar(null_counts_dict.keys(), null_counts_dict.values(), color='blue')\n",
        "    plt.title('Liczba wartości null w każdej kolumnie')\n",
        "    plt.xlabel('Kolumny')\n",
        "    plt.ylabel('Liczba wartości null')\n",
        "    plt.xticks(rotation=45)\n",
        "    plt.show()\n",
        "\n",
        "    # Tworzenie wykresu słupkowego dla wartości unikatowych\n",
        "    plt.figure(figsize=(12, 6))\n",
        "    plt.bar(unique_counts_dict.keys(), unique_counts_dict.values(), color='green')\n",
        "    plt.title('Liczba unikatowych wartości w każdej kolumnie')\n",
        "    plt.xlabel('Kolumny')\n",
        "    plt.ylabel('Liczba unikatowych wartości')\n",
        "    plt.xticks(rotation=45)\n",
        "    plt.show()\n",
        "\n",
        "# Przykład użycia funkcji\n",
        "csv_file = 'twoj_plik.csv'  # Zamień na nazwę swojego pliku CSV\n",
        "\n",
        "# Obliczenie liczby wartości null i unikatowych\n",
        "null_counts = count_nulls_per_column(csv_file)\n",
        "unique_counts = count_unique_values_per_column(csv_file)\n",
        "\n",
        "# Wyświetlenie wyników na wykresach\n",
        "plot_nulls_and_uniques(null_counts, unique_counts)\n"
      ],
      "metadata": {
        "id": "wetfG8folqUO"
      },
      "execution_count": null,
      "outputs": []
    },
    {
      "cell_type": "code",
      "source": [],
      "metadata": {
        "id": "j3lP3OFplqWg"
      },
      "execution_count": null,
      "outputs": []
    },
    {
      "cell_type": "code",
      "source": [],
      "metadata": {
        "id": "5P0zcWfDlqaP"
      },
      "execution_count": null,
      "outputs": []
    }
  ]
}