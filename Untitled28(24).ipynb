{
  "nbformat": 4,
  "nbformat_minor": 0,
  "metadata": {
    "colab": {
      "provenance": []
    },
    "kernelspec": {
      "name": "python3",
      "display_name": "Python 3"
    },
    "language_info": {
      "name": "python"
    }
  },
  "cells": [
    {
      "cell_type": "code",
      "source": [
        "import pandas as pd\n",
        "import re\n",
        "\n",
        "def count_specific_words(csv_file, column_name, words_to_count):\n",
        "    # Wczytaj dane z pliku CSV\n",
        "    df = pd.read_csv(csv_file)\n",
        "\n",
        "    # Połączenie wszystkich wartości w kolumnie w jedną zmienną tekstową\n",
        "    combined_text = ' '.join(df[column_name].astype(str).tolist())\n",
        "\n",
        "    # Inicjalizacja słownika do przechowywania wyników\n",
        "    word_count_dict = {}\n",
        "\n",
        "    # Liczenie wystąpień każdego z podanych słów\n",
        "    for word in words_to_count:\n",
        "        # Tworzenie wyrażenia regularnego, aby uwzględniało różne przypadki liter\n",
        "        pattern = re.compile(r'\\b{}\\b'.format(re.escape(word)), flags=re.IGNORECASE)\n",
        "        count = len(pattern.findall(combined_text))\n",
        "        word_count_dict[word] = count\n",
        "\n",
        "    return word_count_dict\n",
        "\n",
        "# Przykład użycia funkcji\n",
        "csv_file = 'twoj_plik.csv'  # Zamień na nazwę swojego pliku CSV\n",
        "column_name = 'nazwa_kolumny'  # Zamień na nazwę kolumny, którą chcesz analizować\n",
        "words_to_count = ['słowo1', 'słowo2', 'słowo3']  # Zamień na listę słów, które chcesz zliczyć\n",
        "\n",
        "# Wywołanie funkcji\n",
        "result = count_specific_words(csv_file, column_name, words_to_count)\n",
        "print(result)"
      ],
      "metadata": {
        "id": "0URPDEi3HLob"
      },
      "execution_count": null,
      "outputs": []
    }
  ]
}