{
  "nbformat": 4,
  "nbformat_minor": 0,
  "metadata": {
    "colab": {
      "provenance": []
    },
    "kernelspec": {
      "name": "python3",
      "display_name": "Python 3"
    },
    "language_info": {
      "name": "python"
    }
  },
  "cells": [
    {
      "cell_type": "code",
      "source": [
        "def read_file(file_path):\n",
        "    if file_path.endswith('.txt'):\n",
        "        return read_txt_file(file_path)\n",
        "    elif file_path.endswith('.docx'):\n",
        "        return read_docx_file(file_path)\n",
        "    else:\n",
        "        raise ValueError(\"Unsupported file format\")\n",
        "\n",
        "# Przykład użycia:\n",
        "file_path = \"example.docx\"  # Lub .txt\n",
        "content = read_file(file_path)\n",
        "print(content)\n"
      ],
      "metadata": {
        "id": "xj9562NwXJSu"
      },
      "execution_count": null,
      "outputs": []
    },
    {
      "cell_type": "markdown",
      "source": [
        "dzięki bibliotece python-docx. Możesz nie tylko odczytywać pliki DOCX, ale także wyodrębniać konkretne rozdziały, paragrafy, tabele, a nawet formatowanie"
      ],
      "metadata": {
        "id": "cHg9zWOEYfL0"
      }
    },
    {
      "cell_type": "code",
      "source": [
        "from docx import Document\n",
        "\n",
        "def extract_table_of_contents(doc_path):\n",
        "    \"\"\"\n",
        "    Funkcja wypisuje spis treści (nagłówki) z dokumentu DOCX.\n",
        "\n",
        "    :param doc_path: Ścieżka do pliku DOCX\n",
        "    :return: Lista nagłówków wraz z ich poziomami\n",
        "    \"\"\"\n",
        "    doc = Document(doc_path)\n",
        "    table_of_contents = []\n",
        "\n",
        "    # Iteracja przez wszystkie paragrafy w dokumencie\n",
        "    for para in doc.paragraphs:\n",
        "        # Sprawdź, czy paragraf jest nagłówkiem (Heading)\n",
        "        if para.style.name.startswith('Heading'):\n",
        "            # Pobierz poziom nagłówka (np. Heading 1 -> 1, Heading 2 -> 2)\n",
        "            heading_level = para.style.name.split()[-1]  # Ostatnia część \"Heading X\"\n",
        "            # Dodaj do spisu treści: (poziom nagłówka, tekst)\n",
        "            table_of_contents.append((int(heading_level), para.text))\n",
        "\n",
        "    return table_of_contents\n",
        "\n",
        "def print_table_of_contents(doc_path):\n",
        "    \"\"\"\n",
        "    Wypisuje spis treści dokumentu DOCX w czytelnej formie.\n",
        "\n",
        "    :param doc_path: Ścieżka do pliku DOCX\n",
        "    \"\"\"\n",
        "    table_of_contents = extract_table_of_contents(doc_path)\n",
        "\n",
        "    # Wyświetlenie nagłówków z odpowiednim wcięciem\n",
        "    for level, text in table_of_contents:\n",
        "        print(\"  \" * (level - 1) + f\"{text}\")\n",
        "\n",
        "# Przykład użycia:\n",
        "doc_path = \"example.docx\"\n",
        "print_table_of_contents(doc_path)\n"
      ],
      "metadata": {
        "id": "ql7qA0P-XJVQ"
      },
      "execution_count": null,
      "outputs": []
    },
    {
      "cell_type": "code",
      "source": [
        "from docx import Document\n",
        "\n",
        "def extract_chapters(doc_path, chapters_to_extract, output_path):\n",
        "    \"\"\"\n",
        "    Funkcja wycina wskazane rozdziały lub podrozdziały z dokumentu DOCX i zapisuje je do nowego pliku.\n",
        "\n",
        "    :param doc_path: Ścieżka do oryginalnego pliku DOCX\n",
        "    :param chapters_to_extract: Lista rozdziałów (nagłówków) do wyciągnięcia, np. ['Rozdział 1', 'Podrozdział 1.1']\n",
        "    :param output_path: Ścieżka do nowego pliku DOCX\n",
        "    \"\"\"\n",
        "    # Otwieramy oryginalny plik DOCX\n",
        "    doc = Document(doc_path)\n",
        "\n",
        "    # Tworzymy nowy dokument DOCX\n",
        "    new_doc = Document()\n",
        "\n",
        "    # Flaga kontrolująca, czy jesteśmy w wybranym rozdziale\n",
        "    is_in_selected_chapter = False\n",
        "\n",
        "    # Iterujemy przez paragrafy w dokumencie\n",
        "    for para in doc.paragraphs:\n",
        "        # Sprawdzamy, czy paragraf to nagłówek (Heading) i czy zawiera jeden z wybranych rozdziałów\n",
        "        if para.style.name.startswith('Heading') and para.text in chapters_to_extract:\n",
        "            # Zaczynamy kopiować od tego nagłówka\n",
        "            is_in_selected_chapter = True\n",
        "            new_doc.add_paragraph(para.text, style=para.style)  # Dodajemy nagłówek do nowego pliku\n",
        "        elif para.style.name.startswith('Heading') and is_in_selected_chapter:\n",
        "            # Natrafiliśmy na nowy nagłówek, kończymy kopiowanie\n",
        "            break\n",
        "\n",
        "        if is_in_selected_chapter:\n",
        "            # Kopiujemy paragrafy, które należą do wybranego rozdziału\n",
        "            new_doc.add_paragraph(para.text, style=para.style)\n",
        "\n",
        "    # Zapisujemy nowy dokument\n",
        "    new_doc.save(output_path)\n",
        "    print(f\"Zapisano nowy plik: {output_path}\")\n",
        "\n",
        "# Przykład użycia:\n",
        "doc_path = 'example.docx'  # Ścieżka do oryginalnego pliku\n",
        "chapters_to_extract = ['Rozdział 1', 'Podrozdział 1.1']  # Wskaż rozdziały do wycięcia\n",
        "output_path = 'shortened.docx'  # Ścieżka do nowego pliku\n",
        "extract_chapters(doc_path, chapters_to_extract, output_path)"
      ],
      "metadata": {
        "id": "sRhFTZmmXJX9"
      },
      "execution_count": null,
      "outputs": []
    },
    {
      "cell_type": "code",
      "source": [
        "from docx import Document\n",
        "\n",
        "def extract_table_by_title(doc_path, table_title):\n",
        "    \"\"\"\n",
        "    Wyodrębnia tabelę z dokumentu DOCX na podstawie tytułu.\n",
        "\n",
        "    :param doc_path: Ścieżka do pliku DOCX\n",
        "    :param table_title: Tytuł tabeli do wyodrębnienia\n",
        "    :return: Tekst tabeli jako string\n",
        "    \"\"\"\n",
        "    doc = Document(doc_path)\n",
        "    table_found = False\n",
        "    extracted_table = []\n",
        "\n",
        "    for i, para in enumerate(doc.paragraphs):\n",
        "        # Sprawdzamy, czy akapit to tytuł tabeli\n",
        "        if table_title in para.text:\n",
        "            table_found = True\n",
        "            # Tytuł tabeli jest zazwyczaj nad tabelą, więc sprawdzamy następne elementy\n",
        "            try:\n",
        "                table = doc.tables[i]  # Pobieramy tabelę o tym indeksie\n",
        "                for row in table.rows:\n",
        "                    row_data = [cell.text for cell in row.cells]\n",
        "                    extracted_table.append(row_data)\n",
        "            except IndexError:\n",
        "                print(\"Tabela nie została znaleziona lub znajduje się w innym miejscu.\")\n",
        "            break\n",
        "\n",
        "    if table_found:\n",
        "        print(f\"Znaleziono tabelę: {table_title}\")\n",
        "        for row in extracted_table:\n",
        "            print(\"\\t\".join(row))  # Wypisuje wiersze tabeli jako tekst z tabulacjami\n",
        "    else:\n",
        "        print(f\"Tabela o tytule '{table_title}' nie została znaleziona.\")\n",
        "\n",
        "# Przykład użycia:\n",
        "doc_path = \"example.docx\"  # Ścieżka do pliku DOCX\n",
        "table_title = \"Tabela 1.1\"  # Tytuł tabeli, którą chcemy wyodrębnić\n",
        "extract_table_by_title(doc_path, table_title)\n"
      ],
      "metadata": {
        "id": "JhX0Uk7bXJaH"
      },
      "execution_count": null,
      "outputs": []
    },
    {
      "cell_type": "code",
      "source": [
        "import zipfile\n",
        "import os\n",
        "\n",
        "def extract_images_from_docx(docx_path, output_folder):\n",
        "    \"\"\"\n",
        "    Wyodrębnia wszystkie obrazy z pliku DOCX i zapisuje je w podanym folderze.\n",
        "\n",
        "    :param docx_path: Ścieżka do pliku DOCX\n",
        "    :param output_folder: Folder, w którym obrazy zostaną zapisane\n",
        "    \"\"\"\n",
        "    with zipfile.ZipFile(docx_path, 'r') as docx:\n",
        "        # Przeglądaj pliki w archiwum ZIP\n",
        "        for file in docx.namelist():\n",
        "            if file.startswith('word/media/'):  # Pliki obrazów są w folderze \"media\"\n",
        "                file_name = os.path.basename(file)\n",
        "                file_path = os.path.join(output_folder, file_name)\n",
        "\n",
        "                # Zapisujemy każdy obraz\n",
        "                with open(file_path, 'wb') as output_file:\n",
        "                    output_file.write(docx.read(file))\n",
        "                print(f\"Obraz zapisany jako: {file_path}\")\n",
        "\n",
        "# Przykład użycia:\n",
        "docx_path = \"example.docx\"\n",
        "output_folder = \"extracted_images\"\n",
        "os.makedirs(output_folder, exist_ok=True)  # Tworzy folder, jeśli nie istnieje\n",
        "extract_images_from_docx(docx_path, output_folder)\n"
      ],
      "metadata": {
        "id": "RgD31LheXJcp"
      },
      "execution_count": null,
      "outputs": []
    },
    {
      "cell_type": "code",
      "source": [
        "from docx import Document\n",
        "\n",
        "def extract_and_summarize_chapter(doc_path, chapter_title):\n",
        "    \"\"\"\n",
        "    Funkcja do wyodrębnienia konkretnego rozdziału z dokumentu DOCX i wygenerowania jego podsumowania.\n",
        "\n",
        "    :param doc_path: Ścieżka do pliku DOCX\n",
        "    :param chapter_title: Tytuł rozdziału, który ma zostać podsumowany\n",
        "    :return: Tekst wybranego rozdziału oraz jego podsumowanie\n",
        "    \"\"\"\n",
        "    # Otwórz plik DOCX\n",
        "    doc = Document(doc_path)\n",
        "\n",
        "    # Zmienna do przechowywania treści rozdziału\n",
        "    is_in_chapter = False\n",
        "    chapter_content = []\n",
        "\n",
        "    # Iteracja przez paragrafy w pliku DOCX\n",
        "    for para in doc.paragraphs:\n",
        "        if para.style.name.startswith('Heading') and chapter_title in para.text:\n",
        "            is_in_chapter = True\n",
        "        elif para.style.name.startswith('Heading') and is_in_chapter:\n",
        "            # Koniec rozdziału\n",
        "            break\n",
        "\n",
        "        if is_in_chapter:\n",
        "            chapter_content.append(para.text)\n",
        "\n",
        "    # Połącz tekst rozdziału w jeden ciąg\n",
        "    chapter_text = \"\\n\".join(chapter_content)\n",
        "\n",
        "    if chapter_text:\n",
        "        # Wygenerowanie podsumowania\n",
        "        summary = generate_summary(chapter_text)\n",
        "        return chapter_text, summary\n",
        "    else:\n",
        "        return \"Chapter not found\", \"\"\n",
        "\n",
        "def generate_summary(text):\n",
        "    \"\"\"\n",
        "    Funkcja pomocnicza do podsumowania tekstu.\n",
        "    Tutaj możesz dodać własne narzędzie do podsumowywania.\n",
        "\n",
        "    :param text: Tekst do podsumowania\n",
        "    :return: Podsumowanie tekstu\n",
        "    \"\"\"\n",
        "    # To jest miejsce na integrację z modelem AI, np. Mixtral, GPT, itp.\n",
        "    # Zakładamy prostą funkcję podsumowania:\n",
        "    summary = text[:min(200, len(text))] + '...'  # Przycinanie do 200 znaków jako przykład\n",
        "    return summary\n",
        "\n",
        "# Użycie:\n",
        "doc_path = \"your_file.docx\"\n",
        "chapter_title = \"Chapter 2\"  # Tytuł rozdziału, który chcesz wyodrębnić i podsumować\n",
        "chapter_text, summary = extract_and_summarize_chapter(doc_path, chapter_title)\n",
        "\n",
        "# Wyświetl wyodrębniony tekst rozdziału i podsumowanie\n",
        "print(\"Extracted Chapter Text:\\n\", chapter_text)\n",
        "print(\"\\nSummary:\\n\", summary)\n"
      ],
      "metadata": {
        "id": "m0Rf7qy_XJf7"
      },
      "execution_count": null,
      "outputs": []
    },
    {
      "cell_type": "code",
      "source": [],
      "metadata": {
        "id": "kMI87mIZXJiR"
      },
      "execution_count": null,
      "outputs": []
    },
    {
      "cell_type": "code",
      "source": [],
      "metadata": {
        "id": "EJXSo8HCXJlw"
      },
      "execution_count": null,
      "outputs": []
    },
    {
      "cell_type": "code",
      "source": [],
      "metadata": {
        "id": "4QvtzTNuXJu2"
      },
      "execution_count": null,
      "outputs": []
    },
    {
      "cell_type": "code",
      "source": [],
      "metadata": {
        "id": "_U-ghc9mXJzn"
      },
      "execution_count": null,
      "outputs": []
    },
    {
      "cell_type": "code",
      "source": [],
      "metadata": {
        "id": "bBRZOs5uXJ3N"
      },
      "execution_count": null,
      "outputs": []
    }
  ]
}