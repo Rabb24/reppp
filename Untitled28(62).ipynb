{
  "nbformat": 4,
  "nbformat_minor": 0,
  "metadata": {
    "colab": {
      "provenance": []
    },
    "kernelspec": {
      "name": "python3",
      "display_name": "Python 3"
    },
    "language_info": {
      "name": "python"
    }
  },
  "cells": [
    {
      "cell_type": "code",
      "source": [
        "from docx import Document\n",
        "from copy import deepcopy\n",
        "\n",
        "def copy_table(source_table, target_document):\n",
        "    # Kopiuje tabelę z jednego dokumentu do drugiego\n",
        "    target_table = target_document.add_table(rows=len(source_table.rows), cols=len(source_table.columns))\n",
        "\n",
        "    # Kopiowanie zawartości komórek tabeli\n",
        "    for row_idx, row in enumerate(source_table.rows):\n",
        "        for col_idx, cell in enumerate(row.cells):\n",
        "            target_table.cell(row_idx, col_idx).text = cell.text\n",
        "\n",
        "def copy_paragraph(paragraph, document):\n",
        "    # Kopiuje paragraf z formatowaniem\n",
        "    new_paragraph = document.add_paragraph()\n",
        "    for run in paragraph.runs:\n",
        "        new_run = new_paragraph.add_run(run.text)\n",
        "        new_run.bold = run.bold\n",
        "        new_run.italic = run.italic\n",
        "        new_run.underline = run.underline\n",
        "        new_run.font.size = run.font.size\n",
        "        new_run.font.name = run.font.name\n",
        "    new_paragraph.style = paragraph.style\n",
        "\n",
        "def extract_sections(input_docx_path, output_docx_path, sections_to_extract):\n",
        "    # Otwórz plik wejściowy DOCX\n",
        "    doc = Document(input_docx_path)\n",
        "\n",
        "    # Utwórz nowy dokument\n",
        "    new_doc = Document()\n",
        "\n",
        "    # Flaga, która kontroluje, czy kopiujemy zawartość\n",
        "    copy_content = False\n",
        "\n",
        "    # Iteracja po elementach w dokumencie\n",
        "    for block in doc.element.body:\n",
        "        if block.tag.endswith('p'):\n",
        "            # Jest to paragraf\n",
        "            paragraph = Document()._element.body._element.getparent()._element.xpath('.//w:p')[0]\n",
        "            para_obj = doc.paragraphs[0]\n",
        "            if para_obj.style.name in ['Heading 1', 'Heading 2', 'Heading 3']:\n",
        "                if para_obj.text in sections_to_extract:\n",
        "                    copy_content = True  # Zacznij kopiowanie, gdy znajdziesz odpowiedni nagłówek\n",
        "                    copy_paragraph(para_obj, new_doc)\n",
        "                else:\n",
        "                    copy_content = False  # Zatrzymaj kopiowanie, jeśli to nie interesujący rozdział\n",
        "\n",
        "            # Jeśli jesteśmy w trybie kopiowania, kopiujemy paragrafy\n",
        "            if copy_content:\n",
        "                copy_paragraph(para_obj, new_doc)\n",
        "        elif block.tag.endswith('tbl'):\n",
        "            # Kopiowanie tabeli\n",
        "            if copy_content:\n",
        "                copy_table(doc.tables[0], new_doc)\n",
        "\n",
        "    # Zapisz nowy dokument\n",
        "    new_doc.save(output_docx_path)\n",
        "    print(f\"Nowy plik został zapisany jako: {output_docx_path}\")\n",
        "\n",
        "# Przykład użycia:\n",
        "input_path = \"dokument_wejsciowy.docx\"\n",
        "output_path = \"wybrane_sekcje.docx\"\n",
        "sections = [\"Wstęp\", \"Rozdział 1\", \"Podrozdział 1.1\"]  # Wybierz sekcje do wyodrębnienia\n",
        "\n",
        "extract_sections(input_path, output_path, sections)\n"
      ],
      "metadata": {
        "id": "56HsuaUYX_sF"
      },
      "execution_count": null,
      "outputs": []
    },
    {
      "cell_type": "code",
      "source": [],
      "metadata": {
        "id": "jt0kt4ePGcJn"
      },
      "execution_count": null,
      "outputs": []
    },
    {
      "cell_type": "code",
      "source": [],
      "metadata": {
        "id": "WfdkQpqSGcL3"
      },
      "execution_count": null,
      "outputs": []
    },
    {
      "cell_type": "code",
      "source": [],
      "metadata": {
        "id": "i14BWGXuGcPa"
      },
      "execution_count": null,
      "outputs": []
    }
  ]
}