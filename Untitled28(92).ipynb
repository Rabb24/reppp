{
  "nbformat": 4,
  "nbformat_minor": 0,
  "metadata": {
    "colab": {
      "provenance": []
    },
    "kernelspec": {
      "name": "python3",
      "display_name": "Python 3"
    },
    "language_info": {
      "name": "python"
    }
  },
  "cells": [
    {
      "cell_type": "markdown",
      "source": [
        "pix2struct-chart"
      ],
      "metadata": {
        "id": "KFNLZK93fTGX"
      }
    },
    {
      "cell_type": "code",
      "source": [
        "import torch\n",
        "from transformers import Pix2StructProcessor, Pix2StructForConditionalGeneration\n",
        "from safetensors.torch import save_file, load_file  # Importuj funkcje do safetensors\n",
        "from PIL import Image\n",
        "\n",
        "# Ścieżka do lokalnych plików modelu, obrazów i wag\n",
        "model_path = \"./path_to_local_model_folder\"  # Ścieżka do lokalnego folderu modelu\n",
        "bin_weights_path = \"./path_to_local_model_folder/pytorch_model.bin\"  # Ścieżka do pliku .bin\n",
        "safetensors_weights_path = \"./path_to_local_model_folder/pix2struct_weights.safetensors\"  # Ścieżka do safetensors\n",
        "image_path = \"./path_to_image/sample_image.png\"  # Ścieżka do lokalnego obrazu PNG\n",
        "\n",
        "# 1. Załaduj wagi z pliku .bin\n",
        "state_dict = torch.load(bin_weights_path)\n",
        "\n",
        "# 2. Zapisz wagi w formacie safetensors\n",
        "save_file(state_dict, safetensors_weights_path)\n",
        "\n",
        "# 3. Załaduj procesor\n",
        "processor = Pix2StructProcessor.from_pretrained(model_path)\n",
        "\n",
        "# 4. Załaduj model z wagami safetensors\n",
        "state_dict = load_file(safetensors_weights_path)\n",
        "model = Pix2StructForConditionalGeneration.from_pretrained(model_path, state_dict=state_dict)\n",
        "\n",
        "# 5. Ustaw model na CPU (lub GPU, jeśli masz)\n",
        "device = torch.device(\"cpu\")\n",
        "model.to(device)\n",
        "\n",
        "# 6. Załaduj obraz PNG\n",
        "image = Image.open(image_path)\n",
        "\n",
        "# 7. Podaj pytanie lub kontekst jako nagłówek (header_text)\n",
        "header_text = \"What does this chart represent?\"  # Możesz dostosować pytanie\n",
        "\n",
        "# 8. Przetwórz obraz z nagłówkiem\n",
        "inputs = processor(images=image, return_tensors=\"pt\", text=header_text).to(device)\n",
        "\n",
        "# 9. Wygeneruj tekst na podstawie obrazu\n",
        "generated_ids = model.generate(**inputs, max_new_tokens=80, temperature=0.7, top_p=0.9)\n",
        "\n",
        "# 10. Zdekoduj wygenerowane ID na tekst\n",
        "generated_text = processor.batch_decode(generated_ids, skip_special_tokens=True)[0]\n",
        "print(\"Wygenerowany tekst:\", generated_text)\n"
      ],
      "metadata": {
        "id": "vfyMF-RFoDW4"
      },
      "execution_count": null,
      "outputs": []
    },
    {
      "cell_type": "code",
      "source": [
        "import torch\n",
        "from transformers import Pix2StructProcessor, Pix2StructForConditionalGeneration\n",
        "from safetensors.torch import save_file, load_file\n",
        "from PIL import Image\n",
        "\n",
        "# Ścieżki do lokalnych plików modelu, procesora i obrazów\n",
        "model_path = \"./path_to_local_model_folder\"  # Ścieżka do lokalnego folderu modelu\n",
        "processor_path = \"./path_to_local_preprocessor_folder\"  # Ścieżka do lokalnego folderu z procesorem\n",
        "bin_weights_path = \"./path_to_local_model_folder/pytorch_model.bin\"  # Ścieżka do pliku .bin\n",
        "safetensors_weights_path = \"./path_to_local_model_folder/pix2struct_weights.safetensors\"  # Ścieżka do safetensors\n",
        "image_path = \"./path_to_image/sample_image.png\"  # Ścieżka do lokalnego obrazu PNG\n",
        "\n",
        "# 1. Załaduj wagi z pliku .bin\n",
        "state_dict = torch.load(bin_weights_path)\n",
        "\n",
        "# 2. Zapisz wagi w formacie safetensors\n",
        "save_file(state_dict, safetensors_weights_path)\n",
        "\n",
        "# 3. Załaduj procesor z osobnego folderu\n",
        "processor = Pix2StructProcessor.from_pretrained(processor_path)\n",
        "\n",
        "# 4. Załaduj model z wagami safetensors\n",
        "state_dict = load_file(safetensors_weights_path)\n",
        "model = Pix2StructForConditionalGeneration.from_pretrained(model_path, state_dict=state_dict)\n",
        "\n",
        "# 5. Ustaw model na CPU (lub GPU, jeśli masz)\n",
        "device = torch.device(\"cpu\")\n",
        "model.to(device)\n",
        "\n",
        "# 6. Załaduj obraz PNG\n",
        "image = Image.open(image_path)\n",
        "\n",
        "# 7. Podaj pytanie lub kontekst jako nagłówek (header_text)\n",
        "header_text = \"What does this chart represent?\"  # Możesz dostosować pytanie\n",
        "\n",
        "# 8. Przetwórz obraz z nagłówkiem\n",
        "inputs = processor(images=image, return_tensors=\"pt\", text=header_text).to(device)\n",
        "\n",
        "# 9. Wygeneruj tekst na podstawie obrazu\n",
        "generated_ids = model.generate(**inputs, max_new_tokens=80, temperature=0.7, top_p=0.9)\n",
        "\n",
        "# 10. Zdekoduj wygenerowane ID na tekst\n",
        "generated_text = processor.batch_decode(generated_ids, skip_special_tokens=True)[0]\n",
        "print(\"Wygenerowany tekst:\", generated_text)\n"
      ],
      "metadata": {
        "id": "ggH0mWLdoDaU"
      },
      "execution_count": null,
      "outputs": []
    }
  ]
}