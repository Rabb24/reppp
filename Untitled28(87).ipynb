{
  "nbformat": 4,
  "nbformat_minor": 0,
  "metadata": {
    "colab": {
      "provenance": []
    },
    "kernelspec": {
      "name": "python3",
      "display_name": "Python 3"
    },
    "language_info": {
      "name": "python"
    }
  },
  "cells": [
    {
      "cell_type": "markdown",
      "source": [
        "pix2struct-base"
      ],
      "metadata": {
        "id": "KFNLZK93fTGX"
      }
    },
    {
      "cell_type": "code",
      "source": [
        "import torch\n",
        "from transformers import Pix2StructProcessor, Pix2StructForConditionalGeneration\n",
        "from PIL import Image\n",
        "\n",
        "# Ścieżka do lokalnych plików modelu i obrazu\n",
        "model_path = \"./path_to_model_folder\"\n",
        "image_path = \"./path_to_image/sample_image.png\"  # Ścieżka do lokalnego obrazu PNG\n",
        "\n",
        "# Załaduj procesor i model z lokalnych plików\n",
        "processor = Pix2StructProcessor.from_pretrained(model_path)\n",
        "model = Pix2StructForConditionalGeneration.from_pretrained(model_path)\n",
        "\n",
        "# Ustaw model na CPU (jeśli masz GPU, możesz użyć 'cuda')\n",
        "device = torch.device(\"cpu\")\n",
        "model.to(device)\n",
        "\n",
        "# Załaduj obraz PNG\n",
        "image = Image.open(image_path)\n",
        "\n",
        "# Przetwórz obraz do formatu wymaganego przez model\n",
        "inputs = processor(images=image, return_tensors=\"pt\").to(device)\n",
        "\n",
        "# Wygeneruj tekst na podstawie obrazu\n",
        "generated_ids = model.generate(**inputs)\n",
        "\n",
        "# Zdekoduj wygenerowane ID na tekst\n",
        "generated_text = processor.batch_decode(generated_ids, skip_special_tokens=True)[0]\n",
        "print(\"Wygenerowany tekst:\", generated_text)\n"
      ],
      "metadata": {
        "id": "zOt9XUKuoDR9"
      },
      "execution_count": null,
      "outputs": []
    },
    {
      "cell_type": "code",
      "source": [],
      "metadata": {
        "id": "V7zCH8pVoDUF"
      },
      "execution_count": null,
      "outputs": []
    },
    {
      "cell_type": "code",
      "source": [],
      "metadata": {
        "id": "vfyMF-RFoDW4"
      },
      "execution_count": null,
      "outputs": []
    },
    {
      "cell_type": "code",
      "source": [],
      "metadata": {
        "id": "ggH0mWLdoDaU"
      },
      "execution_count": null,
      "outputs": []
    }
  ]
}