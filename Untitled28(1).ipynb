{
  "nbformat": 4,
  "nbformat_minor": 0,
  "metadata": {
    "colab": {
      "provenance": []
    },
    "kernelspec": {
      "name": "python3",
      "display_name": "Python 3"
    },
    "language_info": {
      "name": "python"
    }
  },
  "cells": [
    {
      "cell_type": "code",
      "execution_count": null,
      "metadata": {
        "id": "e3eBpKDyKU4p"
      },
      "outputs": [],
      "source": [
        "import pandas as pd\n",
        "\n",
        "def count_nulls_by_month(file_path):\n",
        "    # Wczytanie danych z pliku CSV\n",
        "    df = pd.read_csv(file_path)\n",
        "\n",
        "    # Konwersja kolumny daty na datetime\n",
        "    df['data'] = pd.to_datetime(df['data'])\n",
        "\n",
        "    # Dodanie kolumny miesiąc i rok\n",
        "    df['month'] = df['data'].dt.month\n",
        "    df['year'] = df['data'].dt.year\n",
        "\n",
        "    # Lista kolumn (poza kolumną z datą)\n",
        "    columns = df.columns.difference(['data', 'month', 'year'])\n",
        "\n",
        "    # Tworzenie pustego DataFrame do przechowywania wyników\n",
        "    results = pd.DataFrame(columns=['year', 'month', 'column', 'null_count'])\n",
        "\n",
        "    # Iteracja po unikalnych latach i miesiącach\n",
        "    for year in df['year'].unique():\n",
        "        for month in df['month'].unique():\n",
        "            for column in columns:\n",
        "                # Zliczanie nulli dla danego miesiąca i kolumny\n",
        "                null_count = df[(df['year'] == year) & (df['month'] == month)][column].isnull().sum()\n",
        "                # Dodanie wyników do DataFrame\n",
        "                results = results.append({'year': year, 'month': month, 'column': column, 'null_count': null_count}, ignore_index=True)\n",
        "\n",
        "    return results\n",
        "\n",
        "# Użycie funkcji z plikiem CSV\n",
        "file_path = 'path_to_your_file.csv'\n",
        "results = count_nulls_by_month(file_path)\n",
        "print(results)\n"
      ]
    },
    {
      "cell_type": "code",
      "source": [
        "import pandas as pd\n",
        "\n",
        "def count_nulls_by_month(file_path):\n",
        "    # Wczytanie danych z pliku CSV\n",
        "    df = pd.read_csv(file_path)\n",
        "\n",
        "    # Konwersja kolumny daty na datetime\n",
        "    df['data'] = pd.to_datetime(df['data'])\n",
        "\n",
        "    # Dodanie kolumny miesiąc i rok\n",
        "    df['month'] = df['data'].dt.month\n",
        "    df['year'] = df['data'].dt.year\n",
        "\n",
        "    # Lista kolumn (poza kolumną z datą)\n",
        "    columns = df.columns.difference(['data', 'month', 'year'])\n",
        "\n",
        "    # Tworzenie pustego słownika do przechowywania wyników\n",
        "    results = {column: [0]*12 for column in columns}\n",
        "\n",
        "    # Iteracja po unikalnych latach i miesiącach\n",
        "    for month in range(1, 13):\n",
        "        for column in columns:\n",
        "            # Zliczanie nulli dla danego miesiąca i kolumny\n",
        "            null_count = df[df['month'] == month][column].isnull().sum()\n",
        "            # Dodanie wyników do słownika\n",
        "            results[column][month-1] += null_count\n",
        "\n",
        "    return results\n",
        "\n",
        "# Użycie funkcji z plikiem CSV\n",
        "file_path = 'path_to_your_file.csv'\n",
        "results = count_nulls_by_month(file_path)\n",
        "\n",
        "# Wyświetlenie wyników\n",
        "for column, null_counts in results.items():\n",
        "    print(f\"Column: {column}, Null counts by month: {null_counts}\")\n",
        "\n",
        "# Przykład tworzenia wykresu dla jednej kolumny\n",
        "import matplotlib.pyplot as plt\n",
        "\n",
        "column_name = 'your_column_name'  # Nazwa kolumny, którą chcesz przedstawić na wykresie\n",
        "null_counts = results[column_name]\n",
        "\n",
        "plt.plot(range(1, 13), null_counts, marker='o')\n",
        "plt.title(f'Null counts per month for {column_name}')\n",
        "plt.xlabel('Month')\n",
        "plt.ylabel('Null count')\n",
        "plt.xticks(range(1, 13))\n",
        "plt.grid(True)\n",
        "plt.show()\n"
      ],
      "metadata": {
        "id": "1oj8wLGcKYIL"
      },
      "execution_count": null,
      "outputs": []
    },
    {
      "cell_type": "code",
      "source": [
        "import pandas as pd\n",
        "\n",
        "def count_nulls_by_month(file_path):\n",
        "    # Wczytanie danych z pliku CSV\n",
        "    df = pd.read_csv(file_path)\n",
        "\n",
        "    # Konwersja kolumny daty na datetime\n",
        "    df['data'] = pd.to_datetime(df['data'])\n",
        "\n",
        "    # Dodanie kolumny miesiąc i rok\n",
        "    df['month'] = df['data'].dt.month\n",
        "    df['year'] = df['data'].dt.year\n",
        "\n",
        "    # Lista kolumn (poza kolumną z datą)\n",
        "    columns = df.columns.difference(['data', 'month', 'year'])\n",
        "\n",
        "    # Tworzenie pustego słownika do przechowywania wyników\n",
        "    results = {column: [0]*12 for column in columns}\n",
        "\n",
        "    # Lista miesięcy od lipca 2023 do czerwca 2024\n",
        "    periods = [(2023, month) for month in range(7, 13)] + [(2024, month) for month in range(1, 7)]\n",
        "\n",
        "    # Iteracja po okresach (miesiącach) od lipca 2023 do czerwca 2024\n",
        "    for i, (year, month) in enumerate(periods):\n",
        "        for column in columns:\n",
        "            # Zliczanie nulli dla danego roku, miesiąca i kolumny\n",
        "            null_count = df[(df['year'] == year) & (df['month'] == month)][column].isnull().sum()\n",
        "            # Dodanie wyników do słownika\n",
        "            results[column][i] += null_count\n",
        "\n",
        "    return results\n",
        "\n",
        "# Użycie funkcji z plikiem CSV\n",
        "file_path = 'path_to_your_file.csv'\n",
        "results = count_nulls_by_month(file_path)\n",
        "\n",
        "# Wyświetlenie wyników\n",
        "for column, null_counts in results.items():\n",
        "    print(f\"Column: {column}, Null counts by month: {null_counts}\")\n",
        "\n",
        "# Przykład tworzenia wykresu dla jednej kolumny\n",
        "import matplotlib.pyplot as plt\n",
        "\n",
        "column_name = 'your_column_name'  # Nazwa kolumny, którą chcesz przedstawić na wykresie\n",
        "null_counts = results[column_name]\n",
        "\n",
        "# Tworzenie listy etykiet miesięcy\n",
        "months_labels = ['Jul 2023', 'Aug 2023', 'Sep 2023', 'Oct 2023', 'Nov 2023', 'Dec 2023',\n",
        "                 'Jan 2024', 'Feb 2024', 'Mar 2024', 'Apr 2024', 'May 2024', 'Jun 2024']\n",
        "\n",
        "plt.plot(months_labels, null_counts, marker='o')\n",
        "plt.title(f'Null counts per month for {column_name}')\n",
        "plt.xlabel('Month')\n",
        "plt.ylabel('Null count')\n",
        "plt.xticks(rotation=45)\n",
        "plt.grid(True)\n",
        "plt.show()"
      ],
      "metadata": {
        "id": "8fwB921bKYo1"
      },
      "execution_count": null,
      "outputs": []
    },
    {
      "cell_type": "code",
      "source": [
        "import pandas as pd\n",
        "\n",
        "def count_unique_by_month(file_path):\n",
        "    # Wczytanie danych z pliku CSV\n",
        "    df = pd.read_csv(file_path)\n",
        "\n",
        "    # Konwersja kolumny daty na datetime\n",
        "    df['data'] = pd.to_datetime(df['data'])\n",
        "\n",
        "    # Dodanie kolumny miesiąc i rok\n",
        "    df['month'] = df['data'].dt.month\n",
        "    df['year'] = df['data'].dt.year\n",
        "\n",
        "    # Lista kolumn (poza kolumną z datą)\n",
        "    columns = df.columns.difference(['data', 'month', 'year'])\n",
        "\n",
        "    # Tworzenie pustego słownika do przechowywania wyników\n",
        "    results = {column: [0]*12 for column in columns}\n",
        "\n",
        "    # Lista miesięcy od lipca 2023 do czerwca 2024\n",
        "    periods = [(2023, month) for month in range(7, 13)] + [(2024, month) for month in range(1, 7)]\n",
        "\n",
        "    # Iteracja po okresach (miesiącach) od lipca 2023 do czerwca 2024\n",
        "    for i, (year, month) in enumerate(periods):\n",
        "        for column in columns:\n",
        "            # Zliczanie unikatowych wartości dla danego roku, miesiąca i kolumny\n",
        "            unique_count = df[(df['year'] == year) & (df['month'] == month)][column].nunique()\n",
        "            # Dodanie wyników do słownika\n",
        "            results[column][i] += unique_count\n",
        "\n",
        "    return results\n",
        "\n",
        "# Użycie funkcji z plikiem CSV\n",
        "file_path = 'path_to_your_file.csv'\n",
        "results = count_unique_by_month(file_path)\n",
        "\n",
        "# Wyświetlenie wyników\n",
        "for column, unique_counts in results.items():\n",
        "    print(f\"Column: {column}, Unique counts by month: {unique_counts}\")\n",
        "\n",
        "# Przykład tworzenia wykresu dla jednej kolumny\n",
        "import matplotlib.pyplot as plt\n",
        "\n",
        "column_name = 'your_column_name'  # Nazwa kolumny, którą chcesz przedstawić na wykresie\n",
        "unique_counts = results[column_name]\n",
        "\n",
        "# Tworzenie listy etykiet miesięcy\n",
        "months_labels = ['Jul 2023', 'Aug 2023', 'Sep 2023', 'Oct 2023', 'Nov 2023', 'Dec 2023',\n",
        "                 'Jan 2024', 'Feb 2024', 'Mar 2024', 'Apr 2024', 'May 2024', 'Jun 2024']\n",
        "\n",
        "plt.plot(months_labels, unique_counts, marker='o')\n",
        "plt.title(f'Unique counts per month for {column_name}')\n",
        "plt.xlabel('Month')\n",
        "plt.ylabel('Unique count')\n",
        "plt.xticks(rotation=45)\n",
        "plt.grid(True)\n",
        "plt.show()\n"
      ],
      "metadata": {
        "id": "5w_QPt5BaEgE"
      },
      "execution_count": null,
      "outputs": []
    },
    {
      "cell_type": "code",
      "source": [
        "unique_count = df[(df['year'] == year) & (df['month'] == month)][column].nunique()"
      ],
      "metadata": {
        "id": "aSZKw6cuaK90"
      },
      "execution_count": null,
      "outputs": []
    },
    {
      "cell_type": "code",
      "source": [
        "file_path = 'path_to_your_file.csv'\n",
        "results = count_unique_by_month(file_path)\n"
      ],
      "metadata": {
        "id": "3B85rYlnaLBf"
      },
      "execution_count": null,
      "outputs": []
    },
    {
      "cell_type": "code",
      "source": [],
      "metadata": {
        "id": "YDcFCdBEaEV8"
      },
      "execution_count": null,
      "outputs": []
    },
    {
      "cell_type": "code",
      "source": [],
      "metadata": {
        "id": "-QlPge3HaESY"
      },
      "execution_count": null,
      "outputs": []
    },
    {
      "cell_type": "code",
      "source": [],
      "metadata": {
        "id": "JaRkIBb0aEP7"
      },
      "execution_count": null,
      "outputs": []
    }
  ]
}