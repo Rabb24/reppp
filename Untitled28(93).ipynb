{
  "nbformat": 4,
  "nbformat_minor": 0,
  "metadata": {
    "colab": {
      "provenance": []
    },
    "kernelspec": {
      "name": "python3",
      "display_name": "Python 3"
    },
    "language_info": {
      "name": "python"
    }
  },
  "cells": [
    {
      "cell_type": "markdown",
      "source": [
        "pix2struct-chart\n",
        "\n",
        "```\n",
        "# Sformatowano jako kod\n",
        "```\n",
        "\n"
      ],
      "metadata": {
        "id": "KFNLZK93fTGX"
      }
    },
    {
      "cell_type": "markdown",
      "source": [
        "donut-base"
      ],
      "metadata": {
        "id": "y-_kglejMtYY"
      }
    },
    {
      "cell_type": "code",
      "source": [
        "import torch\n",
        "from transformers import DonutProcessor, VisionEncoderDecoderModel\n",
        "from PIL import Image\n",
        "\n",
        "# Ścieżka do lokalnych plików modelu i obrazów\n",
        "model_name = \"naver-clova-ix/donut-base\"  # Nazwa modelu z Hugging Face Model Hub\n",
        "image_path = \"./path_to_image/sample_image.png\"  # Ścieżka do lokalnego obrazu PNG\n",
        "\n",
        "# Załaduj procesor i model z Hugging Face Model Hub\n",
        "processor = DonutProcessor.from_pretrained(model_name)\n",
        "model = VisionEncoderDecoderModel.from_pretrained(model_name)\n",
        "\n",
        "# Ustaw model na CPU (lub GPU, jeśli masz, wtedy 'cuda')\n",
        "device = torch.device(\"cpu\")\n",
        "model.to(device)\n",
        "\n",
        "# Załaduj obraz PNG\n",
        "image = Image.open(image_path)\n",
        "\n",
        "# Przetwórz obraz do formatu wymaganego przez model\n",
        "pixel_values = processor(images=image, return_tensors=\"pt\").pixel_values\n",
        "pixel_values = pixel_values.to(device)\n",
        "\n",
        "# Wygeneruj tekst na podstawie obrazu\n",
        "generated_ids = model.generate(pixel_values, max_new_tokens=512)  # Możesz dostosować max_new_tokens\n",
        "\n",
        "# Zdekoduj wygenerowane ID na tekst\n",
        "generated_text = processor.batch_decode(generated_ids, skip_special_tokens=True)[0]\n",
        "print(\"Wygenerowany tekst:\", generated_text)\n"
      ],
      "metadata": {
        "id": "wbPb0WWgMwgR"
      },
      "execution_count": null,
      "outputs": []
    },
    {
      "cell_type": "code",
      "source": [
        "import torch\n",
        "from transformers import DonutProcessor, VisionEncoderDecoderModel\n",
        "from PIL import Image\n",
        "\n",
        "# Ścieżka do lokalnych plików modelu i obrazów\n",
        "model_name = \"naver-clova-ix/donut-base\"  # Nazwa modelu z Hugging Face Model Hub\n",
        "image_path = \"./path_to_image/sample_image.png\"  # Ścieżka do lokalnego obrazu PNG\n",
        "\n",
        "# Załaduj procesor i model z Hugging Face Model Hub\n",
        "processor = DonutProcessor.from_pretrained(model_name)\n",
        "model = VisionEncoderDecoderModel.from_pretrained(model_name)\n",
        "\n",
        "# Ustaw model na CPU (lub GPU, jeśli masz, wtedy 'cuda')\n",
        "device = torch.device(\"cpu\")\n",
        "model.to(device)\n",
        "\n",
        "# Załaduj obraz PNG\n",
        "image = Image.open(image_path)\n",
        "\n",
        "# Przetwórz obraz do formatu wymaganego przez model\n",
        "inputs = processor(images=image, return_tensors=\"pt\").to(device)\n",
        "\n",
        "# Wygeneruj tekst na podstawie obrazu\n",
        "generated_ids = model.generate(**inputs, max_new_tokens=512)  # Możesz dostosować max_new_tokens\n",
        "\n",
        "# Zdekoduj wygenerowane ID na tekst\n",
        "generated_text = processor.batch_decode(generated_ids, skip_special_tokens=True)[0]\n",
        "print(\"Wygenerowany tekst:\", generated_text)\n"
      ],
      "metadata": {
        "id": "eX5IbKlFMwjB"
      },
      "execution_count": null,
      "outputs": []
    },
    {
      "cell_type": "code",
      "source": [
        "import torch\n",
        "from safetensors.torch import save_file\n",
        "\n",
        "# Ścieżki do plików z wagami\n",
        "bin_weights_path = \"./path_to_model/pytorch_model.bin\"  # Ścieżka do pliku z wagami .bin\n",
        "safetensors_weights_path = \"./path_to_model/pytorch_model.safetensors\"  # Ścieżka do zapisu wag w formacie safetensors\n",
        "\n",
        "# 1. Załaduj wagi modelu z pliku .bin\n",
        "state_dict = torch.load(bin_weights_path)\n",
        "\n",
        "# 2. Zapisz wagi w formacie safetensors\n",
        "save_file(state_dict, safetensors_weights_path)\n",
        "\n",
        "print(f\"Wagi zostały zapisane w formacie safetensors w pliku: {safetensors_weights_path}\")\n"
      ],
      "metadata": {
        "id": "KxZsuUUbMwml"
      },
      "execution_count": null,
      "outputs": []
    },
    {
      "cell_type": "code",
      "source": [
        "import torch\n",
        "from transformers import DonutProcessor, VisionEncoderDecoderModel\n",
        "from safetensors.torch import load_file\n",
        "from PIL import Image\n",
        "\n",
        "# Ścieżki do modelu, procesora i wag safetensors\n",
        "model_path = \"./path_to_model\"  # Ścieżka do folderu z modelem (config i inne pliki modelu)\n",
        "safetensors_weights_path = \"./path_to_model/pytorch_model.safetensors\"  # Ścieżka do wag safetensors\n",
        "image_path = \"./path_to_image/sample_image.png\"  # Ścieżka do obrazu PNG\n",
        "\n",
        "# Załaduj procesor z folderu modelu\n",
        "processor = DonutProcessor.from_pretrained(model_path)\n",
        "\n",
        "# Załaduj wagi safetensors\n",
        "state_dict = load_file(safetensors_weights_path)\n",
        "\n",
        "# Załaduj model z wagami safetensors\n",
        "model = VisionEncoderDecoderModel.from_pretrained(model_path, state_dict=state_dict)\n",
        "\n",
        "# Przenieś model na CPU (lub GPU, jeśli masz, wtedy zmień na 'cuda')\n",
        "device = torch.device(\"cpu\")\n",
        "model.to(device)\n",
        "\n",
        "# Załaduj obraz PNG\n",
        "image = Image.open(image_path)\n",
        "\n",
        "# Przetwórz obraz do formatu wymaganego przez model\n",
        "inputs = processor(images=image, return_tensors=\"pt\").to(device)\n",
        "\n",
        "# Wygeneruj tekst na podstawie obrazu\n",
        "generated_ids = model.generate(**inputs, max_new_tokens=512)  # Możesz dostosować max_new_tokens\n",
        "\n",
        "# Zdekoduj wygenerowane ID na tekst\n",
        "generated_text = processor.batch_decode(generated_ids, skip_special_tokens=True)[0]\n",
        "print(\"Wygenerowany tekst:\", generated_text)\n"
      ],
      "metadata": {
        "id": "JyR1BNw9Mwv6"
      },
      "execution_count": null,
      "outputs": []
    }
  ]
}