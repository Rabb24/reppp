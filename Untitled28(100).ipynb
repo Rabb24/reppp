{
  "nbformat": 4,
  "nbformat_minor": 0,
  "metadata": {
    "colab": {
      "provenance": []
    },
    "kernelspec": {
      "name": "python3",
      "display_name": "Python 3"
    },
    "language_info": {
      "name": "python"
    }
  },
  "cells": [
    {
      "cell_type": "code",
      "source": [
        "import torch\n",
        "from safetensors.torch import save_file\n",
        "\n",
        "# Ścieżka do pliku .bin (stare wagi)\n",
        "bin_weights_path = \"./path_to_your_model/pytorch_model.bin\"\n",
        "\n",
        "# Ścieżka do zapisu pliku safetensors (nowe wagi)\n",
        "safetensors_weights_path = \"./path_to_your_model/pytorch_model.safetensors\"\n",
        "\n",
        "# 1. Załaduj wagi modelu z pliku .bin\n",
        "state_dict = torch.load(bin_weights_path, map_location=\"cpu\")\n",
        "\n",
        "# 2. Zapisz wagi w formacie safetensors\n",
        "save_file(state_dict, safetensors_weights_path)\n",
        "\n",
        "print(f\"Wagi zostały zapisane w formacie safetensors: {safetensors_weights_path}\")\n"
      ],
      "metadata": {
        "id": "DtUm7WHVaG3D"
      },
      "execution_count": null,
      "outputs": []
    },
    {
      "cell_type": "code",
      "source": [],
      "metadata": {
        "id": "PWVC42pcaG5a"
      },
      "execution_count": null,
      "outputs": []
    },
    {
      "cell_type": "code",
      "source": [],
      "metadata": {
        "id": "8Lzby_UvaG7Z"
      },
      "execution_count": null,
      "outputs": []
    },
    {
      "cell_type": "code",
      "source": [],
      "metadata": {
        "id": "IA8S8Qe4aG--"
      },
      "execution_count": null,
      "outputs": []
    }
  ]
}