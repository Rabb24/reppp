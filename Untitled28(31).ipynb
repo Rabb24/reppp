{
  "nbformat": 4,
  "nbformat_minor": 0,
  "metadata": {
    "colab": {
      "provenance": []
    },
    "kernelspec": {
      "name": "python3",
      "display_name": "Python 3"
    },
    "language_info": {
      "name": "python"
    }
  },
  "cells": [
    {
      "cell_type": "code",
      "source": [
        "import pandas as pd\n",
        "import os\n",
        "\n",
        "folder_path = '/ścieżka/do/folderu'\n",
        "\n",
        "csv_files = [os.path.join(folder_path, file) for file in os.listdir(folder_path) if file.endswith('.csv')]\n",
        "\n",
        "df_list = []\n",
        "\n",
        "for file in csv_files:\n",
        "    try:\n",
        "        df = pd.read_csv(file)\n",
        "        if not df.empty:\n",
        "            df_list.append(df)\n",
        "    except pd.errors.EmptyDataError:\n",
        "        print(f\"Pominięto pusty plik: {file}\")\n",
        "    except pd.errors.ParserError:\n",
        "        print(f\"Błąd parsowania pliku: {file}\")\n",
        "\n",
        "if df_list:\n",
        "    combined_df = pd.concat(df_list, ignore_index=True)\n",
        "    combined_df.to_csv('/ścieżka/do/zapisania/combined.csv', index=False)\n",
        "    print(\"Zakończono łączenie plików.\")\n",
        "else:\n",
        "    print(\"Żaden plik nie zawierał danych do połączenia.\")\n"
      ],
      "metadata": {
        "id": "b_nG3KDxWuDy"
      },
      "execution_count": null,
      "outputs": []
    },
    {
      "cell_type": "code",
      "source": [],
      "metadata": {
        "id": "kGu6fENUWuGG"
      },
      "execution_count": null,
      "outputs": []
    },
    {
      "cell_type": "code",
      "source": [],
      "metadata": {
        "id": "k1EGrIuqWuJw"
      },
      "execution_count": null,
      "outputs": []
    }
  ]
}