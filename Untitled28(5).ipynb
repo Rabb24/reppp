{
  "nbformat": 4,
  "nbformat_minor": 0,
  "metadata": {
    "colab": {
      "provenance": []
    },
    "kernelspec": {
      "name": "python3",
      "display_name": "Python 3"
    },
    "language_info": {
      "name": "python"
    }
  },
  "cells": [
    {
      "cell_type": "code",
      "source": [
        "def plot_records_by_month(records_by_month):\n",
        "    # Tworzenie kolumny 'year_month' w formacie 'YYYY-MM'\n",
        "    records_by_month['year_month'] = records_by_month.apply(lambda row: f\"{row['year']}-{row['month']:02d}\", axis=1)\n",
        "\n",
        "    # Sortowanie danych według 'year_month'\n",
        "    records_by_month = records_by_month.sort_values(by='year_month')\n",
        "\n",
        "    # Wykres słupkowy\n",
        "    plt.figure(figsize=(12, 6))\n",
        "    plt.bar(records_by_month['year_month'], records_by_month['record_count'], color='skyblue')\n",
        "    plt.title('Number of Records per Month')\n",
        "    plt.xlabel('Month')\n",
        "    plt.ylabel('Record Count')\n",
        "    plt.xticks(rotation=45)\n",
        "    plt.grid(axis='y')\n",
        "    plt.tight_layout()\n",
        "    plt.show()\n",
        "\n",
        "# Ścieżka do pliku CSV i nazwa kolumny z datą\n",
        "file_path = 'path_to_your_file.csv'\n",
        "date_column = 'data'\n",
        "\n",
        "# Wywołanie funkcji i wyświetlenie wyników\n",
        "records_by_month = count_records_by_month(file_path, date_column)\n",
        "plot_records_by_month(records_by_month)"
      ],
      "metadata": {
        "id": "o9_BFrZGU5pO"
      },
      "execution_count": null,
      "outputs": []
    },
    {
      "cell_type": "code",
      "source": [],
      "metadata": {
        "id": "aSek6j1sU5hZ"
      },
      "execution_count": null,
      "outputs": []
    },
    {
      "cell_type": "code",
      "source": [],
      "metadata": {
        "id": "MYP9zKJMU5Xi"
      },
      "execution_count": null,
      "outputs": []
    }
  ]
}