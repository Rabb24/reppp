{
  "nbformat": 4,
  "nbformat_minor": 0,
  "metadata": {
    "colab": {
      "provenance": []
    },
    "kernelspec": {
      "name": "python3",
      "display_name": "Python 3"
    },
    "language_info": {
      "name": "python"
    }
  },
  "cells": [
    {
      "cell_type": "code",
      "source": [
        "from docx import Document\n",
        "from copy import deepcopy\n",
        "\n",
        "def copy_table(source_table, target_document):\n",
        "    # Kopiuje tabelę z jednego dokumentu do drugiego\n",
        "    target_table = target_document.add_table(rows=len(source_table.rows), cols=len(source_table.columns))\n",
        "\n",
        "    # Kopiowanie zawartości komórek tabeli\n",
        "    for row_idx, row in enumerate(source_table.rows):\n",
        "        for col_idx, cell in enumerate(row.cells):\n",
        "            target_table.cell(row_idx, col_idx).text = cell.text\n",
        "\n",
        "def copy_paragraph(paragraph, document):\n",
        "    # Kopiuje paragraf z formatowaniem\n",
        "    new_paragraph = document.add_paragraph()\n",
        "    for run in paragraph.runs:\n",
        "        new_run = new_paragraph.add_run(run.text)\n",
        "        new_run.bold = run.bold\n",
        "        new_run.italic = run.italic\n",
        "        new_run.underline = run.underline\n",
        "        new_run.font.size = run.font.size\n",
        "        new_run.font.name = run.font.name\n",
        "    new_paragraph.style = paragraph.style\n",
        "\n",
        "def extract_sections(input_docx_path, output_docx_path, sections_to_extract):\n",
        "    # Otwórz plik wejściowy DOCX\n",
        "    doc = Document(input_docx_path)\n",
        "\n",
        "    # Utwórz nowy dokument\n",
        "    new_doc = Document()\n",
        "\n",
        "    # Flaga, która kontroluje, czy kopiujemy zawartość\n",
        "    copy_content = False\n",
        "\n",
        "    # Iteracja po elementach w dokumencie\n",
        "    for para in doc.paragraphs:\n",
        "        # Sprawdzenie, czy paragraf jest nagłówkiem i należy do wybranych sekcji\n",
        "        if para.style.name in ['Heading 1', 'Heading 2', 'Heading 3']:\n",
        "            if para.text in sections_to_extract:\n",
        "                copy_content = True  # Zacznij kopiowanie, gdy znajdziesz odpowiedni nagłówek\n",
        "            else:\n",
        "                copy_content = False  # Zatrzymaj kopiowanie, jeśli to nie interesujący rozdział\n",
        "\n",
        "        # Kopiowanie paragrafów, jeśli jesteśmy w odpowiedniej sekcji\n",
        "        if copy_content:\n",
        "            copy_paragraph(para, new_doc)\n",
        "\n",
        "    # Kopiowanie tabel\n",
        "    for table in doc.tables:\n",
        "        if copy_content:\n",
        "            copy_table(table, new_doc)\n",
        "\n",
        "    # Zapisz nowy dokument\n",
        "    new_doc.save(output_docx_path)\n",
        "    print(f\"Nowy plik został zapisany jako: {output_docx_path}\")\n",
        "\n",
        "# Przykład użycia:\n",
        "input_path = \"dokument_wejsciowy.docx\"\n",
        "output_path = \"wybrane_sekcje.docx\"\n",
        "sections = [\"Wstęp\", \"Rozdział 1\", \"Podrozdział 1.1\"]  # Wybierz sekcje do wyodrębnienia\n",
        "\n",
        "extract_sections(input_path, output_path, sections)\n"
      ],
      "metadata": {
        "id": "56HsuaUYX_sF"
      },
      "execution_count": null,
      "outputs": []
    },
    {
      "cell_type": "code",
      "source": [],
      "metadata": {
        "id": "jt0kt4ePGcJn"
      },
      "execution_count": null,
      "outputs": []
    },
    {
      "cell_type": "code",
      "source": [],
      "metadata": {
        "id": "WfdkQpqSGcL3"
      },
      "execution_count": null,
      "outputs": []
    },
    {
      "cell_type": "code",
      "source": [],
      "metadata": {
        "id": "i14BWGXuGcPa"
      },
      "execution_count": null,
      "outputs": []
    }
  ]
}