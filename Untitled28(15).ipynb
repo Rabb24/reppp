{
  "nbformat": 4,
  "nbformat_minor": 0,
  "metadata": {
    "colab": {
      "provenance": []
    },
    "kernelspec": {
      "name": "python3",
      "display_name": "Python 3"
    },
    "language_info": {
      "name": "python"
    }
  },
  "cells": [
    {
      "cell_type": "code",
      "source": [
        "import pandas as pd\n",
        "\n",
        "def count_nulls_by_month(file_path, date_column):\n",
        "    # Wczytanie danych z pliku CSV\n",
        "    df = pd.read_csv(file_path)\n",
        "\n",
        "    # Konwersja kolumny daty na datetime\n",
        "    df[date_column] = pd.to_datetime(df[date_column])\n",
        "\n",
        "    # Dodanie kolumny miesiąc i rok\n",
        "    df['month'] = df[date_column].dt.month\n",
        "    df['year'] = df[date_column].dt.year\n",
        "\n",
        "    # Lista kolumn (poza kolumną z datą, miesiącem i rokiem)\n",
        "    columns = df.columns.difference([date_column, 'month', 'year'])\n",
        "\n",
        "    # Tworzenie pustego DataFrame do przechowywania wyników\n",
        "    results = pd.DataFrame(columns=['year', 'month', 'column', 'null_count'])\n",
        "\n",
        "    # Iteracja po unikalnych latach i miesiącach\n",
        "    for year in df['year'].unique():\n",
        "        for month in df['month'].unique():\n",
        "            for column in columns:\n",
        "                # Zliczanie nulli dla danego miesiąca i kolumny\n",
        "                null_count = df[(df['year'] == year) & (df['month'] == month)][column].isnull().sum()\n",
        "                # Dodanie wyników do DataFrame\n",
        "                results = results.append({'year': year, 'month': month, 'column': column, 'null_count': null_count}, ignore_index=True)\n",
        "\n",
        "    return results\n",
        "\n",
        "# Użycie funkcji z plikiem CSV\n",
        "file_path = 'path_to_your_file.csv'\n",
        "date_column = 'data'\n",
        "results = count_nulls_by_month(file_path, date_column)\n",
        "print(results)\n"
      ],
      "metadata": {
        "id": "Jhaq1WCZ3atP"
      },
      "execution_count": null,
      "outputs": []
    },
    {
      "cell_type": "code",
      "source": [
        "import pandas as pd\n",
        "\n",
        "def count_nulls_by_month(file_path, date_column):\n",
        "    # Wczytanie danych z pliku CSV\n",
        "    df = pd.read_csv(file_path)\n",
        "\n",
        "    # Konwersja kolumny daty na datetime\n",
        "    df[date_column] = pd.to_datetime(df[date_column])\n",
        "\n",
        "    # Dodanie kolumny miesiąc i rok\n",
        "    df['month'] = df[date_column].dt.month\n",
        "    df['year'] = df[date_column].dt.year\n",
        "\n",
        "    # Lista kolumn (poza kolumną z datą, miesiącem i rokiem)\n",
        "    columns = df.columns.difference([date_column, 'month', 'year'])\n",
        "\n",
        "    # Tworzenie pustego słownika do przechowywania wyników\n",
        "    results = {column: [0]*12 for column in columns}\n",
        "\n",
        "    # Iteracja po unikalnych miesiącach\n",
        "    for month in range(1, 13):\n",
        "        for column in columns:\n",
        "            # Zliczanie nulli dla danego miesiąca i kolumny\n",
        "            null_count = df[df['month'] == month][column].isnull().sum()\n",
        "            # Dodanie wyników do słownika\n",
        "            results[column][month-1] += null_count\n",
        "\n",
        "    return results\n",
        "\n",
        "# Użycie funkcji z plikiem CSV\n",
        "file_path = 'path_to_your_file.csv'\n",
        "date_column = 'data'\n",
        "\n",
        "results = count_nulls_by_month(file_path, date_column)\n",
        "\n",
        "# Wyświetlenie wyników\n",
        "for column, null_counts in results.items():\n",
        "    print(f\"Column: {column}, Null counts by month: {null_counts}\")\n"
      ],
      "metadata": {
        "id": "84a0X8BuJbk2"
      },
      "execution_count": null,
      "outputs": []
    }
  ]
}