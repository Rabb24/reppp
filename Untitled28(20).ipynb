{
  "nbformat": 4,
  "nbformat_minor": 0,
  "metadata": {
    "colab": {
      "provenance": []
    },
    "kernelspec": {
      "name": "python3",
      "display_name": "Python 3"
    },
    "language_info": {
      "name": "python"
    }
  },
  "cells": [
    {
      "cell_type": "code",
      "source": [],
      "metadata": {
        "id": "chd1pXDSlqLQ"
      },
      "execution_count": null,
      "outputs": []
    },
    {
      "cell_type": "code",
      "source": [
        "import pandas as pd\n",
        "\n",
        "def extract_rows_based_on_column(input_csv, output_csv, column_name):\n",
        "    df = pd.read_csv(input_csv)\n",
        "\n",
        "    filtered_df = df[df[column_name] == 1]\n",
        "\n",
        "    filtered_df.to_csv(output_csv, index=False)\n",
        "\n",
        "input_csv = 'twoj_plik.csv'  # Nazwa pliku wejściowego\n",
        "output_csv = 'plik_wynikowy.csv'  # Nazwa pliku wyjściowego\n",
        "column_name = 'nazwa_kolumny'  # Nazwa kolumny, według której chcesz filtrować\n",
        "\n",
        "extract_rows_based_on_column(input_csv, output_csv, column_name)\n"
      ],
      "metadata": {
        "id": "HP9luz1ElqFN"
      },
      "execution_count": null,
      "outputs": []
    },
    {
      "cell_type": "code",
      "source": [],
      "metadata": {
        "id": "7l83J7WNlqRb"
      },
      "execution_count": null,
      "outputs": []
    },
    {
      "cell_type": "code",
      "source": [],
      "metadata": {
        "id": "wetfG8folqUO"
      },
      "execution_count": null,
      "outputs": []
    },
    {
      "cell_type": "code",
      "source": [],
      "metadata": {
        "id": "j3lP3OFplqWg"
      },
      "execution_count": null,
      "outputs": []
    },
    {
      "cell_type": "code",
      "source": [],
      "metadata": {
        "id": "5P0zcWfDlqaP"
      },
      "execution_count": null,
      "outputs": []
    }
  ]
}