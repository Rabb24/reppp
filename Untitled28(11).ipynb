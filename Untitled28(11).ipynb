{
  "nbformat": 4,
  "nbformat_minor": 0,
  "metadata": {
    "colab": {
      "provenance": []
    },
    "kernelspec": {
      "name": "python3",
      "display_name": "Python 3"
    },
    "language_info": {
      "name": "python"
    }
  },
  "cells": [
    {
      "cell_type": "code",
      "source": [
        "import pandas as pd\n",
        "\n",
        "def calculate_unique_counts_percentage(file_path, date_column):\n",
        "    # Wczytanie danych z pliku CSV\n",
        "    df = pd.read_csv(file_path)\n",
        "\n",
        "    # Konwersja kolumny daty na datetime\n",
        "    df[date_column] = pd.to_datetime(df[date_column])\n",
        "\n",
        "    # Dodanie kolumny miesiąc i rok\n",
        "    df['month'] = df[date_column].dt.month\n",
        "    df['year'] = df[date_column].dt.year\n",
        "\n",
        "    # Lista kolumn (poza kolumną z datą, miesiącem i rokiem)\n",
        "    columns = df.columns.difference([date_column, 'month', 'year'])\n",
        "\n",
        "    # Lista miesięcy od lipca 2023 do czerwca 2024\n",
        "    periods = [(2023, month) for month in range(7, 13)] + [(2024, month) for month in range(1, 7)]\n",
        "\n",
        "    # Tworzenie pustego słownika do przechowywania wyników\n",
        "    results = {column: [0]*12 for column in columns}\n",
        "\n",
        "    # Iteracja po okresach (miesiącach) od lipca 2023 do czerwca 2024\n",
        "    for i, (year, month) in enumerate(periods):\n",
        "        monthly_data = df[(df['year'] == year) & (df['month'] == month)]\n",
        "        if not monthly_data.empty:\n",
        "            total_records = len(monthly_data)\n",
        "            for column in columns:\n",
        "                unique_count = monthly_data[column].nunique()\n",
        "                percentage_unique_count = round((unique_count / total_records) * 100, 2)\n",
        "                results[column][i] = percentage_unique_count\n",
        "\n",
        "    return results\n",
        "\n",
        "# Ścieżka do pliku CSV i nazwa kolumny z datą\n",
        "file_path = 'path_to_your_file.csv'\n",
        "date_column = 'date'\n",
        "\n",
        "# Wywołanie funkcji i wyświetlenie wyników\n",
        "unique_counts_percentage = calculate_unique_counts_percentage(file_path, date_column)\n",
        "print(unique_counts_percentage)\n"
      ],
      "metadata": {
        "id": "xhhBEs3b3ap9"
      },
      "execution_count": null,
      "outputs": []
    },
    {
      "cell_type": "code",
      "source": [],
      "metadata": {
        "id": "Jhaq1WCZ3atP"
      },
      "execution_count": null,
      "outputs": []
    }
  ]
}