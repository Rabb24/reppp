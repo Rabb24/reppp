{
  "nbformat": 4,
  "nbformat_minor": 0,
  "metadata": {
    "colab": {
      "provenance": []
    },
    "kernelspec": {
      "name": "python3",
      "display_name": "Python 3"
    },
    "language_info": {
      "name": "python"
    }
  },
  "cells": [
    {
      "cell_type": "code",
      "source": [
        "import pandas as pd\n",
        "import os\n",
        "\n",
        "# Ścieżka do folderu z plikami CSV\n",
        "folder_path = '/ścieżka/do/folderu'\n",
        "\n",
        "# Lista wszystkich plików CSV w folderze\n",
        "csv_files = [os.path.join(folder_path, file) for file in os.listdir(folder_path) if file.endswith('.csv')]\n",
        "\n",
        "# Wczytanie i połączenie wszystkich plików CSV\n",
        "df_list = [pd.read_csv(file) for file in csv_files]\n",
        "combined_df = pd.concat(df_list, ignore_index=True)\n",
        "\n",
        "# Zapisz złączony plik CSV\n",
        "combined_df.to_csv('/ścieżka/do/zapisania/combined.csv', index=False)\n",
        "\n",
        "print(\"Zakończono łączenie plików.\")\n"
      ],
      "metadata": {
        "id": "b_nG3KDxWuDy"
      },
      "execution_count": null,
      "outputs": []
    },
    {
      "cell_type": "code",
      "source": [],
      "metadata": {
        "id": "kGu6fENUWuGG"
      },
      "execution_count": null,
      "outputs": []
    },
    {
      "cell_type": "code",
      "source": [],
      "metadata": {
        "id": "k1EGrIuqWuJw"
      },
      "execution_count": null,
      "outputs": []
    }
  ]
}