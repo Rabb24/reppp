{
  "nbformat": 4,
  "nbformat_minor": 0,
  "metadata": {
    "colab": {
      "provenance": []
    },
    "kernelspec": {
      "name": "python3",
      "display_name": "Python 3"
    },
    "language_info": {
      "name": "python"
    }
  },
  "cells": [
    {
      "cell_type": "code",
      "source": [
        "from docx import Document\n",
        "\n",
        "def convert_docx_with_tables_to_text(docx_path, output_path):\n",
        "    # Otwórz dokument DOCX\n",
        "    doc = Document(docx_path)\n",
        "\n",
        "    # Lista, w której będziemy przechowywać tekstową wersję dokumentu\n",
        "    document_text = []\n",
        "\n",
        "    # Iteracja przez wszystkie elementy dokumentu\n",
        "    for element in doc.element.body:\n",
        "        # Sprawdzenie, czy element jest tabelą\n",
        "        if element.tag.endswith('tbl'):\n",
        "            table = next(t for t in doc.tables if t._tbl == element)\n",
        "            table_text = []\n",
        "\n",
        "            # Wyciągnięcie tekstu z każdej komórki w tabeli i oddzielenie tabulatorem\n",
        "            for row in table.rows:\n",
        "                row_text = \"\\t\".join((cell.text or '').strip() for cell in row.cells)  # Sprawdzamy, czy cell.text nie jest None\n",
        "                table_text.append(row_text)\n",
        "\n",
        "            # Dodanie każdej tabeli jako osobnej sekcji tekstu, oddzielonej nowymi liniami\n",
        "            document_text.append(\"\\n\".join(table_text))\n",
        "        else:\n",
        "            # Jeśli element nie jest tabelą, traktuj go jako akapit\n",
        "            paragraph = element\n",
        "            document_text.append(paragraph.text.strip() if paragraph.text else '')  # Sprawdzamy, czy paragraph.text nie jest None\n",
        "\n",
        "    # Zapisanie wyniku do pliku tekstowego\n",
        "    with open(output_path, \"w\", encoding=\"utf-8\") as f:\n",
        "        f.write(\"\\n\\n\".join(document_text))\n",
        "\n",
        "    print(f\"Konwersja zakończona. Dokument zapisano w pliku: {output_path}\")\n",
        "\n",
        "# Przykład użycia:\n",
        "docx_file = \"przykladowy_plik.docx\"\n",
        "output_file = \"dokument_z_tabelami_tekst.txt\"\n",
        "convert_docx_with_tables_to_text(docx_file, output_file)\n"
      ],
      "metadata": {
        "id": "97KGweDPCRJt"
      },
      "execution_count": null,
      "outputs": []
    },
    {
      "cell_type": "code",
      "source": [
        "from docx import Document\n",
        "\n",
        "def convert_docx_to_markdown_with_tables(docx_path, output_path):\n",
        "    # Otwórz dokument DOCX\n",
        "    doc = Document(docx_path)\n",
        "\n",
        "    # Lista, w której będziemy przechowywać markdownową wersję dokumentu\n",
        "    markdown_content = []\n",
        "\n",
        "    # Iteracja przez elementy dokumentu (akapit, tabela, itp.)\n",
        "    for element in doc.element.body:\n",
        "        # Sprawdzenie, czy element jest tabelą\n",
        "        if element.tag.endswith('tbl'):\n",
        "            table = next(t for t in doc.tables if t._tbl == element)\n",
        "            table_md = []\n",
        "\n",
        "            # Wyciągnięcie wiersza nagłówków (pierwszego wiersza)\n",
        "            headers = [(cell.text or '').strip() for cell in table.rows[0].cells]  # Sprawdzanie, czy tekst nie jest None\n",
        "            table_md.append(\"| \" + \" | \".join(headers) + \" |\")\n",
        "            table_md.append(\"|\" + \"|\".join([\"-\" * len(header) for header in headers]) + \"|\")\n",
        "\n",
        "            # Wyciągnięcie pozostałych wierszy\n",
        "            for row in table.rows[1:]:\n",
        "                row_text = [(cell.text or '').strip() for cell in row.cells]  # Sprawdzanie, czy tekst nie jest None\n",
        "                table_md.append(\"| \" + \" | \".join(row_text) + \" |\")\n",
        "\n",
        "            # Dodanie markdownowej tabeli do ogólnej zawartości dokumentu\n",
        "            markdown_content.append(\"\\n\".join(table_md))\n",
        "        else:\n",
        "            # Jeżeli element nie jest tabelą, to uznajemy, że jest to akapit\n",
        "            paragraph = element\n",
        "            markdown_content.append(paragraph.text.strip() if paragraph.text else '')  # Sprawdzamy, czy paragraph.text nie jest None\n",
        "\n",
        "    # Zapis markdownowej wersji dokumentu do pliku\n",
        "    with open(output_path, \"w\", encoding=\"utf-8\") as f:\n",
        "        f.write(\"\\n\\n\".join(markdown_content))\n",
        "\n",
        "    print(f\"Konwersja zakończona. Dokument zapisano w pliku: {output_path}\")\n",
        "\n",
        "# Przykład użycia:\n",
        "docx_file = \"przykladowy_plik.docx\"\n",
        "output_file_md = \"dokument_z_tabelami_markdown.md\"\n",
        "convert_docx_to_markdown_with_tables(docx_file, output_file_md)\n"
      ],
      "metadata": {
        "id": "wwMxgGSVX_mU"
      },
      "execution_count": null,
      "outputs": []
    },
    {
      "cell_type": "code",
      "source": [],
      "metadata": {
        "id": "bAs_FEQCX_op"
      },
      "execution_count": null,
      "outputs": []
    },
    {
      "cell_type": "code",
      "source": [],
      "metadata": {
        "id": "56HsuaUYX_sF"
      },
      "execution_count": null,
      "outputs": []
    }
  ]
}