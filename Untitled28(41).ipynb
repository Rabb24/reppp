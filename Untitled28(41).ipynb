{
  "nbformat": 4,
  "nbformat_minor": 0,
  "metadata": {
    "colab": {
      "provenance": []
    },
    "kernelspec": {
      "name": "python3",
      "display_name": "Python 3"
    },
    "language_info": {
      "name": "python"
    }
  },
  "cells": [
    {
      "cell_type": "code",
      "source": [
        "import pandas as pd\n",
        "from datetime import datetime\n",
        "\n",
        "# Wczytanie pliku CSV\n",
        "df = pd.read_csv('dane.csv')\n",
        "\n",
        "# Konwersja kolumny 'data' na typ datetime z określonym formatem (DD-MM-YYYY)\n",
        "df['data'] = pd.to_datetime(df['data'], format='%d-%m-%Y')\n",
        "\n",
        "# Definiujemy datę od której chcemy filtrować dane\n",
        "data_od = '2023-01-01'\n",
        "\n",
        "# Filtrowanie danych\n",
        "df_filtr = df[df['data'] >= data_od]\n",
        "\n",
        "# Zapisanie przefiltrowanych danych do nowego pliku CSV\n",
        "df_filtr.to_csv('dane_od_2023-01-01.csv', index=False)\n"
      ],
      "metadata": {
        "id": "KOP9PpiHjjA3"
      },
      "execution_count": null,
      "outputs": []
    },
    {
      "cell_type": "code",
      "source": [],
      "metadata": {
        "id": "IyHp_I6Xji9b"
      },
      "execution_count": null,
      "outputs": []
    },
    {
      "cell_type": "code",
      "source": [],
      "metadata": {
        "id": "32XtxxD5ji6q"
      },
      "execution_count": null,
      "outputs": []
    },
    {
      "cell_type": "code",
      "source": [],
      "metadata": {
        "id": "Rqc10aTjji36"
      },
      "execution_count": null,
      "outputs": []
    },
    {
      "cell_type": "code",
      "source": [],
      "metadata": {
        "id": "l8KmnJIHji1M"
      },
      "execution_count": null,
      "outputs": []
    },
    {
      "cell_type": "code",
      "source": [],
      "metadata": {
        "id": "t0hso7-Njiyg"
      },
      "execution_count": null,
      "outputs": []
    }
  ]
}