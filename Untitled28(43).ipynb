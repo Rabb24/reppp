{
  "nbformat": 4,
  "nbformat_minor": 0,
  "metadata": {
    "colab": {
      "provenance": []
    },
    "kernelspec": {
      "name": "python3",
      "display_name": "Python 3"
    },
    "language_info": {
      "name": "python"
    }
  },
  "cells": [
    {
      "cell_type": "code",
      "source": [
        "import pandas as pd\n",
        "\n",
        "def analyze_columns(file_path):\n",
        "    # Wczytanie pliku parquet\n",
        "    df = pd.read_parquet(file_path)\n",
        "\n",
        "    # Słownik, który będzie przechowywać wynik\n",
        "    analysis = {}\n",
        "\n",
        "    # Iteracja przez wszystkie kolumny\n",
        "    for col in df.columns:\n",
        "        if pd.api.types.is_numeric_dtype(df[col]):\n",
        "            # Jeśli kolumna jest numeryczna, zwróć wartości minimalne i maksymalne\n",
        "            min_value = df[col].min()\n",
        "            max_value = df[col].max()\n",
        "        elif pd.api.types.is_string_dtype(df[col]):\n",
        "            # Jeśli kolumna jest typu string, zwróć najkrótszy i najdłuższy string\n",
        "            min_value = df[col].apply(len).min()\n",
        "            max_value = df[col].apply(len).max()\n",
        "        else:\n",
        "            # Jeśli kolumna nie jest numeryczna ani string, ustaw brak danych\n",
        "            min_value = None\n",
        "            max_value = None\n",
        "\n",
        "        # Dodanie wyników do słownika\n",
        "        analysis[col] = {'min': min_value, 'max': max_value}\n",
        "\n",
        "    return analysis\n"
      ],
      "metadata": {
        "id": "1y3BKvtvb7cI"
      },
      "execution_count": null,
      "outputs": []
    },
    {
      "cell_type": "code",
      "source": [
        "file_path = \"your_file.parquet\"\n",
        "result = analyze_columns(file_path)\n",
        "print(result)"
      ],
      "metadata": {
        "id": "ZXhGBGVaD3DS"
      },
      "execution_count": null,
      "outputs": []
    }
  ]
}