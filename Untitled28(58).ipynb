{
  "nbformat": 4,
  "nbformat_minor": 0,
  "metadata": {
    "colab": {
      "provenance": []
    },
    "kernelspec": {
      "name": "python3",
      "display_name": "Python 3"
    },
    "language_info": {
      "name": "python"
    }
  },
  "cells": [
    {
      "cell_type": "code",
      "source": [
        "from docx import Document\n",
        "from docx.shared import Pt\n",
        "\n",
        "def is_heading(paragraph, target_headings):\n",
        "    \"\"\"Sprawdza, czy dany paragraf jest nagłówkiem z listy target_headings.\"\"\"\n",
        "    return paragraph.style.name.startswith('Heading') and paragraph.text.strip() in target_headings\n",
        "\n",
        "def convert_docx_with_tables_in_sections(docx_path, output_path, target_headings):\n",
        "    # Otwórz dokument DOCX\n",
        "    doc = Document(docx_path)\n",
        "    new_doc = Document()  # Nowy dokument do zapisywania\n",
        "\n",
        "    # Flaga do śledzenia, czy jesteśmy w interesującym nas rozdziale\n",
        "    in_target_section = False\n",
        "\n",
        "    # Iteracja przez paragrafy i tabele w dokumencie\n",
        "    for element in doc.element.body:\n",
        "        if element.tag.endswith('p'):\n",
        "            # Pobierz paragraf (akapit)\n",
        "            paragraph = next(p for p in doc.paragraphs if p._element == element)\n",
        "\n",
        "            # Sprawdź, czy to jest nagłówek rozdziału/podrozdziału\n",
        "            if is_heading(paragraph, target_headings):\n",
        "                in_target_section = True  # Wchodzimy do interesującego nas rozdziału\n",
        "                new_paragraph = new_doc.add_paragraph(paragraph.text, style=paragraph.style)  # Kopiowanie nagłówka\n",
        "            elif in_target_section:\n",
        "                # Kopiujemy akapity w sekcji\n",
        "                new_paragraph = new_doc.add_paragraph(paragraph.text, style=paragraph.style)\n",
        "        elif element.tag.endswith('tbl') and in_target_section:\n",
        "            # Jeśli to tabela i jesteśmy w sekcji do przetwarzania\n",
        "            table = next(t for t in doc.tables if t._tbl == element)\n",
        "\n",
        "            # Zamiana tabeli na tekst w Markdown\n",
        "            for row in table.rows:\n",
        "                row_text = \"\\t\".join((cell.text or '').strip() for cell in row.cells)\n",
        "                new_paragraph = new_doc.add_paragraph(row_text)  # Dodaj wiersz tabeli jako paragraf\n",
        "                new_paragraph.style.font.size = Pt(10)  # Opcjonalnie: zmień rozmiar czcionki\n",
        "\n",
        "    # Zapis nowego dokumentu do pliku DOCX\n",
        "    new_doc.save(output_path)\n",
        "    print(f\"Konwersja zakończona. Dokument zapisano w pliku: {output_path}\")\n",
        "\n",
        "# Przykład użycia:\n",
        "docx_file = \"przykladowy_plik.docx\"\n",
        "output_file = \"dokument_z_tabelami_tekst.docx\"\n",
        "target_sections = [\"Rozdział 1\", \"Podrozdział 2.1\"]  # Lista rozdziałów/podrozdziałów do przetworzenia\n",
        "convert_docx_with_tables_in_sections(docx_file, output_file, target_sections)\n"
      ],
      "metadata": {
        "id": "bAs_FEQCX_op"
      },
      "execution_count": null,
      "outputs": []
    },
    {
      "cell_type": "code",
      "source": [],
      "metadata": {
        "id": "56HsuaUYX_sF"
      },
      "execution_count": null,
      "outputs": []
    }
  ]
}