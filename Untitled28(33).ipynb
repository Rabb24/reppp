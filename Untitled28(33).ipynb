{
  "nbformat": 4,
  "nbformat_minor": 0,
  "metadata": {
    "colab": {
      "provenance": []
    },
    "kernelspec": {
      "name": "python3",
      "display_name": "Python 3"
    },
    "language_info": {
      "name": "python"
    }
  },
  "cells": [
    {
      "cell_type": "code",
      "source": [
        "# Zdefiniuj zapytanie SQL\n",
        "sql_plat = \"\"\"\n",
        "select\n",
        "  *\n",
        "from structured\n",
        "where\n",
        "  dt = to_date('2024-04-15')\n",
        "  and\n",
        "  tr_seq_org = ''\n",
        "\"\"\"\n",
        "\n",
        "# Wykonaj zapytanie SQL i zapisz wynik do DataFrame\n",
        "df_plat = hive_db.execute_query(sql_plat)\n",
        "\n",
        "# Zapisz DataFrame do pliku CSV\n",
        "df_plat.to_csv('output.csv', index=False)\n",
        "\n",
        "# Opcjonalnie: Wyświetl kilka pierwszych wierszy aby upewnić się, że dane zostały poprawnie pobrane\n",
        "print(df_plat.head())"
      ],
      "metadata": {
        "id": "b_nG3KDxWuDy"
      },
      "execution_count": null,
      "outputs": []
    },
    {
      "cell_type": "code",
      "source": [],
      "metadata": {
        "id": "kGu6fENUWuGG"
      },
      "execution_count": null,
      "outputs": []
    },
    {
      "cell_type": "code",
      "source": [],
      "metadata": {
        "id": "k1EGrIuqWuJw"
      },
      "execution_count": null,
      "outputs": []
    }
  ]
}