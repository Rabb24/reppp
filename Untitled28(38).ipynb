{
  "nbformat": 4,
  "nbformat_minor": 0,
  "metadata": {
    "colab": {
      "provenance": []
    },
    "kernelspec": {
      "name": "python3",
      "display_name": "Python 3"
    },
    "language_info": {
      "name": "python"
    }
  },
  "cells": [
    {
      "cell_type": "code",
      "source": [
        "import pandas as pd\n",
        "import matplotlib.pyplot as plt\n",
        "\n",
        "def analyze_days_difference(file_path, start_date_col, end_date_col, date_format=None):\n",
        "    \"\"\"\n",
        "    Analizuje różnicę dni między dwiema kolumnami dat i zwraca Series z ilością wystąpień liczby dni.\n",
        "\n",
        "    Parametry:\n",
        "    file_path (str): Ścieżka do pliku CSV.\n",
        "    start_date_col (str): Nazwa kolumny z datą początkową.\n",
        "    end_date_col (str): Nazwa kolumny z datą końcową.\n",
        "    date_format (str, opcjonalne): Format dat w pliku CSV, jeśli znany.\n",
        "\n",
        "    Zwraca:\n",
        "    pd.Series: Series zawierający zliczone ilości wystąpień różnicy dni.\n",
        "    \"\"\"\n",
        "    # Wczytanie danych\n",
        "    df = pd.read_csv(file_path)\n",
        "\n",
        "    # Usunięcie wierszy, gdzie jedna z dat jest null\n",
        "    df = df.dropna(subset=[start_date_col, end_date_col])\n",
        "\n",
        "    # Konwersja kolumn na typ datetime\n",
        "    if date_format:\n",
        "        df[start_date_col] = pd.to_datetime(df[start_date_col], format=date_format, errors='coerce')\n",
        "        df[end_date_col] = pd.to_datetime(df[end_date_col], format=date_format, errors='coerce')\n",
        "    else:\n",
        "        df[start_date_col] = pd.to_datetime(df[start_date_col], errors='coerce')\n",
        "        df[end_date_col] = pd.to_datetime(df[end_date_col], errors='coerce')\n",
        "\n",
        "    # Usunięcie wierszy z niepoprawnymi datami (NaT)\n",
        "    df = df.dropna(subset=[start_date_col, end_date_col])\n",
        "\n",
        "    # Obliczenie różnicy dni\n",
        "    df['days_difference'] = (df[end_date_col] - df[start_date_col]).dt.days\n",
        "\n",
        "    # Zliczenie ilości wystąpień liczby dni\n",
        "    days_count = df['days_difference'].value_counts().sort_index()\n",
        "\n",
        "    # Zwrócenie Series z ilością wystąpień\n",
        "    return days_count\n",
        "\n",
        "def plot_histogram(days_count, x_min=None, x_max=None):\n",
        "    \"\"\"\n",
        "    Tworzy histogram liczby dni między datami na podstawie dostarczonych zliczonych danych.\n",
        "\n",
        "    Parametry:\n",
        "    days_count (pd.Series): Series zawierający zliczone ilości wystąpień różnicy dni.\n",
        "    x_min (int, opcjonalne): Minimalna wartość na osi X.\n",
        "    x_max (int, opcjonalne): Maksymalna wartość na osi X.\n",
        "    \"\"\"\n",
        "    # Tworzenie histogramu\n",
        "    plt.figure(figsize=(10, 6))\n",
        "    if x_min is not None and x_max is not None:\n",
        "        days_count = days_count[(days_count.index >= x_min) & (days_count.index <= x_max)]\n",
        "\n",
        "    days_count.plot(kind='bar')\n",
        "    plt.xlabel('Liczba dni')\n",
        "    plt.ylabel('Liczba wystąpień')\n",
        "    plt.title('Histogram liczby dni między datami')\n",
        "    plt.show()\n",
        "\n",
        "# Przykład użycia funkcji\n",
        "days_count = analyze_days_difference('nazwa_pliku.csv', 'data_start', 'data_end', date_format='%d-%m-%Y')\n",
        "\n",
        "# Przykład wywołania funkcji do tworzenia histogramu z ustawieniem zakresu osi X\n",
        "plot_histogram(days_count, x_min=0, x_max=30)\n"
      ],
      "metadata": {
        "id": "7tvfB0LfdYMo"
      },
      "execution_count": null,
      "outputs": []
    },
    {
      "cell_type": "code",
      "source": [
        "def display_statistics(days_count):\n",
        "    \"\"\"\n",
        "    Oblicza statystyki opisowe dla days_count za pomocą describe() i wyświetla je w formie tabeli.\n",
        "\n",
        "    Parametry:\n",
        "    days_count (pd.Series): Series zawierający zliczone ilości wystąpień różnicy dni.\n",
        "    \"\"\"\n",
        "    # Obliczenie statystyk za pomocą describe()\n",
        "    statistics = days_count.describe()\n",
        "\n",
        "    # Konwersja do DataFrame i transpozycja dla lepszego wyświetlania\n",
        "    statistics_df = pd.DataFrame(statistics).T\n",
        "\n",
        "    # Wyświetlenie tabeli\n",
        "    print(statistics_df)\n",
        "\n",
        "# Przykład użycia funkcji\n",
        "days_count = analyze_days_difference('nazwa_pliku.csv', 'data_start', 'data_end', date_format='%d-%m-%Y')\n",
        "\n",
        "# Wywołanie funkcji do wyświetlenia statystyk w tabeli\n",
        "display_statistics(days_count)"
      ],
      "metadata": {
        "id": "JgkcWMul6_qF"
      },
      "execution_count": null,
      "outputs": []
    },
    {
      "cell_type": "code",
      "source": [],
      "metadata": {
        "id": "INIJ_tzj6_sZ"
      },
      "execution_count": null,
      "outputs": []
    },
    {
      "cell_type": "code",
      "source": [],
      "metadata": {
        "id": "F28CR5cf6_v9"
      },
      "execution_count": null,
      "outputs": []
    },
    {
      "cell_type": "code",
      "source": [],
      "metadata": {
        "id": "vK-CjRQjdYQF"
      },
      "execution_count": null,
      "outputs": []
    }
  ]
}