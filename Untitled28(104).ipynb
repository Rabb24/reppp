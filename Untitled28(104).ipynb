{
  "nbformat": 4,
  "nbformat_minor": 0,
  "metadata": {
    "colab": {
      "provenance": []
    },
    "kernelspec": {
      "name": "python3",
      "display_name": "Python 3"
    },
    "language_info": {
      "name": "python"
    }
  },
  "cells": [
    {
      "cell_type": "code",
      "source": [
        "import pandas as pd\n",
        "\n",
        "def read_csv_file(file_path):\n",
        "    \"\"\"\n",
        "    Funkcja do odczytu pliku CSV i zwracania go jako DataFrame.\n",
        "\n",
        "    :param file_path: Ścieżka do pliku CSV\n",
        "    :return: DataFrame z danymi z pliku CSV\n",
        "    \"\"\"\n",
        "    try:\n",
        "        # Odczyt pliku CSV\n",
        "        data = pd.read_csv(file_path)\n",
        "        print(\"Plik został pomyślnie odczytany.\")\n",
        "        return data\n",
        "    except FileNotFoundError:\n",
        "        print(f\"Plik {file_path} nie został znaleziony.\")\n",
        "    except pd.errors.EmptyDataError:\n",
        "        print(f\"Plik {file_path} jest pusty.\")\n",
        "    except pd.errors.ParserError:\n",
        "        print(f\"Wystąpił błąd podczas parsowania pliku {file_path}.\")\n",
        "    except Exception as e:\n",
        "        print(f\"Wystąpił nieznany błąd: {e}\")\n"
      ],
      "metadata": {
        "id": "DtUm7WHVaG3D"
      },
      "execution_count": null,
      "outputs": []
    },
    {
      "cell_type": "code",
      "source": [],
      "metadata": {
        "id": "PWVC42pcaG5a"
      },
      "execution_count": null,
      "outputs": []
    },
    {
      "cell_type": "code",
      "source": [],
      "metadata": {
        "id": "8Lzby_UvaG7Z"
      },
      "execution_count": null,
      "outputs": []
    },
    {
      "cell_type": "code",
      "source": [],
      "metadata": {
        "id": "IA8S8Qe4aG--"
      },
      "execution_count": null,
      "outputs": []
    }
  ]
}