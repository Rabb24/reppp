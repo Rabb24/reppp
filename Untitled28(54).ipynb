{
  "nbformat": 4,
  "nbformat_minor": 0,
  "metadata": {
    "colab": {
      "provenance": []
    },
    "kernelspec": {
      "name": "python3",
      "display_name": "Python 3"
    },
    "language_info": {
      "name": "python"
    }
  },
  "cells": [
    {
      "cell_type": "code",
      "source": [
        "from bs4 import BeautifulSoup\n",
        "\n",
        "def debug_headings(html_content):\n",
        "    \"\"\"Funkcja do debugowania - wyświetla wszystkie nagłówki w pliku HTML.\"\"\"\n",
        "    soup = BeautifulSoup(html_content, 'html.parser')\n",
        "\n",
        "    # Znalezienie i wypisanie wszystkich nagłówków <h1>, <h2>, <h3>\n",
        "    for heading in soup.find_all(['h1', 'h2', 'h3']):\n",
        "        print(f\"Nagłówek: {heading.name} - {heading.get_text(strip=True)}\")\n",
        "\n",
        "# Użycie:\n",
        "docx_file = 'twoj_plik.docx'\n",
        "html_content = convert_docx_to_html(docx_file)  # Konwersja DOCX na HTML\n",
        "\n",
        "# Debugowanie nagłówków\n",
        "debug_headings(html_content)\n"
      ],
      "metadata": {
        "id": "zFs4x9uXCQ6t"
      },
      "execution_count": null,
      "outputs": []
    },
    {
      "cell_type": "code",
      "source": [],
      "metadata": {
        "id": "2Xu2PvXgCQ-H"
      },
      "execution_count": null,
      "outputs": []
    },
    {
      "cell_type": "code",
      "source": [],
      "metadata": {
        "id": "OTAtBWiVCRGT"
      },
      "execution_count": null,
      "outputs": []
    },
    {
      "cell_type": "code",
      "source": [],
      "metadata": {
        "id": "97KGweDPCRJt"
      },
      "execution_count": null,
      "outputs": []
    }
  ]
}