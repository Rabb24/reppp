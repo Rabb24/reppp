{
  "nbformat": 4,
  "nbformat_minor": 0,
  "metadata": {
    "colab": {
      "provenance": []
    },
    "kernelspec": {
      "name": "python3",
      "display_name": "Python 3"
    },
    "language_info": {
      "name": "python"
    }
  },
  "cells": [
    {
      "cell_type": "code",
      "source": [
        "from docx import Document\n",
        "\n",
        "# Function to convert a table to Markdown format\n",
        "def table_to_markdown(table):\n",
        "    table_md = []\n",
        "    headers = []\n",
        "    separator = []\n",
        "\n",
        "    # Process the first row as headers\n",
        "    for cell in table.rows[0].cells:\n",
        "        headers.append(cell.text.strip())\n",
        "        separator.append(\"---\")\n",
        "\n",
        "    table_md.append(\"| \" + \" | \".join(headers) + \" |\")\n",
        "    table_md.append(\"| \" + \" | \".join(separator) + \" |\")\n",
        "\n",
        "    # Process remaining rows\n",
        "    for row in table.rows[1:]:\n",
        "        row_md = []\n",
        "        for cell in row.cells:\n",
        "            row_md.append(cell.text.strip())\n",
        "        table_md.append(\"| \" + \" | \".join(row_md) + \" |\")\n",
        "\n",
        "    return \"\\n\".join(table_md)\n",
        "\n",
        "# Function to convert DOCX to Markdown\n",
        "def docx_to_markdown(docx_file, output_md_file):\n",
        "    doc = Document(docx_file)\n",
        "    markdown_content = []\n",
        "\n",
        "    # Iterate through paragraphs and tables in the document\n",
        "    for element in doc.element.body:\n",
        "        if element.tag.endswith('p'):  # If it's a paragraph\n",
        "            paragraph = doc.paragraphs[doc.element.body.index(element)]\n",
        "\n",
        "            # Check if the paragraph is a heading\n",
        "            if paragraph.style.name.startswith('Heading'):\n",
        "                # Determine the level of the heading based on the style\n",
        "                heading_level = paragraph.style.name[-1]  # Extract the level number (1, 2, 3, etc.)\n",
        "                markdown_content.append(f\"{'#' * int(heading_level)} {paragraph.text.strip()}\")\n",
        "            else:\n",
        "                # Add paragraph content\n",
        "                if paragraph.text.strip():\n",
        "                    markdown_content.append(paragraph.text.strip())\n",
        "\n",
        "        elif element.tag.endswith('tbl'):  # If it's a table\n",
        "            table = doc.tables[doc.element.body.index(element)]\n",
        "            # Convert table to markdown and add to content\n",
        "            markdown_content.append(table_to_markdown(table))\n",
        "\n",
        "    # Write the markdown content to an output file\n",
        "    with open(output_md_file, 'w', encoding='utf-8') as md_file:\n",
        "        md_file.write(\"\\n\\n\".join(markdown_content))\n",
        "\n",
        "    print(f\"Converted file has been saved as {output_md_file}\")\n",
        "\n",
        "# Example usage\n",
        "if __name__ == \"__main__\":\n",
        "    docx_path = 'path_to_your_document.docx'  # Replace with the path to your DOCX file\n",
        "    output_markdown_file = 'output.md'  # Specify the output Markdown file path\n",
        "\n",
        "    # Convert the DOCX file to Markdown\n",
        "    docx_to_markdown(docx_path, output_markdown_file)\n"
      ],
      "metadata": {
        "id": "lQPllielFZWm"
      },
      "execution_count": null,
      "outputs": []
    },
    {
      "cell_type": "code",
      "source": [],
      "metadata": {
        "id": "0bOkzW5QFZbd"
      },
      "execution_count": null,
      "outputs": []
    },
    {
      "cell_type": "code",
      "source": [],
      "metadata": {
        "id": "RlFPLk_qFZeg"
      },
      "execution_count": null,
      "outputs": []
    },
    {
      "cell_type": "code",
      "source": [],
      "metadata": {
        "id": "dk-kC1wfFZkl"
      },
      "execution_count": null,
      "outputs": []
    },
    {
      "cell_type": "code",
      "source": [],
      "metadata": {
        "id": "jxjtxj-pFZnI"
      },
      "execution_count": null,
      "outputs": []
    },
    {
      "cell_type": "code",
      "source": [],
      "metadata": {
        "id": "FJsrKXk3FZra"
      },
      "execution_count": null,
      "outputs": []
    }
  ]
}