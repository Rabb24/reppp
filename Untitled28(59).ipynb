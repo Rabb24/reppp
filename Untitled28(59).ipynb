{
  "nbformat": 4,
  "nbformat_minor": 0,
  "metadata": {
    "colab": {
      "provenance": []
    },
    "kernelspec": {
      "name": "python3",
      "display_name": "Python 3"
    },
    "language_info": {
      "name": "python"
    }
  },
  "cells": [
    {
      "cell_type": "code",
      "source": [
        "from docx import Document\n",
        "from docx.shared import Pt\n",
        "\n",
        "def is_heading(paragraph, target_headings):\n",
        "    \"\"\"Sprawdza, czy dany paragraf jest nagłówkiem z listy target_headings.\"\"\"\n",
        "    return paragraph.style.name.startswith('Heading') and paragraph.text.strip() in target_headings\n",
        "\n",
        "def convert_tables_to_text_in_sections(docx_path, output_path, target_headings):\n",
        "    # Otwórz dokument DOCX\n",
        "    doc = Document(docx_path)\n",
        "    new_doc = Document()  # Nowy dokument do zapisywania\n",
        "\n",
        "    # Flaga do śledzenia, czy jesteśmy w interesującym nas rozdziale\n",
        "    in_target_section = False\n",
        "\n",
        "    # Iteracja przez wszystkie paragrafy w dokumencie\n",
        "    for paragraph in doc.paragraphs:\n",
        "        # Sprawdzanie, czy paragraf to nagłówek jednego z wybranych rozdziałów/podrozdziałów\n",
        "        if is_heading(paragraph, target_headings):\n",
        "            in_target_section = True  # Rozpoczęcie przetwarzania wybranego rozdziału\n",
        "            new_doc.add_paragraph(paragraph.text, style=paragraph.style)  # Kopiowanie nagłówka do nowego dokumentu\n",
        "        elif paragraph.style.name.startswith('Heading'):\n",
        "            in_target_section = False  # Jeżeli znajdziemy inny nagłówek, poza wybranym rozdziałem\n",
        "\n",
        "        # Jeśli jesteśmy w wybranym rozdziale, kopiujemy treść\n",
        "        if in_target_section:\n",
        "            new_doc.add_paragraph(paragraph.text, style=paragraph.style)\n",
        "\n",
        "    # Teraz musimy iterować przez elementy dokumentu, aby znaleźć tabele w wybranych sekcjach\n",
        "    for element in doc.element.body:\n",
        "        # Sprawdzanie, czy element jest tabelą\n",
        "        if element.tag.endswith('tbl') and in_target_section:\n",
        "            table = next(t for t in doc.tables if t._tbl == element)\n",
        "\n",
        "            # Zamiana tabeli na tekst (oddzielanie kolumn tabulatorem)\n",
        "            for row in table.rows:\n",
        "                row_text = \"\\t\".join((cell.text or '').strip() for cell in row.cells)\n",
        "                new_paragraph = new_doc.add_paragraph(row_text)  # Dodanie wiersza tabeli jako akapitu\n",
        "                new_paragraph.style.font.size = Pt(10)  # Opcjonalnie: zmień rozmiar czcionki\n",
        "\n",
        "    # Zapis nowego dokumentu do pliku DOCX\n",
        "    new_doc.save(output_path)\n",
        "    print(f\"Konwersja zakończona. Dokument zapisano w pliku: {output_path}\")\n",
        "\n",
        "# Przykład użycia:\n",
        "docx_file = \"przykladowy_plik.docx\"\n",
        "output_file = \"dokument_z_tabelami_na_tekst.docx\"\n",
        "target_sections = [\"Rozdział 1\", \"Podrozdział 2.1\"]  # Lista rozdziałów/podrozdziałów do przetworzenia\n",
        "convert_tables_to_text_in_sections(docx_file, output_file, target_sections)\n"
      ],
      "metadata": {
        "id": "56HsuaUYX_sF"
      },
      "execution_count": null,
      "outputs": []
    },
    {
      "cell_type": "code",
      "source": [],
      "metadata": {
        "id": "jt0kt4ePGcJn"
      },
      "execution_count": null,
      "outputs": []
    },
    {
      "cell_type": "code",
      "source": [],
      "metadata": {
        "id": "WfdkQpqSGcL3"
      },
      "execution_count": null,
      "outputs": []
    },
    {
      "cell_type": "code",
      "source": [],
      "metadata": {
        "id": "i14BWGXuGcPa"
      },
      "execution_count": null,
      "outputs": []
    }
  ]
}