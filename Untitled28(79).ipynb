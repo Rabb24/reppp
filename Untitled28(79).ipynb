{
  "nbformat": 4,
  "nbformat_minor": 0,
  "metadata": {
    "colab": {
      "provenance": []
    },
    "kernelspec": {
      "name": "python3",
      "display_name": "Python 3"
    },
    "language_info": {
      "name": "python"
    }
  },
  "cells": [
    {
      "cell_type": "code",
      "source": [
        "from docx import Document\n",
        "import os\n",
        "\n",
        "def docx_to_txt(docx_filename, txt_filename):\n",
        "    # Otwieranie pliku .docx (zakładamy, że znajduje się w tym samym katalogu)\n",
        "    doc = Document(docx_filename)\n",
        "\n",
        "    with open(txt_filename, 'w', encoding='utf-8') as txt_file:\n",
        "        for para in doc.paragraphs:\n",
        "            # Zapis akapitów do pliku txt\n",
        "            txt_file.write(para.text + '\\n')\n",
        "\n",
        "        for table in doc.tables:\n",
        "            for row in table.rows:\n",
        "                # Przepisanie każdej komórki w wierszu tabeli, oddzielając je tabulatorem\n",
        "                row_text = '\\t'.join(cell.text for cell in row.cells)\n",
        "                txt_file.write(row_text + '\\n')\n",
        "\n",
        "    print(f\"Zapisano plik txt do: {txt_filename}\")\n",
        "\n",
        "# Przykład użycia:\n",
        "# docx_to_txt('plik_wejsciowy.docx', 'plik_wyjsciowy.txt')\n"
      ],
      "metadata": {
        "id": "lQPllielFZWm"
      },
      "execution_count": null,
      "outputs": []
    },
    {
      "cell_type": "code",
      "source": [
        "from docx import Document\n",
        "import os\n",
        "\n",
        "def docx_to_txt(docx_filename, txt_filename):\n",
        "    # Otwieranie pliku .docx (zakładamy, że znajduje się w tym samym katalogu)\n",
        "    doc = Document(docx_filename)\n",
        "\n",
        "    with open(txt_filename, 'w', encoding='utf-8') as txt_file:\n",
        "        for para in doc.paragraphs:\n",
        "            # Zapis akapitów do pliku txt\n",
        "            txt_file.write(para.text + '\\n')\n",
        "\n",
        "        for table in doc.tables:\n",
        "            # Przepisanie nagłówków tabeli (pierwszy wiersz)\n",
        "            first_row = table.rows[0]\n",
        "            header = '| ' + ' | '.join(cell.text for cell in first_row.cells) + ' |'\n",
        "            txt_file.write(header + '\\n')\n",
        "\n",
        "            # Separator pomiędzy nagłówkiem a resztą tabeli\n",
        "            separator = '| ' + ' | '.join('---' for _ in first_row.cells) + ' |'\n",
        "            txt_file.write(separator + '\\n')\n",
        "\n",
        "            # Przepisanie pozostałych wierszy tabeli\n",
        "            for row in table.rows[1:]:\n",
        "                row_text = '| ' + ' | '.join(cell.text for cell in row.cells) + ' |'\n",
        "                txt_file.write(row_text + '\\n')\n",
        "\n",
        "    print(f\"Zapisano plik txt do: {txt_filename}\")\n",
        "\n",
        "# Przykład użycia:\n",
        "# docx_to_txt('plik_wejsciowy.docx', 'plik_wyjsciowy.txt')\n"
      ],
      "metadata": {
        "id": "0bOkzW5QFZbd"
      },
      "execution_count": null,
      "outputs": []
    },
    {
      "cell_type": "code",
      "source": [
        "from docx import Document\n",
        "import os\n",
        "\n",
        "def docx_to_txt(docx_filename, txt_filename):\n",
        "    # Otwieranie pliku .docx (zakładamy, że znajduje się w tym samym katalogu)\n",
        "    doc = Document(docx_filename)\n",
        "\n",
        "    with open(txt_filename, 'w', encoding='utf-8') as txt_file:\n",
        "        # Zmienna do śledzenia, czy należy dodać separator sekcji\n",
        "        is_first_section = True\n",
        "\n",
        "        # Przechodzimy przez akapity w pliku .docx\n",
        "        for para in doc.paragraphs:\n",
        "            if para.text.strip():  # Pomijamy puste akapity\n",
        "                if not is_first_section:\n",
        "                    # Dodajemy separator sekcji przed każdym akapitem (poza pierwszym)\n",
        "                    txt_file.write('\\n-----\\n\\n')\n",
        "                txt_file.write(para.text + '\\n')\n",
        "                is_first_section = False  # Po pierwszej sekcji zawsze dodawaj separator\n",
        "\n",
        "        # Przechodzimy przez tabele w pliku .docx\n",
        "        for table in doc.tables:\n",
        "            # Dodaj separator między sekcjami tekstu i tabelami\n",
        "            txt_file.write('\\n-----\\n\\n')\n",
        "\n",
        "            # Przepisanie nagłówków tabeli (pierwszy wiersz)\n",
        "            first_row = table.rows[0]\n",
        "            header = '| ' + ' | '.join(cell.text for cell in first_row.cells) + ' |'\n",
        "            txt_file.write(header + '\\n')\n",
        "\n",
        "            # Separator pomiędzy nagłówkiem a resztą tabeli\n",
        "            separator = '| ' + ' | '.join('---' for _ in first_row.cells) + ' |'\n",
        "            txt_file.write(separator + '\\n')\n",
        "\n",
        "            # Przepisanie pozostałych wierszy tabeli\n",
        "            for row in table.rows[1:]:\n",
        "                row_text = '| ' + ' | '.join(cell.text for cell in row.cells) + ' |'\n",
        "                txt_file.write(row_text + '\\n')\n",
        "\n",
        "    print(f\"Zapisano plik txt do: {txt_filename}\")\n",
        "\n",
        "# Przykład użycia:\n",
        "# docx_to_txt('plik_wejsciowy.docx', 'plik_wyjsciowy.txt')\n"
      ],
      "metadata": {
        "id": "RlFPLk_qFZeg"
      },
      "execution_count": null,
      "outputs": []
    },
    {
      "cell_type": "code",
      "source": [
        "from docx import Document\n",
        "from docx.oxml.table import CT_Tbl  # do identyfikacji tabel w body\n",
        "from docx.oxml.text.paragraph import CT_P  # do identyfikacji akapitów w body\n",
        "\n",
        "def docx_to_txt(docx_filename, txt_filename):\n",
        "    # Otwieranie pliku .docx (zakładamy, że znajduje się w tym samym katalogu)\n",
        "    doc = Document(docx_filename)\n",
        "\n",
        "    with open(txt_filename, 'w', encoding='utf-8') as txt_file:\n",
        "        # Zmienna do śledzenia, czy należy dodać separator sekcji\n",
        "        is_first_section = True\n",
        "\n",
        "        # Przechodzimy przez elementy dokumentu w ich oryginalnej kolejności\n",
        "        for element in doc.element.body:\n",
        "            if isinstance(element, CT_P):  # Jeśli to akapit\n",
        "                para = element\n",
        "                if para.text.strip():  # Pomijamy puste akapity\n",
        "                    if not is_first_section:\n",
        "                        # Dodajemy separator sekcji przed każdym akapitem (poza pierwszym)\n",
        "                        txt_file.write('\\n-----\\n\\n')\n",
        "                    txt_file.write(para.text + '\\n')\n",
        "                    is_first_section = False  # Po pierwszej sekcji zawsze dodawaj separator\n",
        "\n",
        "            elif isinstance(element, CT_Tbl):  # Jeśli to tabela\n",
        "                # Dodaj separator między sekcjami tekstu i tabelami\n",
        "                txt_file.write('\\n-----\\n\\n')\n",
        "\n",
        "                # Przechodzimy przez tabele w pliku .docx\n",
        "                table = next(t for t in doc.tables if t._tbl == element)\n",
        "\n",
        "                # Przepisanie nagłówków tabeli (pierwszy wiersz)\n",
        "                first_row = table.rows[0]\n",
        "                header = '| ' + ' | '.join(cell.text for cell in first_row.cells) + ' |'\n",
        "                txt_file.write(header + '\\n')\n",
        "\n",
        "                # Separator pomiędzy nagłówkiem a resztą tabeli\n",
        "                separator = '| ' + ' | '.join('---' for _ in first_row.cells) + ' |'\n",
        "                txt_file.write(separator + '\\n')\n",
        "\n",
        "                # Przepisanie pozostałych wierszy tabeli\n",
        "                for row in table.rows[1:]:\n",
        "                    row_text = '| ' + ' | '.join(cell.text for cell in row.cells) + ' |'\n",
        "                    txt_file.write(row_text + '\\n')\n",
        "\n",
        "    print(f\"Zapisano plik txt do: {txt_filename}\")\n",
        "\n",
        "# Przykład użycia:\n",
        "# docx_to_txt('plik_wejsciowy.docx', 'plik_wyjsciowy.txt')\n"
      ],
      "metadata": {
        "id": "dk-kC1wfFZkl"
      },
      "execution_count": null,
      "outputs": []
    },
    {
      "cell_type": "code",
      "source": [],
      "metadata": {
        "id": "jxjtxj-pFZnI"
      },
      "execution_count": null,
      "outputs": []
    },
    {
      "cell_type": "code",
      "source": [],
      "metadata": {
        "id": "FJsrKXk3FZra"
      },
      "execution_count": null,
      "outputs": []
    }
  ]
}