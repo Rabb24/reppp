{
  "nbformat": 4,
  "nbformat_minor": 0,
  "metadata": {
    "colab": {
      "provenance": []
    },
    "kernelspec": {
      "name": "python3",
      "display_name": "Python 3"
    },
    "language_info": {
      "name": "python"
    }
  },
  "cells": [
    {
      "cell_type": "code",
      "source": [
        "import pandas as pd\n",
        "\n",
        "def count_unique_values_by_month(file_path, date_column, start_individual_month):\n",
        "    # Wczytanie danych z pliku CSV\n",
        "    df = pd.read_csv(file_path)\n",
        "\n",
        "    # Konwersja kolumny daty na datetime\n",
        "    df[date_column] = pd.to_datetime(df[date_column])\n",
        "\n",
        "    # Dodanie kolumny miesiąc i rok\n",
        "    df['month'] = df[date_column].dt.month\n",
        "    df['year'] = df[date_column].dt.year\n",
        "\n",
        "    # Lista kolumn (poza kolumną z datą, miesiącem i rokiem)\n",
        "    columns = df.columns.difference([date_column, 'month', 'year'])\n",
        "\n",
        "    # Lista miesięcy od lipca 2023 do czerwca 2024\n",
        "    periods = [(2023, month) for month in range(7, 13)] + [(2024, month) for month in range(1, 7)]\n",
        "\n",
        "    # Tworzenie pustego słownika do przechowywania wyników\n",
        "    results = {column: [0]*12 for column in columns}\n",
        "\n",
        "    # Zbiór przechowujący unikatowe wartości z pierwszego okresu (do start_individual_month)\n",
        "    initial_uniques = {column: set() for column in columns}\n",
        "    # Zbiór przechowujący unikatowe wartości z poprzednich indywidualnych miesięcy\n",
        "    previous_uniques = {column: set() for column in columns}\n",
        "\n",
        "    # Przetwarzanie okresów\n",
        "    for i, (year, month) in enumerate(periods):\n",
        "        monthly_data = df[(df['year'] == year) & (df['month'] == month)]\n",
        "        if not monthly_data.empty:\n",
        "            if i < start_individual_month:\n",
        "                # Liczenie unikatowych wartości dla pierwszych miesięcy razem\n",
        "                for column in columns:\n",
        "                    initial_uniques[column].update(monthly_data[column].dropna().unique())\n",
        "            else:\n",
        "                # Liczenie unikatowych wartości indywidualnie od start_individual_month\n",
        "                for column in columns:\n",
        "                    current_uniques = set(monthly_data[column].dropna().unique())\n",
        "                    new_uniques = current_uniques - initial_uniques[column] - previous_uniques[column]\n",
        "                    results[column][i] = len(new_uniques)\n",
        "                    previous_uniques[column].update(new_uniques)\n",
        "\n",
        "    # Dodanie wyników z pierwszych miesięcy do wyników\n",
        "    for column in columns:\n",
        "        results[column][start_individual_month - 1] = len(initial_uniques[column])\n",
        "\n",
        "    return results\n",
        "\n",
        "# Użycie funkcji z plikiem CSV\n",
        "file_path = 'path_to_your_file.csv'\n",
        "date_column = 'data'\n",
        "start_individual_month = 5\n",
        "\n",
        "results = count_unique_values_by_month(file_path, date_column, start_individual_month)\n",
        "\n",
        "# Wyświetlenie wyników\n",
        "for column, unique_counts in results.items():\n",
        "    print(f\"Column: {column}, Unique counts by month: {unique_counts}\")\n"
      ],
      "metadata": {
        "id": "gRlD_zJ20Z9P"
      },
      "execution_count": null,
      "outputs": []
    }
  ]
}