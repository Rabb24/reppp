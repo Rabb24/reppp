{
  "nbformat": 4,
  "nbformat_minor": 0,
  "metadata": {
    "colab": {
      "provenance": []
    },
    "kernelspec": {
      "name": "python3",
      "display_name": "Python 3"
    },
    "language_info": {
      "name": "python"
    }
  },
  "cells": [
    {
      "cell_type": "code",
      "source": [
        "from bs4 import BeautifulSoup\n",
        "\n",
        "def extract_chapter_from_html(html_content, start_heading, end_heading=None, start_level=1, end_level=None):\n",
        "    \"\"\"\n",
        "    Wyodrębnia rozdział lub podrozdział z HTML na podstawie nagłówków, ignorując wewnętrzne tagi.\n",
        "\n",
        "    :param html_content: Zawartość HTML jako string\n",
        "    :param start_heading: Tekst początku rozdziału lub podrozdziału (np. \"Rozdział 1\")\n",
        "    :param end_heading: Opcjonalnie tekst końcowy rozdziału lub podrozdziału (np. \"Sekcja 1.1\")\n",
        "    :param start_level: Poziom nagłówka początkowego (np. 1 dla <h1>, 2 dla <h2>)\n",
        "    :param end_level: Opcjonalnie poziom nagłówka końcowego (np. <h2>, <h3>)\n",
        "    :return: Wyodrębniony fragment HTML z wybranym rozdziałem lub podrozdziałem\n",
        "    \"\"\"\n",
        "    soup = BeautifulSoup(html_content, 'html.parser')\n",
        "\n",
        "    # Tworzenie tagu nagłówka, który chcemy znaleźć\n",
        "    start_tag = f'h{start_level}'\n",
        "    end_tag = f'h{end_level}' if end_level else None\n",
        "\n",
        "    # Znajdź element zaczynający wybrany rozdział, ignorując tagi wewnętrzne\n",
        "    start_element = soup.find(lambda tag: tag.name == start_tag and tag.get_text(strip=True) == start_heading)\n",
        "\n",
        "    if not start_element:\n",
        "        print(f\"Nie znaleziono nagłówka: {start_heading}\")\n",
        "        return None  # Jeśli nie znaleziono nagłówka\n",
        "\n",
        "    output = str(start_element)\n",
        "\n",
        "    # Przechodzenie przez kolejne elementy po nagłówku\n",
        "    for sibling in start_element.find_next_siblings():\n",
        "        # Zatrzymujemy się, gdy znajdziemy nagłówek wyższego poziomu (jeśli jest end_heading) lub gdy napotkamy wyższy poziom nagłówka\n",
        "        if end_heading and sibling.name in ['h1', 'h2', 'h3'] and sibling.get_text(strip=True) == end_heading:\n",
        "            break\n",
        "        if end_tag and sibling.name == end_tag:\n",
        "            break\n",
        "        output += str(sibling)\n",
        "\n",
        "    return output\n"
      ],
      "metadata": {
        "id": "fNwc2_zvCQ1c"
      },
      "execution_count": null,
      "outputs": []
    },
    {
      "cell_type": "code",
      "source": [
        "# Przykładowy plik DOCX\n",
        "docx_file = 'twoj_plik.docx'  # Ścieżka do pliku DOCX\n",
        "html_content = convert_docx_to_html(docx_file)  # Zakładamy, że używasz mammoth do konwersji\n",
        "\n",
        "# Wyodrębnienie fragmentu od 'Rozdział 1' do 'Sekcja 1.1'\n",
        "chapter_html = extract_chapter_from_html(html_content, 'Rozdział 1', 'Sekcja 1.1', start_level=1, end_level=2)\n",
        "\n",
        "# Zapisanie wynikowego HTML (opcjonalnie)\n",
        "with open(\"extracted_chapter.html\", \"w\", encoding=\"utf-8\") as f:\n",
        "    f.write(chapter_html)\n"
      ],
      "metadata": {
        "id": "qAYk_C4HCQ4B"
      },
      "execution_count": null,
      "outputs": []
    },
    {
      "cell_type": "code",
      "source": [],
      "metadata": {
        "id": "zFs4x9uXCQ6t"
      },
      "execution_count": null,
      "outputs": []
    },
    {
      "cell_type": "code",
      "source": [],
      "metadata": {
        "id": "2Xu2PvXgCQ-H"
      },
      "execution_count": null,
      "outputs": []
    },
    {
      "cell_type": "code",
      "source": [],
      "metadata": {
        "id": "OTAtBWiVCRGT"
      },
      "execution_count": null,
      "outputs": []
    },
    {
      "cell_type": "code",
      "source": [],
      "metadata": {
        "id": "97KGweDPCRJt"
      },
      "execution_count": null,
      "outputs": []
    }
  ]
}