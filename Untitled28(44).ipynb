{
  "nbformat": 4,
  "nbformat_minor": 0,
  "metadata": {
    "colab": {
      "provenance": []
    },
    "kernelspec": {
      "name": "python3",
      "display_name": "Python 3"
    },
    "language_info": {
      "name": "python"
    }
  },
  "cells": [
    {
      "cell_type": "code",
      "source": [
        "import pandas as pd\n",
        "\n",
        "def analyze_characters_in_columns(file_path, columns=None):\n",
        "    # Wczytanie pliku parquet\n",
        "    df = pd.read_parquet(file_path)\n",
        "\n",
        "    # Jeśli nie podano kolumn, analizuj wszystkie kolumny\n",
        "    if columns is None:\n",
        "        columns = df.columns\n",
        "\n",
        "    # Słownik, który będzie przechowywać wynik\n",
        "    analysis = {}\n",
        "\n",
        "    # Iteracja przez wszystkie kolumny\n",
        "    for col in columns:\n",
        "        # Konwersja wartości w kolumnie na string i obliczanie długości\n",
        "        char_lengths = df[col].astype(str).apply(len)\n",
        "\n",
        "        # Obliczanie minimalnej i maksymalnej liczby znaków w kolumnie\n",
        "        min_chars = char_lengths.min()\n",
        "        max_chars = char_lengths.max()\n",
        "\n",
        "        # Dodanie wyników do słownika\n",
        "        analysis[col] = {'min_chars': min_chars, 'max_chars': max_chars}\n",
        "\n",
        "    return analysis\n",
        "\n",
        "# Przyklad uzycia:\n",
        "# file_path = \"path_to_file.parquet\"\n",
        "# result = analyze_characters_in_columns(file_path)\n",
        "# print(result)\n",
        "\n"
      ],
      "metadata": {
        "id": "1y3BKvtvb7cI"
      },
      "execution_count": null,
      "outputs": []
    },
    {
      "cell_type": "code",
      "source": [
        "file_path = \"your_file.parquet\"\n",
        "result = analyze_characters_in_columns(file_path)\n",
        "print(result)\n"
      ],
      "metadata": {
        "id": "ZXhGBGVaD3DS"
      },
      "execution_count": null,
      "outputs": []
    }
  ]
}