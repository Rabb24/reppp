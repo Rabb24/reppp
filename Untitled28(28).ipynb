{
  "nbformat": 4,
  "nbformat_minor": 0,
  "metadata": {
    "colab": {
      "provenance": []
    },
    "kernelspec": {
      "name": "python3",
      "display_name": "Python 3"
    },
    "language_info": {
      "name": "python"
    }
  },
  "cells": [
    {
      "cell_type": "code",
      "source": [
        "import pandas as pd\n",
        "\n",
        "def add_predictions_to_csv(file_path, probability_column, cutoff_95, cutoff_100):\n",
        "    # Wczytaj plik CSV\n",
        "    df = pd.read_csv(file_path)\n",
        "\n",
        "    # Dodaj kolumnę z przewidywaniem klasy dla cutoff_95\n",
        "    df['prediction_95'] = df[probability_column].apply(lambda x: 1 if x > cutoff_95 else 0)\n",
        "\n",
        "    # Dodaj kolumnę z przewidywaniem klasy dla cutoff_100\n",
        "    df['prediction_100'] = df[probability_column].apply(lambda x: 1 if x > cutoff_100 else 0)\n",
        "\n",
        "    # Zapisz wynik z powrotem do tego samego pliku CSV, nadpisując go\n",
        "    df.to_csv(file_path, index=False)\n",
        "\n",
        "    print(f\"Dodano kolumny z przewidywaniami do pliku '{file_path}'\")\n",
        "\n",
        "# Przykład użycia:\n",
        "# Wprowadź ścieżkę do pliku, nazwę kolumny probability oraz wartości cutoff thresholds\n",
        "file_path = 'plik.csv'\n",
        "probability_column = 'probability'\n",
        "cutoff_95 = 0.95\n",
        "cutoff_100 = 1.00\n",
        "\n",
        "add_predictions_to_csv(file_path, probability_column, cutoff_95, cutoff_100)\n"
      ],
      "metadata": {
        "id": "V3TrBaOcWt5v"
      },
      "execution_count": null,
      "outputs": []
    },
    {
      "cell_type": "code",
      "source": [
        "import pandas as pd\n",
        "\n",
        "def find_false_negatives(csv_file, parquet_file, output_csv):\n",
        "    # Wczytanie plików\n",
        "    csv_df = pd.read_csv(csv_file)\n",
        "    parquet_df = pd.read_parquet(parquet_file)\n",
        "\n",
        "    # Scalanie danych na podstawie kolumny 'id'\n",
        "    merged_df = pd.merge(parquet_df, csv_df, on='id')\n",
        "\n",
        "    # Znalezienie rekordów, które są False Negative\n",
        "    false_negatives = merged_df[(merged_df['x'] == 1) & (merged_df['prediction_95'] == 0)]\n",
        "\n",
        "    # Zapisanie wyników do nowego pliku CSV\n",
        "    false_negatives.to_csv(output_csv, index=False)\n",
        "\n",
        "    print(f\"Zapisano {len(false_negatives)} rekordów do pliku {output_csv}.\")\n",
        "\n",
        "# Przykład użycia funkcji\n",
        "find_false_negatives('plik.csv', 'plik.parquet', 'false_negatives.csv')\n"
      ],
      "metadata": {
        "id": "V2h0m5QnWt-T"
      },
      "execution_count": null,
      "outputs": []
    },
    {
      "cell_type": "code",
      "source": [],
      "metadata": {
        "id": "avdyCWkNWuBK"
      },
      "execution_count": null,
      "outputs": []
    },
    {
      "cell_type": "code",
      "source": [],
      "metadata": {
        "id": "b_nG3KDxWuDy"
      },
      "execution_count": null,
      "outputs": []
    },
    {
      "cell_type": "code",
      "source": [],
      "metadata": {
        "id": "kGu6fENUWuGG"
      },
      "execution_count": null,
      "outputs": []
    },
    {
      "cell_type": "code",
      "source": [],
      "metadata": {
        "id": "k1EGrIuqWuJw"
      },
      "execution_count": null,
      "outputs": []
    }
  ]
}