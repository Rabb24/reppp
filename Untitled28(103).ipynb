{
  "nbformat": 4,
  "nbformat_minor": 0,
  "metadata": {
    "colab": {
      "provenance": []
    },
    "kernelspec": {
      "name": "python3",
      "display_name": "Python 3"
    },
    "language_info": {
      "name": "python"
    }
  },
  "cells": [
    {
      "cell_type": "code",
      "source": [
        "import torch\n",
        "from safetensors.torch import save_file\n",
        "from transformers import VisionEncoderDecoderModel\n",
        "\n",
        "# Ścieżka do pliku .bin (stare wagi)\n",
        "bin_weights_path = \"./path_to_your_model/pytorch_model.bin\"\n",
        "\n",
        "# Ścieżka do zapisu pliku safetensors (nowe wagi)\n",
        "safetensors_weights_path = \"./path_to_your_model/pytorch_model.safetensors\"\n",
        "\n",
        "# Ścieżka do modelu\n",
        "model_name_or_path = \"naver-clova-ix/donut-base-finetuned-docvqa\"\n",
        "\n",
        "# 1. Załaduj model i wagi z pliku .bin\n",
        "model = VisionEncoderDecoderModel.from_pretrained(model_name_or_path, state_dict=torch.load(bin_weights_path, map_location=\"cpu\"))\n",
        "\n",
        "# 2. Upewnij się, że tensory nie współdzielą pamięci\n",
        "state_dict = model.state_dict()\n",
        "\n",
        "# Zamiast sprawdzania, po prostu klonujemy każdy tensor, aby upewnić się, że nie ma współdzielonej pamięci\n",
        "for key, tensor in state_dict.items():\n",
        "    state_dict[key] = tensor.clone()\n",
        "\n",
        "# 3. Zapisz wagi w formacie safetensors\n",
        "save_file(state_dict, safetensors_weights_path)\n",
        "\n",
        "print(f\"Wagi modelu zostały zapisane w formacie safetensors: {safetensors_weights_path}\")\n"
      ],
      "metadata": {
        "id": "DtUm7WHVaG3D"
      },
      "execution_count": null,
      "outputs": []
    },
    {
      "cell_type": "code",
      "source": [],
      "metadata": {
        "id": "PWVC42pcaG5a"
      },
      "execution_count": null,
      "outputs": []
    },
    {
      "cell_type": "code",
      "source": [],
      "metadata": {
        "id": "8Lzby_UvaG7Z"
      },
      "execution_count": null,
      "outputs": []
    },
    {
      "cell_type": "code",
      "source": [],
      "metadata": {
        "id": "IA8S8Qe4aG--"
      },
      "execution_count": null,
      "outputs": []
    }
  ]
}