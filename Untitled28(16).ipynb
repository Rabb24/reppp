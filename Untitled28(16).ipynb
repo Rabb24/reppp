{
  "nbformat": 4,
  "nbformat_minor": 0,
  "metadata": {
    "colab": {
      "provenance": []
    },
    "kernelspec": {
      "name": "python3",
      "display_name": "Python 3"
    },
    "language_info": {
      "name": "python"
    }
  },
  "cells": [
    {
      "cell_type": "code",
      "source": [
        "import pandas as pd\n",
        "\n",
        "def count_unique_values_by_month(file_path, date_column):\n",
        "    # Wczytanie danych z pliku CSV\n",
        "    df = pd.read_csv(file_path)\n",
        "\n",
        "    # Konwersja kolumny daty na datetime\n",
        "    df[date_column] = pd.to_datetime(df[date_column])\n",
        "\n",
        "    # Dodanie kolumny miesiąc i rok\n",
        "    df['month'] = df[date_column].dt.month\n",
        "    df['year'] = df[date_column].dt.year\n",
        "\n",
        "    # Lista kolumn (poza kolumną z datą, miesiącem i rokiem)\n",
        "    columns = df.columns.difference([date_column, 'month', 'year'])\n",
        "\n",
        "    # Lista miesięcy od lipca 2023 do czerwca 2024\n",
        "    periods = [(2023, month) for month in range(7, 13)] + [(2024, month) for month in range(1, 7)]\n",
        "\n",
        "    # Tworzenie pustego słownika do przechowywania wyników\n",
        "    results = {column: [0]*12 for column in columns}\n",
        "\n",
        "    # Zbiór przechowujący unikatowe wartości z poprzednich okresów\n",
        "    previous_uniques = {column: set() for column in columns}\n",
        "\n",
        "    # Iteracja po okresach (miesiącach) od lipca 2023 do czerwca 2024\n",
        "    for i, (year, month) in enumerate(periods):\n",
        "        monthly_data = df[(df['year'] == year) & (df['month'] == month)]\n",
        "        if not monthly_data.empty:\n",
        "            for column in columns:\n",
        "                current_uniques = set(monthly_data[column].dropna().unique())\n",
        "                new_uniques = current_uniques - previous_uniques[column]\n",
        "                results[column][i] = len(new_uniques)\n",
        "                previous_uniques[column].update(new_uniques)\n",
        "\n",
        "    return results\n",
        "\n",
        "# Użycie funkcji z plikiem CSV\n",
        "file_path = 'path_to_your_file.csv'\n",
        "date_column = 'data'\n",
        "\n",
        "results = count_unique_values_by_month(file_path, date_column)\n",
        "\n",
        "# Wyświetlenie wyników\n",
        "for column, unique_counts in results.items():\n",
        "    print(f\"Column: {column}, Unique counts by month: {unique_counts}\")\n"
      ],
      "metadata": {
        "id": "gRlD_zJ20Z9P"
      },
      "execution_count": null,
      "outputs": []
    }
  ]
}