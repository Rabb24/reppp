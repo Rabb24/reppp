{
  "nbformat": 4,
  "nbformat_minor": 0,
  "metadata": {
    "colab": {
      "provenance": []
    },
    "kernelspec": {
      "name": "python3",
      "display_name": "Python 3"
    },
    "language_info": {
      "name": "python"
    }
  },
  "cells": [
    {
      "cell_type": "code",
      "source": [
        "import pandas as pd\n",
        "\n",
        "def filter_and_match_parquet_with_csv(parquet_file, csv_file, id_column, output_csv=None):\n",
        "    # Wczytaj plik CSV\n",
        "    df_csv = pd.read_csv(csv_file)\n",
        "\n",
        "    # Filtruj rekordy z kolumną 'x' równą 1\n",
        "    filtered_csv = df_csv[df_csv['x'] == 1]\n",
        "\n",
        "    # Wczytaj plik Parquet\n",
        "    df_parquet = pd.read_parquet(parquet_file)\n",
        "\n",
        "    # Złącz dane na podstawie kolumny id\n",
        "    matched_records = df_parquet[df_parquet[id_column].isin(filtered_csv[id_column])]\n",
        "\n",
        "    if output_csv:\n",
        "        # Zapisz wyniki do nowego pliku CSV, jeśli podano nazwę pliku wyjściowego\n",
        "        matched_records.to_csv(output_csv, index=False)\n",
        "        print(f\"Wyniki zapisane do {output_csv}\")\n",
        "    else:\n",
        "        # Wypisz wyniki\n",
        "        print(matched_records)\n",
        "\n",
        "# Przykład użycia:\n",
        "# filter_and_match_parquet_with_csv('plik.parquet', 'plik.csv', 'id_kolumna', 'wynik.csv')\n"
      ],
      "metadata": {
        "id": "DnM_2iQm1xQQ"
      },
      "execution_count": null,
      "outputs": []
    },
    {
      "cell_type": "code",
      "source": [
        "filter_and_match_parquet_with_csv('data.parquet', 'data.csv', 'id', 'filtered_output.csv')"
      ],
      "metadata": {
        "id": "F36pWbjO1xTz"
      },
      "execution_count": null,
      "outputs": []
    },
    {
      "cell_type": "code",
      "source": [
        "import pandas as pd\n",
        "import os\n",
        "\n",
        "def filter_and_match_parquet_with_multiple_csv(parquet_file, csv_folder, id_column, output_csv=None):\n",
        "    # Inicjalizuj pusty DataFrame do przechowywania połączonych wyników z plików CSV\n",
        "    combined_csv = pd.DataFrame()\n",
        "\n",
        "    # Przeszukaj wszystkie pliki CSV w folderze\n",
        "    for csv_file in os.listdir(csv_folder):\n",
        "        if csv_file.endswith('.csv'):\n",
        "            # Wczytaj plik CSV\n",
        "            df_csv = pd.read_csv(os.path.join(csv_folder, csv_file))\n",
        "\n",
        "            # Filtruj rekordy z kolumną 'x' równą 1\n",
        "            filtered_csv = df_csv[df_csv['x'] == 1]\n",
        "\n",
        "            # Dodaj przefiltrowane dane do skumulowanego DataFrame\n",
        "            combined_csv = pd.concat([combined_csv, filtered_csv])\n",
        "\n",
        "    # Wczytaj plik Parquet\n",
        "    df_parquet = pd.read_parquet(parquet_file)\n",
        "\n",
        "    # Złącz dane na podstawie kolumny id\n",
        "    matched_records = df_parquet[df_parquet[id_column].isin(combined_csv[id_column])]\n",
        "\n",
        "    if output_csv:\n",
        "        # Zapisz wyniki do nowego pliku CSV, jeśli podano nazwę pliku wyjściowego\n",
        "        matched_records.to_csv(output_csv, index=False)\n",
        "        print(f\"Wyniki zapisane do {output_csv}\")\n",
        "    else:\n",
        "        # Wypisz wyniki\n",
        "        print(matched_records)\n",
        "\n",
        "# Przykład użycia:\n",
        "# filter_and_match_parquet_with_multiple_csv('plik.parquet', 'folder_z_csv', 'id_kolumna', 'wynik.csv')\n"
      ],
      "metadata": {
        "id": "u6Lqf3_y3kpV"
      },
      "execution_count": null,
      "outputs": []
    },
    {
      "cell_type": "code",
      "source": [
        "filter_and_match_parquet_with_multiple_csv('data.parquet', 'path/to/csv_folder', 'id', 'filtered_output.csv')"
      ],
      "metadata": {
        "id": "cjDxG3LT3krn"
      },
      "execution_count": null,
      "outputs": []
    },
    {
      "cell_type": "code",
      "source": [],
      "metadata": {
        "id": "5gr-Qt903ku_"
      },
      "execution_count": null,
      "outputs": []
    },
    {
      "cell_type": "code",
      "source": [],
      "metadata": {
        "id": "EBi5QC1I3k3W"
      },
      "execution_count": null,
      "outputs": []
    }
  ]
}