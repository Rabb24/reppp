{
  "nbformat": 4,
  "nbformat_minor": 0,
  "metadata": {
    "colab": {
      "provenance": []
    },
    "kernelspec": {
      "name": "python3",
      "display_name": "Python 3"
    },
    "language_info": {
      "name": "python"
    }
  },
  "cells": [
    {
      "cell_type": "code",
      "source": [
        "from docx import Document\n",
        "from docx.shared import Pt\n",
        "\n",
        "def convert_docx_with_tables_to_text(docx_path, output_path):\n",
        "    # Otwórz dokument DOCX\n",
        "    doc = Document(docx_path)\n",
        "    new_doc = Document()  # Nowy dokument do zapisywania\n",
        "\n",
        "    # Iteracja przez elementy dokumentu (akapity, tabele, itp.)\n",
        "    for element in doc.element.body:\n",
        "        # Sprawdzenie, czy element jest tabelą\n",
        "        if element.tag.endswith('tbl'):\n",
        "            table = next(t for t in doc.tables if t._tbl == element)\n",
        "\n",
        "            # Przekształć tabelę na tekst\n",
        "            for row in table.rows:\n",
        "                row_text = \"\\t\".join((cell.text or '').strip() for cell in row.cells)  # Wyciągnij tekst z wierszy tabeli\n",
        "                new_paragraph = new_doc.add_paragraph(row_text)  # Dodaj wiersz jako paragraf\n",
        "                new_paragraph.style.font.size = Pt(10)  # Opcjonalnie: zmień rozmiar czcionki\n",
        "        else:\n",
        "            # Przekształcenie akapitu\n",
        "            for paragraph in doc.paragraphs:\n",
        "                if element == paragraph._element:\n",
        "                    # Skopiuj akapit i jego formatowanie\n",
        "                    new_paragraph = new_doc.add_paragraph(paragraph.text)\n",
        "                    new_paragraph.style = paragraph.style\n",
        "\n",
        "    # Zapis nowego dokumentu do pliku DOCX\n",
        "    new_doc.save(output_path)\n",
        "    print(f\"Konwersja zakończona. Dokument zapisano w pliku: {output_path}\")\n",
        "\n",
        "# Przykład użycia:\n",
        "docx_file = \"przykladowy_plik.docx\"\n",
        "output_file = \"dokument_z_tabelami_tekst.docx\"\n",
        "convert_docx_with_tables_to_text(docx_file, output_file)\n"
      ],
      "metadata": {
        "id": "97KGweDPCRJt"
      },
      "execution_count": null,
      "outputs": []
    },
    {
      "cell_type": "code",
      "source": [
        "from docx import Document\n",
        "\n",
        "def convert_docx_tables_to_markdown(docx_path, output_path):\n",
        "    # Otwórz dokument DOCX\n",
        "    doc = Document(docx_path)\n",
        "\n",
        "    # Iteracja przez wszystkie elementy dokumentu, w tym akapity i tabele\n",
        "    for i, element in enumerate(doc.element.body):\n",
        "        # Sprawdzenie, czy element jest tabelą\n",
        "        if element.tag.endswith('tbl'):\n",
        "            table = next(t for t in doc.tables if t._tbl == element)\n",
        "            table_md = []\n",
        "\n",
        "            # Wyciągnięcie wiersza nagłówków (pierwszego wiersza)\n",
        "            headers = [(cell.text or '').strip() for cell in table.rows[0].cells]\n",
        "            table_md.append(\"| \" + \" | \".join(headers) + \" |\")\n",
        "            table_md.append(\"|\" + \"|\".join([\"-\" * len(header) for header in headers]) + \"|\")\n",
        "\n",
        "            # Wyciągnięcie pozostałych wierszy\n",
        "            for row in table.rows[1:]:\n",
        "                row_text = [(cell.text or '').strip() for cell in row.cells]\n",
        "                table_md.append(\"| \" + \" | \".join(row_text) + \" |\")\n",
        "\n",
        "            # Zastąpienie tabeli tekstem markdown w dokumencie\n",
        "            table_as_markdown = \"\\n\".join(table_md)\n",
        "\n",
        "            # Usunięcie tabeli z oryginalnego miejsca\n",
        "            table._element.getparent().remove(table._element)\n",
        "\n",
        "            # Dodanie tekstu markdown zamiast tabeli\n",
        "            doc.paragraphs[i].insert_paragraph_before(table_as_markdown)\n",
        "\n",
        "    # Zapis zmodyfikowanego dokumentu do pliku DOCX\n",
        "    doc.save(output_path)\n",
        "    print(f\"Konwersja zakończona. Dokument zapisano w pliku: {output_path}\")\n",
        "\n",
        "# Przykład użycia:\n",
        "docx_file = \"przykladowy_plik.docx\"\n",
        "output_file_md = \"dokument_z_tabelami_markdown.docx\"\n",
        "convert_docx_tables_to_markdown(docx_file, output_file_md)\n"
      ],
      "metadata": {
        "id": "wwMxgGSVX_mU"
      },
      "execution_count": null,
      "outputs": []
    },
    {
      "cell_type": "code",
      "source": [],
      "metadata": {
        "id": "bAs_FEQCX_op"
      },
      "execution_count": null,
      "outputs": []
    },
    {
      "cell_type": "code",
      "source": [],
      "metadata": {
        "id": "56HsuaUYX_sF"
      },
      "execution_count": null,
      "outputs": []
    }
  ]
}