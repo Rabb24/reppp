{
  "nbformat": 4,
  "nbformat_minor": 0,
  "metadata": {
    "colab": {
      "provenance": []
    },
    "kernelspec": {
      "name": "python3",
      "display_name": "Python 3"
    },
    "language_info": {
      "name": "python"
    }
  },
  "cells": [
    {
      "cell_type": "markdown",
      "source": [
        "pix2struct-chart\n",
        "\n",
        "```\n",
        "# Sformatowano jako kod\n",
        "```\n",
        "\n"
      ],
      "metadata": {
        "id": "KFNLZK93fTGX"
      }
    },
    {
      "cell_type": "markdown",
      "source": [
        "donut-base"
      ],
      "metadata": {
        "id": "y-_kglejMtYY"
      }
    },
    {
      "cell_type": "code",
      "source": [
        "image = Image.open(image_path).convert(\"RGB\")\n",
        "\n",
        "# Przetwórz obraz do formatu wymaganego przez model\n",
        "inputs = processor(images=image, return_tensors=\"pt\").to(device)\n",
        "\n",
        "# Wygeneruj tekst na podstawie obrazu\n",
        "generated_ids = model.generate(**inputs, max_new_tokens=512)  # Możesz dostosować max_new_tokens\n",
        "\n",
        "# Zdekoduj wygenerowane ID na tekst\n",
        "generated_text = processor.batch_decode(generated_ids, skip_special_tokens=True)[0]\n",
        "print(\"Wygenerowany tekst:\", generated_text)"
      ],
      "metadata": {
        "id": "shsIu9d6T6h7"
      },
      "execution_count": null,
      "outputs": []
    },
    {
      "cell_type": "code",
      "source": [],
      "metadata": {
        "id": "HwII13hKT6md"
      },
      "execution_count": null,
      "outputs": []
    },
    {
      "cell_type": "code",
      "source": [],
      "metadata": {
        "id": "KbXn2wDnT6pC"
      },
      "execution_count": null,
      "outputs": []
    },
    {
      "cell_type": "code",
      "source": [],
      "metadata": {
        "id": "iDueAHPLT6se"
      },
      "execution_count": null,
      "outputs": []
    }
  ]
}