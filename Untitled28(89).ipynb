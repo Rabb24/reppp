{
  "nbformat": 4,
  "nbformat_minor": 0,
  "metadata": {
    "colab": {
      "provenance": []
    },
    "kernelspec": {
      "name": "python3",
      "display_name": "Python 3"
    },
    "language_info": {
      "name": "python"
    }
  },
  "cells": [
    {
      "cell_type": "markdown",
      "source": [
        "pix2struct-chart"
      ],
      "metadata": {
        "id": "KFNLZK93fTGX"
      }
    },
    {
      "cell_type": "code",
      "source": [
        "import torch\n",
        "from transformers import Pix2StructProcessor, Pix2StructForConditionalGeneration\n",
        "from PIL import Image\n",
        "\n",
        "# Ścieżka do lokalnych plików modelu i obrazu\n",
        "model_path = \"google/pix2struct-chartqa-base\"  # Ścieżka do modelu lub identyfikator Hugging Face\n",
        "image_path = \"./path_to_image/sample_image.png\"  # Ścieżka do lokalnego obrazu PNG\n",
        "\n",
        "# Załaduj procesor i model z lokalnych plików lub Hugging Face Model Hub\n",
        "processor = Pix2StructProcessor.from_pretrained(model_path)\n",
        "model = Pix2StructForConditionalGeneration.from_pretrained(model_path)\n",
        "\n",
        "# Ustaw model na CPU (lub GPU, jeśli masz, wtedy 'cuda')\n",
        "device = torch.device(\"cpu\")\n",
        "model.to(device)\n",
        "\n",
        "# Załaduj obraz PNG\n",
        "image = Image.open(image_path)\n",
        "\n",
        "# Przetwórz obraz do formatu wymaganego przez model\n",
        "inputs = processor(images=image, return_tensors=\"pt\").to(device)\n",
        "\n",
        "# Wygeneruj tekst z parametrami dostosowanymi do generowania około 4 zdań\n",
        "generated_ids = model.generate(**inputs,\n",
        "                               max_new_tokens=80,  # Ustawienia na około 4 zdania\n",
        "                               temperature=0.7,    # Niższa temperatura dla bardziej spójnych odpowiedzi\n",
        "                               top_p=0.9)          # Kontrola nad wyborem najbardziej prawdopodobnych tokenów\n",
        "\n",
        "# Zdekoduj wygenerowane ID na tekst\n",
        "generated_text = processor.batch_decode(generated_ids, skip_special_tokens=True)[0]\n",
        "print(\"Wygenerowany tekst:\", generated_text)\n"
      ],
      "metadata": {
        "id": "vfyMF-RFoDW4"
      },
      "execution_count": null,
      "outputs": []
    },
    {
      "cell_type": "code",
      "source": [],
      "metadata": {
        "id": "ggH0mWLdoDaU"
      },
      "execution_count": null,
      "outputs": []
    }
  ]
}