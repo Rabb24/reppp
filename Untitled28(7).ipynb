{
  "nbformat": 4,
  "nbformat_minor": 0,
  "metadata": {
    "colab": {
      "provenance": []
    },
    "kernelspec": {
      "name": "python3",
      "display_name": "Python 3"
    },
    "language_info": {
      "name": "python"
    }
  },
  "cells": [
    {
      "cell_type": "code",
      "source": [
        "import pandas as pd\n",
        "from collections import Counter\n",
        "import re\n",
        "\n",
        "def get_top_words(file_path, title_column, top_n=50):\n",
        "    # Wczytanie danych z pliku CSV\n",
        "    df = pd.read_csv(file_path)\n",
        "\n",
        "    # Złączenie wszystkich tytułów w jeden tekst\n",
        "    all_titles = ' '.join(df[title_column].dropna().astype(str).tolist())\n",
        "\n",
        "    # Usunięcie znaków interpunkcyjnych i podzielenie na słowa\n",
        "    words = re.findall(r'\\b\\w+\\b', all_titles.lower())\n",
        "\n",
        "    # Zliczanie najczęściej występujących słów\n",
        "    word_counts = Counter(words)\n",
        "    most_common_words = word_counts.most_common(top_n)\n",
        "\n",
        "    return most_common_words\n",
        "\n",
        "# Ścieżka do pliku CSV i nazwa kolumny z tytułami\n",
        "file_path = 'path_to_your_file.csv'\n",
        "title_column = 'title'\n",
        "\n",
        "# Wywołanie funkcji i wyświetlenie wyników\n",
        "top_words = get_top_words(file_path, title_column)\n",
        "print(top_words)\n"
      ],
      "metadata": {
        "id": "o9_BFrZGU5pO"
      },
      "execution_count": null,
      "outputs": []
    },
    {
      "cell_type": "code",
      "source": [
        "import pandas as pd\n",
        "from collections import Counter\n",
        "import re\n",
        "import nltk\n",
        "from nltk.corpus import stopwords\n",
        "\n",
        "nltk.download('stopwords')\n",
        "\n",
        "def get_top_words_nltk(file_path, title_column, top_n=50):\n",
        "    # Wczytanie danych z pliku CSV\n",
        "    df = pd.read_csv(file_path)\n",
        "\n",
        "    # Złączenie wszystkich tytułów w jeden tekst\n",
        "    all_titles = ' '.join(df[title_column].dropna().astype(str).tolist())\n",
        "\n",
        "    # Usunięcie znaków interpunkcyjnych i podzielenie na słowa\n",
        "    words = re.findall(r'\\b\\w+\\b', all_titles.lower())\n",
        "\n",
        "    # Usunięcie stop words\n",
        "    stop_words = set(stopwords.words('english'))\n",
        "    filtered_words = [word for word in words if word not in stop_words]\n",
        "\n",
        "    # Zliczanie najczęściej występujących słów\n",
        "    word_counts = Counter(filtered_words)\n",
        "    most_common_words = word_counts.most_common(top_n)\n",
        "\n",
        "    return most_common_words\n",
        "\n",
        "# Ścieżka do pliku CSV i nazwa kolumny z tytułami\n",
        "file_path = 'path_to_your_file.csv'\n",
        "title_column = 'title'\n",
        "\n",
        "# Wywołanie funkcji i wyświetlenie wyników\n",
        "top_words = get_top_words_nltk(file_path, title_column)\n",
        "print(top_words)\n"
      ],
      "metadata": {
        "id": "aSek6j1sU5hZ"
      },
      "execution_count": null,
      "outputs": []
    },
    {
      "cell_type": "code",
      "source": [
        "import pandas as pd\n",
        "from sklearn.feature_extraction.text import CountVectorizer\n",
        "\n",
        "def get_top_words_sklearn(file_path, title_column, top_n=50):\n",
        "    # Wczytanie danych z pliku CSV\n",
        "    df = pd.read_csv(file_path)\n",
        "\n",
        "    # Złączenie wszystkich tytułów w jeden tekst\n",
        "    all_titles = df[title_column].dropna().astype(str).tolist()\n",
        "\n",
        "    # Użycie CountVectorizer do tokenizacji i zliczania słów\n",
        "    vectorizer = CountVectorizer(stop_words='english')\n",
        "    X = vectorizer.fit_transform(all_titles)\n",
        "\n",
        "    # Zliczanie wystąpień słów\n",
        "    word_counts = X.toarray().sum(axis=0)\n",
        "    word_freq = [(word, word_counts[idx]) for word, idx in vectorizer.vocabulary_.items()]\n",
        "    word_freq = sorted(word_freq, key=lambda x: x[1], reverse=True)\n",
        "\n",
        "    # Pobieranie top_n słów\n",
        "    most_common_words = word_freq[:top_n]\n",
        "\n",
        "    return most_common_words\n",
        "\n",
        "# Ścieżka do pliku CSV i nazwa kolumny z tytułami\n",
        "file_path = 'path_to_your_file.csv'\n",
        "title_column = 'title'\n",
        "\n",
        "# Wywołanie funkcji i wyświetlenie wyników\n",
        "top_words = get_top_words_sklearn(file_path, title_column)\n",
        "print(top_words)\n"
      ],
      "metadata": {
        "id": "MYP9zKJMU5Xi"
      },
      "execution_count": null,
      "outputs": []
    },
    {
      "cell_type": "code",
      "source": [
        "import pandas as pd\n",
        "import spacy\n",
        "from collections import Counter\n",
        "\n",
        "# Załadowanie modelu spaCy\n",
        "nlp = spacy.load('en_core_web_sm')\n",
        "\n",
        "def get_top_words_spacy(file_path, title_column, top_n=50):\n",
        "    # Wczytanie danych z pliku CSV\n",
        "    df = pd.read_csv(file_path)\n",
        "\n",
        "    # Złączenie wszystkich tytułów w jeden tekst\n",
        "    all_titles = ' '.join(df[title_column].dropna().astype(str).tolist())\n",
        "\n",
        "    # Przetwarzanie tekstu za pomocą spaCy\n",
        "    doc = nlp(all_titles)\n",
        "\n",
        "    # Tokenizacja i usunięcie stop words\n",
        "    words = [token.text.lower() for token in doc if not token.is_stop and not token.is_punct]\n",
        "\n",
        "    # Zliczanie najczęściej występujących słów\n",
        "    word_counts = Counter(words)\n",
        "    most_common_words = word_counts.most_common(top_n)\n",
        "\n",
        "    return most_common_words\n",
        "\n",
        "# Ścieżka do pliku CSV i nazwa kolumny z tytułami\n",
        "file_path = 'path_to_your_file.csv'\n",
        "title_column = 'title'\n",
        "\n",
        "# Wywołanie funkcji i wyświetlenie wyników\n",
        "top_words = get_top_words_spacy(file_path, title_column)\n",
        "print(top_words)\n"
      ],
      "metadata": {
        "id": "8RnUqNFXYtE6"
      },
      "execution_count": null,
      "outputs": []
    },
    {
      "cell_type": "code",
      "source": [],
      "metadata": {
        "id": "8L0xqrF-Ys8Z"
      },
      "execution_count": null,
      "outputs": []
    },
    {
      "cell_type": "code",
      "source": [],
      "metadata": {
        "id": "iXatAnpFYs43"
      },
      "execution_count": null,
      "outputs": []
    },
    {
      "cell_type": "code",
      "source": [],
      "metadata": {
        "id": "kAuL5uclYs2E"
      },
      "execution_count": null,
      "outputs": []
    }
  ]
}