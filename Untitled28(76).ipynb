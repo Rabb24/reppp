{
  "nbformat": 4,
  "nbformat_minor": 0,
  "metadata": {
    "colab": {
      "provenance": []
    },
    "kernelspec": {
      "name": "python3",
      "display_name": "Python 3"
    },
    "language_info": {
      "name": "python"
    }
  },
  "cells": [
    {
      "cell_type": "code",
      "source": [
        "from docx import Document\n",
        "\n",
        "# Function to convert a table to Markdown format\n",
        "def table_to_markdown(table):\n",
        "    table_md = []\n",
        "    headers = []\n",
        "    separator = []\n",
        "\n",
        "    # Process the first row as headers\n",
        "    for cell in table.rows[0].cells:\n",
        "        headers.append(cell.text.strip())\n",
        "        separator.append(\"---\")\n",
        "\n",
        "    table_md.append(\"| \" + \" | \".join(headers) + \" |\")\n",
        "    table_md.append(\"| \" + \" | \".join(separator) + \" |\")\n",
        "\n",
        "    # Process remaining rows\n",
        "    for row in table.rows[1:]:\n",
        "        row_md = []\n",
        "        for cell in row.cells:\n",
        "            row_md.append(cell.text.strip())\n",
        "        table_md.append(\"| \" + \" | \".join(row_md) + \" |\")\n",
        "\n",
        "    return \"\\n\".join(table_md)\n",
        "\n",
        "# Function to print the selected section, including tables in the correct order\n",
        "def print_selected_section_with_tables(docx_file, selected_section):\n",
        "    # Otwórz dokument\n",
        "    doc = Document(docx_file)\n",
        "    section_started = False  # Flaga, która sprawdza, czy jesteśmy w wybranej sekcji\n",
        "\n",
        "    # Przechodzimy przez wszystkie elementy w dokumencie\n",
        "    for element in doc.element.body:\n",
        "        if element.tag.endswith('p'):  # Jeśli to paragraf\n",
        "            paragraph = doc.paragraphs[doc.element.body.index(element)]\n",
        "\n",
        "            # Sprawdzamy, czy paragraf to nagłówek (sekcja)\n",
        "            if paragraph.style.name.startswith('Heading'):\n",
        "                # Sprawdzamy, czy to nasz wybrany rozdział\n",
        "                if paragraph.text.strip() == selected_section:\n",
        "                    section_started = True  # Zaczynamy przetwarzać sekcję\n",
        "                elif section_started:\n",
        "                    break  # Kończymy przetwarzanie, jeśli dotarliśmy do następnego nagłówka\n",
        "\n",
        "            # Jeśli jesteśmy w wybranej sekcji, drukujemy paragraf\n",
        "            if section_started and paragraph.text.strip():\n",
        "                print(paragraph.text.strip())\n",
        "\n",
        "        if element.tag.endswith('tbl'):  # Jeśli to tabela\n",
        "            if section_started:\n",
        "                # Konwertujemy tabelę na Markdown i printujemy\n",
        "                table_md = table_to_markdown(doc.tables[doc.element.body.index(element)])\n",
        "                print(table_md)\n",
        "\n",
        "# Przykład użycia\n",
        "if __name__ == \"__main__\":\n",
        "    docx_path = 'path_to_your_document.docx'  # Podaj ścieżkę do swojego pliku DOCX\n",
        "    selected_section = 'Introduction'  # Podaj nazwę wybranego rozdziału, który chcesz wyświetlić\n",
        "\n",
        "    print_selected_section_with_tables(docx_path, selected_section)\n"
      ],
      "metadata": {
        "id": "lQPllielFZWm"
      },
      "execution_count": null,
      "outputs": []
    },
    {
      "cell_type": "code",
      "source": [],
      "metadata": {
        "id": "0bOkzW5QFZbd"
      },
      "execution_count": null,
      "outputs": []
    },
    {
      "cell_type": "code",
      "source": [],
      "metadata": {
        "id": "RlFPLk_qFZeg"
      },
      "execution_count": null,
      "outputs": []
    },
    {
      "cell_type": "code",
      "source": [],
      "metadata": {
        "id": "dk-kC1wfFZkl"
      },
      "execution_count": null,
      "outputs": []
    },
    {
      "cell_type": "code",
      "source": [],
      "metadata": {
        "id": "jxjtxj-pFZnI"
      },
      "execution_count": null,
      "outputs": []
    },
    {
      "cell_type": "code",
      "source": [],
      "metadata": {
        "id": "FJsrKXk3FZra"
      },
      "execution_count": null,
      "outputs": []
    }
  ]
}