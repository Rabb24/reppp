{
  "nbformat": 4,
  "nbformat_minor": 0,
  "metadata": {
    "colab": {
      "provenance": []
    },
    "kernelspec": {
      "name": "python3",
      "display_name": "Python 3"
    },
    "language_info": {
      "name": "python"
    }
  },
  "cells": [
    {
      "cell_type": "code",
      "source": [
        "import pandas as pd\n",
        "import matplotlib.pyplot as plt\n",
        "\n",
        "def analyze_days_difference(file_path, start_date_col, end_date_col, date_format=None):\n",
        "    # Wczytanie danych\n",
        "    df = pd.read_csv(file_path)\n",
        "\n",
        "    # Sprawdzenie wczytanych danych\n",
        "    if df.empty:\n",
        "        print(\"DataFrame jest pusty po wczytaniu pliku CSV.\")\n",
        "        return\n",
        "\n",
        "    # Konwersja kolumn na typ datetime z uwzględnieniem formatu dat\n",
        "    if date_format:\n",
        "        df[start_date_col] = pd.to_datetime(df[start_date_col], format=date_format, errors='coerce')\n",
        "        df[end_date_col] = pd.to_datetime(df[end_date_col], format=date_format, errors='coerce')\n",
        "    else:\n",
        "        df[start_date_col] = pd.to_datetime(df[start_date_col], errors='coerce')\n",
        "        df[end_date_col] = pd.to_datetime(df[end_date_col], errors='coerce')\n",
        "\n",
        "    # Usunięcie wierszy z wartościami null w jednej z kolumn dat\n",
        "    df = df.dropna(subset=[start_date_col, end_date_col], how='any')\n",
        "\n",
        "    # Sprawdzenie, czy DataFrame nie jest pusty po usunięciu wartości null\n",
        "    if df.empty:\n",
        "        print(\"DataFrame jest pusty po usunięciu wierszy z wartościami null.\")\n",
        "        return\n",
        "\n",
        "    # Obliczenie różnicy dni\n",
        "    df['days_difference'] = (df[end_date_col] - df[start_date_col]).dt.days\n",
        "\n",
        "    # Sprawdzenie, czy kolumna 'days_difference' zawiera wartości\n",
        "    if df['days_difference'].empty:\n",
        "        print(\"Kolumna 'days_difference' jest pusta po obliczeniach.\")\n",
        "        return\n",
        "\n",
        "    # Zliczenie liczby dni\n",
        "    days_count = df['days_difference'].value_counts().sort_index()\n",
        "\n",
        "    # Sprawdzenie, czy days_count nie jest pusty\n",
        "    if days_count.empty:\n",
        "        print(\"Brak danych do wyświetlenia na histogramie.\")\n",
        "        return\n",
        "\n",
        "    # Tworzenie histogramu\n",
        "    plt.figure(figsize=(10, 6))\n",
        "    days_count.plot(kind='bar')\n",
        "    plt.xlabel('Liczba dni')\n",
        "    plt.ylabel('Liczba wystąpień')\n",
        "    plt.title('Histogram liczby dni między datami')\n",
        "    plt.show()\n",
        "\n",
        "# Przykład użycia funkcji\n",
        "analyze_days_difference('nazwa_pliku.csv', 'data_start', 'data_end', date_format='%d-%m-%Y')\n"
      ],
      "metadata": {
        "id": "6RZLtlYKdYD3"
      },
      "execution_count": null,
      "outputs": []
    },
    {
      "cell_type": "code",
      "source": [],
      "metadata": {
        "id": "aTWctQBHdYHf"
      },
      "execution_count": null,
      "outputs": []
    },
    {
      "cell_type": "code",
      "source": [],
      "metadata": {
        "id": "R_qmd8kXdYKI"
      },
      "execution_count": null,
      "outputs": []
    },
    {
      "cell_type": "code",
      "source": [],
      "metadata": {
        "id": "7tvfB0LfdYMo"
      },
      "execution_count": null,
      "outputs": []
    },
    {
      "cell_type": "code",
      "source": [],
      "metadata": {
        "id": "vK-CjRQjdYQF"
      },
      "execution_count": null,
      "outputs": []
    }
  ]
}