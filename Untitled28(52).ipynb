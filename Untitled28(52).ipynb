{
  "nbformat": 4,
  "nbformat_minor": 0,
  "metadata": {
    "colab": {
      "provenance": []
    },
    "kernelspec": {
      "name": "python3",
      "display_name": "Python 3"
    },
    "language_info": {
      "name": "python"
    }
  },
  "cells": [
    {
      "cell_type": "code",
      "source": [
        "from bs4 import BeautifulSoup\n",
        "\n",
        "def extract_chapter_from_html(html_content, start_heading, end_heading=None, start_level=1, end_level=None):\n",
        "    \"\"\"Wyodrębnia rozdział lub podrozdział z HTML na podstawie nagłówków.\"\"\"\n",
        "    soup = BeautifulSoup(html_content, 'html.parser')\n",
        "\n",
        "    # Tworzenie listy tagów nagłówków, które chcemy brać pod uwagę\n",
        "    start_tag = f'h{start_level}' if start_level else ['h1', 'h2', 'h3', 'h4', 'h5', 'h6']\n",
        "    end_tag = f'h{end_level}' if end_level else None\n",
        "\n",
        "    # Debugging: Wypisz wszystkie nagłówki w pliku HTML\n",
        "    for tag in soup.find_all(['h1', 'h2', 'h3', 'h4', 'h5', 'h6']):\n",
        "        print(f\"Znaleziono nagłówek: {tag.name} - {tag.text.strip()}\")  # Wypisuje wszystkie znalezione nagłówki\n",
        "\n",
        "    # Znajdź element zaczynający wybrany rozdział lub podrozdział\n",
        "    start_element = soup.find(lambda tag: tag.name == start_tag and tag.text.strip() == start_heading)\n",
        "\n",
        "    if not start_element:\n",
        "        print(f\"Nie znaleziono nagłówka: {start_heading}\")\n",
        "        return None  # Jeśli nie znaleziono nagłówka\n",
        "\n",
        "    output = str(start_element)\n",
        "\n",
        "    # Przechodzenie przez kolejne elementy po nagłówku\n",
        "    for sibling in start_element.find_next_siblings():\n",
        "        if end_heading and sibling.name in ['h1', 'h2', 'h3', 'h4', 'h5', 'h6'] and sibling.get_text(strip=True) == end_heading:\n",
        "            break\n",
        "        if end_level and sibling.name == end_tag:\n",
        "            break\n",
        "        output += str(sibling)\n",
        "\n",
        "    return output\n"
      ],
      "metadata": {
        "id": "kmwHAC0vKSEc"
      },
      "execution_count": null,
      "outputs": []
    },
    {
      "cell_type": "code",
      "source": [
        "chapter_html = extract_chapter_from_html(html_content, 'Rozdział 1', 'Sekcja 1.1', start_level=1, end_level=2)\n"
      ],
      "metadata": {
        "id": "3uvFkIeACQzE"
      },
      "execution_count": null,
      "outputs": []
    },
    {
      "cell_type": "code",
      "source": [],
      "metadata": {
        "id": "fNwc2_zvCQ1c"
      },
      "execution_count": null,
      "outputs": []
    },
    {
      "cell_type": "code",
      "source": [],
      "metadata": {
        "id": "qAYk_C4HCQ4B"
      },
      "execution_count": null,
      "outputs": []
    },
    {
      "cell_type": "code",
      "source": [],
      "metadata": {
        "id": "zFs4x9uXCQ6t"
      },
      "execution_count": null,
      "outputs": []
    },
    {
      "cell_type": "code",
      "source": [],
      "metadata": {
        "id": "2Xu2PvXgCQ-H"
      },
      "execution_count": null,
      "outputs": []
    },
    {
      "cell_type": "code",
      "source": [],
      "metadata": {
        "id": "OTAtBWiVCRGT"
      },
      "execution_count": null,
      "outputs": []
    },
    {
      "cell_type": "code",
      "source": [],
      "metadata": {
        "id": "97KGweDPCRJt"
      },
      "execution_count": null,
      "outputs": []
    }
  ]
}