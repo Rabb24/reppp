{
  "nbformat": 4,
  "nbformat_minor": 0,
  "metadata": {
    "colab": {
      "provenance": []
    },
    "kernelspec": {
      "name": "python3",
      "display_name": "Python 3"
    },
    "language_info": {
      "name": "python"
    }
  },
  "cells": [
    {
      "cell_type": "code",
      "source": [
        "import pandas as pd\n",
        "\n",
        "def analyze_characters_all_columns(file_path):\n",
        "    # Wczytanie pliku parquet\n",
        "    df = pd.read_parquet(file_path)\n",
        "\n",
        "    # Słownik, który będzie przechowywać wynik\n",
        "    analysis = {}\n",
        "\n",
        "    # Iteracja przez wszystkie kolumny\n",
        "    for col in df.columns:\n",
        "        # Konwersja wszystkich wartości w kolumnie na string i obliczanie długości\n",
        "        char_lengths = df[col].astype(str).apply(len)\n",
        "\n",
        "        # Obliczanie minimalnej i maksymalnej liczby znaków w kolumnie\n",
        "        min_chars = char_lengths.min()\n",
        "        max_chars = char_lengths.max()\n",
        "\n",
        "        # Dodanie wyników do słownika\n",
        "        analysis[col] = {'min_chars': min_chars, 'max_chars': max_chars}\n",
        "\n",
        "    return analysis\n",
        "\n",
        "# Przyklad uzycia:\n",
        "# file_path = \"path_to_file.parquet\"\n",
        "# result = analyze_characters_all_columns(file_path)\n",
        "# print(result)\n"
      ],
      "metadata": {
        "id": "1y3BKvtvb7cI"
      },
      "execution_count": null,
      "outputs": []
    },
    {
      "cell_type": "code",
      "source": [
        "file_path = \"your_file.parquet\"\n",
        "result = analyze_characters_all_columns(file_path)\n",
        "print(result)\n"
      ],
      "metadata": {
        "id": "ZXhGBGVaD3DS"
      },
      "execution_count": null,
      "outputs": []
    }
  ]
}