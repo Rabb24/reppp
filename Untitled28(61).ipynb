{
  "nbformat": 4,
  "nbformat_minor": 0,
  "metadata": {
    "colab": {
      "provenance": []
    },
    "kernelspec": {
      "name": "python3",
      "display_name": "Python 3"
    },
    "language_info": {
      "name": "python"
    }
  },
  "cells": [
    {
      "cell_type": "code",
      "source": [
        "from docx import Document\n",
        "from docx.oxml.ns import qn\n",
        "from docx.shared import Pt\n",
        "from copy import deepcopy\n",
        "\n",
        "def copy_table(source_table, target_document):\n",
        "    # Kopiuje tabelę z jednego dokumentu do drugiego\n",
        "    target_table = target_document.add_table(rows=source_table.rows, cols=source_table.columns)\n",
        "    for row_idx, row in enumerate(source_table.rows):\n",
        "        for col_idx, cell in enumerate(row.cells):\n",
        "            target_table.cell(row_idx, col_idx).text = cell.text\n",
        "            # Opcjonalnie można dodać kopię formatowania, ale wymaga to bardziej zaawansowanego kodu.\n",
        "\n",
        "def copy_image(source_paragraph, target_document):\n",
        "    # Kopiuje obraz z paragrafu źródłowego do nowego dokumentu\n",
        "    for run in source_paragraph.runs:\n",
        "        if 'Graphic' in run._element.xml:\n",
        "            # Znajduje obraz w paragrafie\n",
        "            target_paragraph = target_document.add_paragraph()\n",
        "            target_run = target_paragraph.add_run()\n",
        "            target_run.add_picture(run.element.blip_rId)  # Kopiuje obraz, ale blip_rId może wymagać uwzględnienia\n",
        "\n",
        "def extract_sections(input_docx_path, output_docx_path, sections_to_extract):\n",
        "    # Otwórz plik wejściowy DOCX\n",
        "    doc = Document(input_docx_path)\n",
        "\n",
        "    # Utwórz nowy dokument, który będzie przechowywać wybrane sekcje\n",
        "    new_doc = Document()\n",
        "\n",
        "    # Flaga, która kontroluje, czy kopiujemy zawartość\n",
        "    copy_content = False\n",
        "\n",
        "    for element in doc.element.body:\n",
        "        # Sprawdź, czy element to paragraf\n",
        "        if element.tag == qn('w:p'):\n",
        "            para = Document(element)._element\n",
        "            para_obj = para.xpath('.//w:t')[0]\n",
        "            paragraph = doc._element.xpath('.//w:t')[0]\n",
        "            if para.style.name in ['Heading 1', 'Heading 2', 'Heading 3']:\n",
        "                if paragraph.text in sections_to_extract:\n",
        "                    copy_content = True\n",
        "                    new_doc.add_paragraph(paragraph.text, style=paragraph.style)\n",
        "                else:\n",
        "                    copy_content = False\n",
        "            if copy_content:\n",
        "                new_doc.add_paragraph(paragraph.text, style=paragraph.style)\n",
        "        elif element.tag == qn('w:tbl'):\n",
        "            # Kopiowanie tabeli\n",
        "            if copy_content:\n",
        "                copy_table(doc.tables[0], new_doc)\n",
        "        elif element.tag == qn('w:p'):\n",
        "            # Kopiowanie obrazów\n",
        "            for run in element.runs:\n",
        "                if 'Graphic' in run._element.xml:\n",
        "                    copy_image(run, new_doc)\n",
        "\n",
        "    # Zapisz nowy dokument\n",
        "    new_doc.save(output_docx_path)\n",
        "    print(f\"Nowy plik został zapisany jako: {output_docx_path}\")\n",
        "\n",
        "# Przykład użycia:\n",
        "input_path = \"dokument_wejsciowy.docx\"\n",
        "output_path = \"wybrane_sekcje.docx\"\n",
        "sections = [\"Wstęp\", \"Rozdział 1\", \"Podrozdział 1.1\"]  # Wybierz sekcje do wyodrębnienia\n",
        "\n",
        "extract_sections(input_path, output_path, sections)\n"
      ],
      "metadata": {
        "id": "56HsuaUYX_sF"
      },
      "execution_count": null,
      "outputs": []
    },
    {
      "cell_type": "code",
      "source": [],
      "metadata": {
        "id": "jt0kt4ePGcJn"
      },
      "execution_count": null,
      "outputs": []
    },
    {
      "cell_type": "code",
      "source": [],
      "metadata": {
        "id": "WfdkQpqSGcL3"
      },
      "execution_count": null,
      "outputs": []
    },
    {
      "cell_type": "code",
      "source": [],
      "metadata": {
        "id": "i14BWGXuGcPa"
      },
      "execution_count": null,
      "outputs": []
    }
  ]
}