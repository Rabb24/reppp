{
  "nbformat": 4,
  "nbformat_minor": 0,
  "metadata": {
    "colab": {
      "provenance": []
    },
    "kernelspec": {
      "name": "python3",
      "display_name": "Python 3"
    },
    "language_info": {
      "name": "python"
    }
  },
  "cells": [
    {
      "cell_type": "code",
      "source": [
        "import pandas as pd\n",
        "\n",
        "def find_false_negatives(csv_file, parquet_file, output_csv):\n",
        "    # Wczytanie plików\n",
        "    csv_df = pd.read_csv(csv_file)\n",
        "    parquet_df = pd.read_parquet(parquet_file)\n",
        "\n",
        "    # Lista do przechowywania wyników\n",
        "    false_negatives = []\n",
        "\n",
        "    # Przeszukiwanie pliku Parquet\n",
        "    for _, parquet_row in parquet_df.iterrows():\n",
        "        record_id = parquet_row['id']\n",
        "        ground_truth = parquet_row['x']\n",
        "\n",
        "        # Sprawdzenie, czy dany id istnieje w pliku CSV i jakie są jego wartości\n",
        "        csv_match = csv_df[csv_df['id'] == record_id]\n",
        "\n",
        "        if not csv_match.empty:\n",
        "            prediction_95 = csv_match['prediction_95'].values[0]\n",
        "            # Sprawdzenie warunków dla False Negative\n",
        "            if ground_truth == 1 and prediction_95 == 0:\n",
        "                false_negatives.append(parquet_row)\n",
        "\n",
        "    # Konwersja wyników na DataFrame\n",
        "    false_negatives_df = pd.DataFrame(false_negatives)\n",
        "\n",
        "    # Zapisanie wyników do nowego pliku CSV\n",
        "    false_negatives_df.to_csv(output_csv, index=False)\n",
        "\n",
        "    print(f\"Zapisano {len(false_negatives_df)} rekordów do pliku {output_csv}.\")\n",
        "\n",
        "# Przykład użycia funkcji\n",
        "find_false_negatives('plik.csv', 'plik.parquet', 'false_negatives.csv')\n"
      ],
      "metadata": {
        "id": "avdyCWkNWuBK"
      },
      "execution_count": null,
      "outputs": []
    },
    {
      "cell_type": "code",
      "source": [],
      "metadata": {
        "id": "b_nG3KDxWuDy"
      },
      "execution_count": null,
      "outputs": []
    },
    {
      "cell_type": "code",
      "source": [],
      "metadata": {
        "id": "kGu6fENUWuGG"
      },
      "execution_count": null,
      "outputs": []
    },
    {
      "cell_type": "code",
      "source": [],
      "metadata": {
        "id": "k1EGrIuqWuJw"
      },
      "execution_count": null,
      "outputs": []
    }
  ]
}