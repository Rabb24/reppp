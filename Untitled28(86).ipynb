{
  "nbformat": 4,
  "nbformat_minor": 0,
  "metadata": {
    "colab": {
      "provenance": []
    },
    "kernelspec": {
      "name": "python3",
      "display_name": "Python 3"
    },
    "language_info": {
      "name": "python"
    }
  },
  "cells": [
    {
      "cell_type": "markdown",
      "source": [
        "pix2struct-base"
      ],
      "metadata": {
        "id": "KFNLZK93fTGX"
      }
    },
    {
      "cell_type": "code",
      "source": [
        "pip install transformers torch pillow"
      ],
      "metadata": {
        "id": "Ek217qRme3ku"
      },
      "execution_count": null,
      "outputs": []
    },
    {
      "cell_type": "code",
      "source": [
        "import torch\n",
        "from transformers import Pix2StructProcessor, Pix2StructForConditionalGeneration\n",
        "from PIL import Image\n",
        "\n",
        "# Ścieżka do folderu, w którym znajdują się lokalne pliki modelu\n",
        "model_path = \"./path_to_model_folder\"\n",
        "processor_path = \"./path_to_model_folder\"\n",
        "image_path = \"./path_to_image/sample_image.png\"  # Ścieżka do lokalnego obrazu PNG\n",
        "\n",
        "# Załaduj model i procesor z lokalnego folderu\n",
        "processor = Pix2StructProcessor.from_pretrained(processor_path)\n",
        "model = Pix2StructForConditionalGeneration.from_pretrained(model_path)\n",
        "\n",
        "# Przenieś model na CPU (lub GPU jeśli masz, wtedy 'cuda' zamiast 'cpu')\n",
        "device = torch.device(\"cpu\")\n",
        "model.to(device)\n",
        "\n",
        "# Załaduj obraz PNG\n",
        "image = Image.open(image_path)\n",
        "\n",
        "# Przetwórz obraz do formatu wymaganego przez model\n",
        "pixel_values = processor(images=image, return_tensors=\"pt\").pixel_values\n",
        "pixel_values = pixel_values.to(device)\n",
        "\n",
        "# Wygeneruj tekst (podsumowanie)\n",
        "generated_ids = model.generate(pixel_values, max_new_tokens=128)\n",
        "\n",
        "# Zdekoduj wygenerowane ID na tekst\n",
        "generated_text = processor.batch_decode(generated_ids, skip_special_tokens=True)[0]\n",
        "print(\"Wygenerowany tekst:\", generated_text)\n"
      ],
      "metadata": {
        "id": "g1MrsV0De3iH"
      },
      "execution_count": null,
      "outputs": []
    },
    {
      "cell_type": "code",
      "source": [],
      "metadata": {
        "id": "E1Sc0OmQe3ed"
      },
      "execution_count": null,
      "outputs": []
    },
    {
      "cell_type": "code",
      "source": [
        "pip install transformers safetensors torch pillow"
      ],
      "metadata": {
        "id": "j0uCcTFze3a0"
      },
      "execution_count": null,
      "outputs": []
    },
    {
      "cell_type": "code",
      "source": [
        "import torch\n",
        "from transformers import Pix2StructProcessor, Pix2StructForConditionalGeneration\n",
        "from safetensors.torch import load_file  # Import do ładowania wag w formacie safetensors\n",
        "from PIL import Image\n",
        "\n",
        "# Ścieżka do folderu z plikami modelu i procesora oraz pliku safetensors\n",
        "model_path = \"./path_to_model_folder\"\n",
        "safetensors_weights_path = \"./path_to_model_folder/pix2struct-base.safetensors\"  # Ścieżka do pliku safetensors\n",
        "processor_path = \"./path_to_model_folder\"\n",
        "image_path = \"./path_to_image/sample_image.png\"  # Ścieżka do lokalnego obrazu PNG\n",
        "\n",
        "# Załaduj procesor\n",
        "processor = Pix2StructProcessor.from_pretrained(processor_path)\n",
        "\n",
        "# Załaduj wagi modelu z pliku safetensors\n",
        "state_dict = load_file(safetensors_weights_path)\n",
        "\n",
        "# Załaduj model i przypisz wagi\n",
        "model = Pix2StructForConditionalGeneration.from_pretrained(model_path, state_dict=state_dict)\n",
        "\n",
        "# Przenieś model na CPU (lub GPU, jeśli jest dostępne)\n",
        "device = torch.device(\"cpu\")\n",
        "model.to(device)\n",
        "\n",
        "# Załaduj obraz PNG\n",
        "image = Image.open(image_path)\n",
        "\n",
        "# Przetwórz obraz do formatu wymaganego przez model\n",
        "pixel_values = processor(images=image, return_tensors=\"pt\").pixel_values\n",
        "pixel_values = pixel_values.to(device)\n",
        "\n",
        "# Wygeneruj tekst na podstawie obrazu\n",
        "generated_ids = model.generate(pixel_values, max_new_tokens=128)\n",
        "\n",
        "# Zdekoduj wygenerowane ID na tekst\n",
        "generated_text = processor.batch_decode(generated_ids, skip_special_tokens=True)[0]\n",
        "print(\"Wygenerowany tekst:\", generated_text)"
      ],
      "metadata": {
        "id": "sGHuc0a8e3YD"
      },
      "execution_count": null,
      "outputs": []
    }
  ]
}