{
  "nbformat": 4,
  "nbformat_minor": 0,
  "metadata": {
    "colab": {
      "provenance": []
    },
    "kernelspec": {
      "name": "python3",
      "display_name": "Python 3"
    },
    "language_info": {
      "name": "python"
    }
  },
  "cells": [
    {
      "cell_type": "code",
      "source": [
        "def extract_sections_to_file(txt_filename, headers_to_extract, output_filename):\n",
        "    \"\"\"\n",
        "    Funkcja wycina fragmenty tekstu między podanymi nagłówkami i zapisuje je do jednego pliku.\n",
        "\n",
        "    :param txt_filename: Nazwa pliku tekstowego do przeszukania.\n",
        "    :param headers_to_extract: Lista nagłówków (z #, ##, ###), które chcemy wyodrębnić.\n",
        "    :param output_filename: Nazwa pliku, do którego zapisane zostaną wyodrębnione sekcje.\n",
        "    \"\"\"\n",
        "    with open(txt_filename, 'r', encoding='utf-8') as file:\n",
        "        lines = file.readlines()\n",
        "\n",
        "    extracted_text = []\n",
        "    current_section = None\n",
        "    section_text = []\n",
        "\n",
        "    for line in lines:\n",
        "        # Sprawdzamy, czy linia jest nagłówkiem (musi zaczynać się od #, ## lub ###)\n",
        "        if line.startswith('#'):\n",
        "            # Jeśli linia jest jednym z wybranych nagłówków, rozpoczynamy zbieranie\n",
        "            header = line.strip()\n",
        "\n",
        "            if header in headers_to_extract:\n",
        "                # Jeśli już zbieramy inną sekcję, zakończ jej zbieranie\n",
        "                if current_section:\n",
        "                    extracted_text.append(''.join(section_text))\n",
        "                    section_text = []  # Resetujemy zbierany tekst dla nowej sekcji\n",
        "\n",
        "                # Rozpoczynamy nową sekcję\n",
        "                current_section = header\n",
        "                section_text.append(line)  # Dodajemy linię nagłówka\n",
        "            elif current_section:\n",
        "                # Jeśli jesteśmy w trakcie zbierania, a pojawia się nowy nagłówek, przerywamy\n",
        "                # ekstrakcję tej sekcji, bo napotkaliśmy kolejny nagłówek (również #, ##, ###)\n",
        "                if line.startswith('#') and line.count('#') <= header.count('#'):\n",
        "                    extracted_text.append(''.join(section_text))\n",
        "                    current_section = None\n",
        "                    section_text = []\n",
        "\n",
        "        # Zbieranie tekstu, dopóki nie napotkamy kolejnego nagłówka\n",
        "        if current_section:\n",
        "            section_text.append(line)\n",
        "\n",
        "    # Zapisujemy ostatnią sekcję, jeśli była zbierana\n",
        "    if current_section:\n",
        "        extracted_text.append(''.join(section_text))\n",
        "\n",
        "    # Zapisujemy wyodrębnione sekcje do wybranego pliku\n",
        "    with open(output_filename, 'w', encoding='utf-8') as output_file:\n",
        "        output_file.write('\\n'.join(extracted_text))\n",
        "\n",
        "    print(f\"Zapisano wybrane sekcje do pliku: {output_filename}\")\n"
      ],
      "metadata": {
        "id": "YY99ydImp7Xw"
      },
      "execution_count": null,
      "outputs": []
    },
    {
      "cell_type": "code",
      "source": [
        "headers_to_extract = [\n",
        "    '# Rozdział 1',\n",
        "    '## Podrozdział 1.2'\n",
        "]\n",
        "\n",
        "extract_sections_to_file('wynik.txt', headers_to_extract, 'wybrane_rozdzialy.txt')\n"
      ],
      "metadata": {
        "id": "A4BiqT1wp7bZ"
      },
      "execution_count": null,
      "outputs": []
    }
  ]
}